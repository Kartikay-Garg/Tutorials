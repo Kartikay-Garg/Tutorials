{
 "cells": [
  {
   "cell_type": "markdown",
   "id": "b02fe243-80d9-497d-b1e1-34d0c5fc6809",
   "metadata": {},
   "source": [
    "# File Handling"
   ]
  },
  {
   "cell_type": "code",
   "execution_count": 1,
   "id": "49270e86-59ac-4189-8461-d345236d1ff2",
   "metadata": {},
   "outputs": [
    {
     "name": "stdout",
     "output_type": "stream",
     "text": [
      " Decorators.ipynb                     \u001b[0m\u001b[01;34m__pycache__\u001b[0m/                 test1.txt\n",
      " error.txt                           'Python Advanced.ipynb'       test2.txt\n",
      "'Exception Handling.ipynb'           'Python Fundamentals.ipynb'   test3.txt\n",
      "\"File Handling Using Python'.ipynb\"  'Stats Practical.ipynb'       test.txt\n"
     ]
    }
   ],
   "source": [
    "%ls"
   ]
  },
  {
   "cell_type": "code",
   "execution_count": 2,
   "id": "a93f4af5-e9cd-4012-a6fd-f488121a4284",
   "metadata": {},
   "outputs": [
    {
     "name": "stdout",
     "output_type": "stream",
     "text": [
      " Decorators.ipynb\t\t      __pycache__\t\t   test1.txt\n",
      " error.txt\t\t\t     'Python Advanced.ipynb'\t   test2.txt\n",
      "'Exception Handling.ipynb'\t     'Python Fundamentals.ipynb'   test3.txt\n",
      "\"File Handling Using Python'.ipynb\"  'Stats Practical.ipynb'\t   test.txt\n"
     ]
    }
   ],
   "source": [
    "!ls"
   ]
  },
  {
   "cell_type": "code",
   "execution_count": 3,
   "id": "68e59a2e-c14e-4b1f-a170-adad120eccc1",
   "metadata": {},
   "outputs": [
    {
     "data": {
      "text/plain": [
       "'/home/jovyan/work'"
      ]
     },
     "execution_count": 3,
     "metadata": {},
     "output_type": "execute_result"
    }
   ],
   "source": [
    "pwd()"
   ]
  },
  {
   "cell_type": "code",
   "execution_count": 4,
   "id": "421e18dc-3267-4d87-ab71-e87d246d7093",
   "metadata": {},
   "outputs": [
    {
     "data": {
      "text/plain": [
       "'write code\\nfirst line\\nsecond line\\nthird\\nineuron\\n[1,2,3,4,5,6,7,8]\\n(1,2,3,4,5,6,7,8,9)'"
      ]
     },
     "execution_count": 4,
     "metadata": {},
     "output_type": "execute_result"
    }
   ],
   "source": [
    "f = open(\"test.txt\")\n",
    "f.read()"
   ]
  },
  {
   "cell_type": "code",
   "execution_count": 5,
   "id": "808c9236-6162-4c23-acc8-aa2f2a30fe56",
   "metadata": {},
   "outputs": [
    {
     "data": {
      "text/plain": [
       "_io.TextIOWrapper"
      ]
     },
     "execution_count": 5,
     "metadata": {},
     "output_type": "execute_result"
    }
   ],
   "source": [
    "type(f)"
   ]
  },
  {
   "cell_type": "code",
   "execution_count": 6,
   "id": "bd645599-fe04-4543-bab8-db4c0ee9cdd1",
   "metadata": {},
   "outputs": [],
   "source": [
    "f.close()"
   ]
  },
  {
   "cell_type": "markdown",
   "id": "ae17f950-2cb7-4ce7-834d-c93108b53c3e",
   "metadata": {},
   "source": [
    "# 2 types of file:\n",
    "\n",
    "        1. Binary file:\n",
    "            we use to store media, images, video, etc here\n",
    "        2. txt file:\n",
    "            all the written matter is stoerd in the txt file"
   ]
  },
  {
   "cell_type": "code",
   "execution_count": 7,
   "id": "81b48ec4-1f2f-4b82-bfdc-a73d7bfbe674",
   "metadata": {},
   "outputs": [],
   "source": [
    "# to read a file:"
   ]
  },
  {
   "cell_type": "code",
   "execution_count": 8,
   "id": "41c272a7-d903-4413-bb05-0222ffc216fc",
   "metadata": {},
   "outputs": [],
   "source": [
    "f = open('test.txt')"
   ]
  },
  {
   "cell_type": "code",
   "execution_count": 9,
   "id": "701ab876-8f9e-4209-be91-1d90058bc7b9",
   "metadata": {},
   "outputs": [
    {
     "data": {
      "text/plain": [
       "'write code\\nfirst line\\nsecond line\\nthird\\nineuron\\n[1,2,3,4,5,6,7,8]\\n(1,2,3,4,5,6,7,8,9)'"
      ]
     },
     "execution_count": 9,
     "metadata": {},
     "output_type": "execute_result"
    }
   ],
   "source": [
    "f.read()"
   ]
  },
  {
   "cell_type": "code",
   "execution_count": 10,
   "id": "243de066-3ca6-4b3f-b1d2-832f3e97d704",
   "metadata": {},
   "outputs": [
    {
     "data": {
      "text/plain": [
       "''"
      ]
     },
     "execution_count": 10,
     "metadata": {},
     "output_type": "execute_result"
    }
   ],
   "source": [
    "f.read()"
   ]
  },
  {
   "cell_type": "code",
   "execution_count": 11,
   "id": "2601e692-735c-4756-89eb-8ddbdb1ac957",
   "metadata": {},
   "outputs": [],
   "source": [
    "f.close()"
   ]
  },
  {
   "cell_type": "code",
   "execution_count": 12,
   "id": "2e160db1-7ba7-4705-9810-0d421f55622d",
   "metadata": {},
   "outputs": [],
   "source": [
    "f = open('test.txt')"
   ]
  },
  {
   "cell_type": "code",
   "execution_count": 13,
   "id": "6567fff0-d6b3-46e9-a5c1-d689382ccb03",
   "metadata": {},
   "outputs": [
    {
     "data": {
      "text/plain": [
       "'write'"
      ]
     },
     "execution_count": 13,
     "metadata": {},
     "output_type": "execute_result"
    }
   ],
   "source": [
    "f.read(5)"
   ]
  },
  {
   "cell_type": "code",
   "execution_count": 14,
   "id": "6536424e-1ddc-4d4e-8f82-9fd0d32b6ccc",
   "metadata": {},
   "outputs": [
    {
     "data": {
      "text/plain": [
       "' code'"
      ]
     },
     "execution_count": 14,
     "metadata": {},
     "output_type": "execute_result"
    }
   ],
   "source": [
    "f.read(5)"
   ]
  },
  {
   "cell_type": "code",
   "execution_count": 15,
   "id": "aa4dc8ce-e9f6-4720-a335-4cc298f43f23",
   "metadata": {},
   "outputs": [
    {
     "data": {
      "text/plain": [
       "10"
      ]
     },
     "execution_count": 15,
     "metadata": {},
     "output_type": "execute_result"
    }
   ],
   "source": [
    "f.tell() # current file position"
   ]
  },
  {
   "cell_type": "code",
   "execution_count": 16,
   "id": "15539c6b-32f3-4f06-a981-885909531642",
   "metadata": {},
   "outputs": [
    {
     "data": {
      "text/plain": [
       "0"
      ]
     },
     "execution_count": 16,
     "metadata": {},
     "output_type": "execute_result"
    }
   ],
   "source": [
    "f.seek(0)"
   ]
  },
  {
   "cell_type": "code",
   "execution_count": 17,
   "id": "a644b99b-b289-4713-b0e5-f288f97879fc",
   "metadata": {},
   "outputs": [
    {
     "data": {
      "text/plain": [
       "'write'"
      ]
     },
     "execution_count": 17,
     "metadata": {},
     "output_type": "execute_result"
    }
   ],
   "source": [
    "f.read(5)"
   ]
  },
  {
   "cell_type": "code",
   "execution_count": 18,
   "id": "1c496cba-c2a0-4c60-aa3b-9691908672e5",
   "metadata": {},
   "outputs": [
    {
     "data": {
      "text/plain": [
       "5"
      ]
     },
     "execution_count": 18,
     "metadata": {},
     "output_type": "execute_result"
    }
   ],
   "source": [
    "f.tell()"
   ]
  },
  {
   "cell_type": "code",
   "execution_count": 19,
   "id": "2d7c5fb5-b0d6-4548-a3b6-480a7cab8a92",
   "metadata": {},
   "outputs": [
    {
     "data": {
      "text/plain": [
       "[' code\\n',\n",
       " 'first line\\n',\n",
       " 'second line\\n',\n",
       " 'third\\n',\n",
       " 'ineuron\\n',\n",
       " '[1,2,3,4,5,6,7,8]\\n',\n",
       " '(1,2,3,4,5,6,7,8,9)']"
      ]
     },
     "execution_count": 19,
     "metadata": {},
     "output_type": "execute_result"
    }
   ],
   "source": [
    "f.readlines() # reads complete text and throws you the list"
   ]
  },
  {
   "cell_type": "code",
   "execution_count": 20,
   "id": "d8de18ef-2876-445b-baee-31b41ce04c10",
   "metadata": {},
   "outputs": [],
   "source": [
    "f.close()"
   ]
  },
  {
   "cell_type": "code",
   "execution_count": 21,
   "id": "c466bb6a-a592-463c-9026-a225253b2dcc",
   "metadata": {},
   "outputs": [],
   "source": [
    "f = open(\"test.txt\",\"r\")"
   ]
  },
  {
   "cell_type": "code",
   "execution_count": 22,
   "id": "0b81cc8b-9d6d-466b-a7e8-601b3a1c6a0b",
   "metadata": {},
   "outputs": [
    {
     "data": {
      "text/plain": [
       "'write code\\n'"
      ]
     },
     "execution_count": 22,
     "metadata": {},
     "output_type": "execute_result"
    }
   ],
   "source": [
    "f.readline() # reads single line at a time"
   ]
  },
  {
   "cell_type": "code",
   "execution_count": 23,
   "id": "27b94ee8-0b09-45c2-accb-5e6cf0b815c0",
   "metadata": {},
   "outputs": [],
   "source": [
    "try:\n",
    "    f = open('test.txt')\n",
    "finally:\n",
    "    f.close"
   ]
  },
  {
   "cell_type": "code",
   "execution_count": 24,
   "id": "3de11f81-55cf-4c19-9010-6943b989d5da",
   "metadata": {},
   "outputs": [],
   "source": [
    "with open(\"test.txt\") as f:\n",
    "    f.read()\n",
    "    pass"
   ]
  },
  {
   "cell_type": "code",
   "execution_count": 25,
   "id": "946b793d-4e8a-498f-91a8-acc8f9f65d1c",
   "metadata": {},
   "outputs": [],
   "source": [
    "# write a file"
   ]
  },
  {
   "cell_type": "code",
   "execution_count": 26,
   "id": "585929f4-aebd-4c2e-b6a9-0891bd062348",
   "metadata": {},
   "outputs": [],
   "source": [
    "f = open(\"test1.txt\",\"w\")"
   ]
  },
  {
   "cell_type": "code",
   "execution_count": 27,
   "id": "e9957b01-387e-46be-b00d-332e2f9b4dd0",
   "metadata": {},
   "outputs": [
    {
     "data": {
      "text/plain": [
       "7"
      ]
     },
     "execution_count": 27,
     "metadata": {},
     "output_type": "execute_result"
    }
   ],
   "source": [
    "data = \"ineuron\"\n",
    "f.write(data)"
   ]
  },
  {
   "cell_type": "code",
   "execution_count": 28,
   "id": "5fd7ae13-53c6-4acb-92b7-962e40b7ff9b",
   "metadata": {},
   "outputs": [],
   "source": [
    "f.close()"
   ]
  },
  {
   "cell_type": "markdown",
   "id": "473da2a5-32a9-409e-8696-7a4f1aaca08c",
   "metadata": {},
   "source": [
    "### Whenever we are opening a file in read mode, the file should be existing in the folder but if we are opening a file in a write mode it is not necessary that file to be present.It automatically gets created. "
   ]
  },
  {
   "cell_type": "code",
   "execution_count": 29,
   "id": "e1e26821-87d6-4b7e-89b8-04fa762f203b",
   "metadata": {},
   "outputs": [],
   "source": [
    "with open(\"test2.txt\",\"w\") as  f:\n",
    "    f.write(\"first line\\n\")\n",
    "    f.write(\"second line\\n\")\n",
    "    f.write(\"third line\\n\")\n",
    "    f.write(\"fourth line\\n\")\n",
    "    f.write(\"fifth line\\n\")"
   ]
  },
  {
   "cell_type": "code",
   "execution_count": 30,
   "id": "d9e19471-5176-45bb-a489-287e019247f7",
   "metadata": {},
   "outputs": [
    {
     "name": "stdin",
     "output_type": "stream",
     "text": [
      "enter the first number:  4\n",
      "enter the second number:  8\n"
     ]
    },
    {
     "name": "stdout",
     "output_type": "stream",
     "text": [
      "this will execute once try is success\n"
     ]
    }
   ],
   "source": [
    "try:\n",
    "    a = int(input(\"enter the first number: \"))\n",
    "    b = int(input(\"enter the second number: \"))\n",
    "    c = a/b\n",
    "except ArithmeticError as e:\n",
    "    print(\"There is some issue with my code \",e)\n",
    "    f = open(\"error.txt\",\"w+\")\n",
    "    f.write(\"hi\")\n",
    "    f.write(str(e))\n",
    "    f.read()\n",
    "else:\n",
    "    print(\"this will execute once try is success\")\n",
    "    try:\n",
    "        f = open(\"test3.txt\",\"w\")\n",
    "        f.write(\"hello world\")\n",
    "    except:\n",
    "        print(\"this is an issue with the try block\")\n",
    "        "
   ]
  },
  {
   "cell_type": "code",
   "execution_count": 31,
   "id": "0667aac9-3f00-415b-831b-8d01312bade2",
   "metadata": {},
   "outputs": [
    {
     "name": "stdin",
     "output_type": "stream",
     "text": [
      "enter the first number:  5\n",
      "enter the second number:  0\n"
     ]
    },
    {
     "name": "stdout",
     "output_type": "stream",
     "text": [
      "There is some issue with my code  division by zero\n"
     ]
    }
   ],
   "source": [
    "try:\n",
    "    a = int(input(\"enter the first number: \"))\n",
    "    b = int(input(\"enter the second number: \"))\n",
    "    c = a/b\n",
    "except ArithmeticError as e:\n",
    "    print(\"There is some issue with my code \",e)\n",
    "    f = open(\"error.txt\",\"w+\")\n",
    "    f.write(\"hi\")\n",
    "    f.write(str(e))\n",
    "    f.read()\n",
    "else:\n",
    "    print(\"this will execute once try is success\")\n",
    "    try:\n",
    "        f = open(\"test3.txt\",\"w\")\n",
    "        f.write(\"hello world\")\n",
    "    except:\n",
    "        print(\"this is an issue with the try block\")\n",
    "        "
   ]
  },
  {
   "cell_type": "code",
   "execution_count": 32,
   "id": "0670c2d7-e7cb-4192-8058-162023bebc71",
   "metadata": {},
   "outputs": [
    {
     "name": "stdout",
     "output_type": "stream",
     "text": [
      " Decorators.ipynb\t\t      __pycache__\t\t   test1.txt\n",
      " error.txt\t\t\t     'Python Advanced.ipynb'\t   test2.txt\n",
      "'Exception Handling.ipynb'\t     'Python Fundamentals.ipynb'   test3.txt\n",
      "\"File Handling Using Python'.ipynb\"  'Stats Practical.ipynb'\t   test.txt\n"
     ]
    }
   ],
   "source": [
    "!ls"
   ]
  },
  {
   "cell_type": "code",
   "execution_count": 33,
   "id": "d977e4a9-4ff2-4fad-a5d4-0deccf2f1121",
   "metadata": {},
   "outputs": [
    {
     "data": {
      "text/plain": [
       "'error.txt'"
      ]
     },
     "execution_count": 33,
     "metadata": {},
     "output_type": "execute_result"
    }
   ],
   "source": [
    "f.name"
   ]
  },
  {
   "cell_type": "code",
   "execution_count": 34,
   "id": "d473f755-3d37-4d85-87e0-b4d7bc0d777d",
   "metadata": {},
   "outputs": [
    {
     "data": {
      "text/plain": [
       "<_io.TextIOWrapper name='error.txt' mode='w+' encoding='UTF-8'>"
      ]
     },
     "execution_count": 34,
     "metadata": {},
     "output_type": "execute_result"
    }
   ],
   "source": [
    "f"
   ]
  },
  {
   "cell_type": "code",
   "execution_count": 35,
   "id": "12989165-1dfd-43c9-a4be-52c366a3cd36",
   "metadata": {},
   "outputs": [],
   "source": [
    "# r: open a file for reading\n",
    "# w: opens a file for writing and creates a new file if it does not exits or truncates the file if exits\n",
    "# x: opens a file for exclusive creation if the file already exits the operation will fail\n",
    "# a: open a file for appending at the end of the file\n",
    "# +: opens a file for updating (reading or writing)"
   ]
  }
 ],
 "metadata": {
  "kernelspec": {
   "display_name": "Python 3 (ipykernel)",
   "language": "python",
   "name": "python3"
  },
  "language_info": {
   "codemirror_mode": {
    "name": "ipython",
    "version": 3
   },
   "file_extension": ".py",
   "mimetype": "text/x-python",
   "name": "python",
   "nbconvert_exporter": "python",
   "pygments_lexer": "ipython3",
   "version": "3.10.6"
  }
 },
 "nbformat": 4,
 "nbformat_minor": 5
}
