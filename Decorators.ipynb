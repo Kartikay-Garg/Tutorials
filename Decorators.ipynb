{
 "cells": [
  {
   "cell_type": "code",
   "execution_count": 1,
   "id": "a30ff754-eac1-4a14-8064-60472df2bb9a",
   "metadata": {},
   "outputs": [],
   "source": [
    "def test(name):\n",
    "    \"\"\"\n",
    "    this function greets to the person\n",
    "    \n",
    "    \"\"\"\n",
    "    print(\"Hello, \"+ name + \"! Good morning.\")"
   ]
  },
  {
   "cell_type": "code",
   "execution_count": 2,
   "id": "b4af569c-ee63-44cc-b847-a3d979cdab8b",
   "metadata": {},
   "outputs": [
    {
     "name": "stdout",
     "output_type": "stream",
     "text": [
      "Hello, Kartikay Garg! Good morning.\n"
     ]
    }
   ],
   "source": [
    "test(\"Kartikay Garg\")"
   ]
  },
  {
   "cell_type": "code",
   "execution_count": 3,
   "id": "a33b386f-3599-4df3-b5c8-258a99bf96a7",
   "metadata": {},
   "outputs": [
    {
     "name": "stdout",
     "output_type": "stream",
     "text": [
      "Hello, Kartikay Garg! Good morning.\n",
      "None\n"
     ]
    }
   ],
   "source": [
    "print(test(\"Kartikay Garg\"))"
   ]
  },
  {
   "cell_type": "code",
   "execution_count": 4,
   "id": "80a912bc-e330-4d2e-b42b-88fca8347434",
   "metadata": {},
   "outputs": [],
   "source": [
    "def absolute_value(num):\n",
    "    if num >= 0:\n",
    "        return num\n",
    "    else:\n",
    "        return -num"
   ]
  },
  {
   "cell_type": "code",
   "execution_count": 5,
   "id": "082cabe3-5024-4f59-b59d-1fc23169525b",
   "metadata": {},
   "outputs": [
    {
     "name": "stdout",
     "output_type": "stream",
     "text": [
      "2\n"
     ]
    }
   ],
   "source": [
    "print(absolute_value(2))"
   ]
  },
  {
   "cell_type": "code",
   "execution_count": 6,
   "id": "86cb1721-1b72-492d-ba69-5309b81e7d61",
   "metadata": {},
   "outputs": [],
   "source": [
    "def square(x):\n",
    "    return x*x"
   ]
  },
  {
   "cell_type": "code",
   "execution_count": 7,
   "id": "5aaa79fc-a1c9-4f4e-a2c1-19938a2ee52c",
   "metadata": {},
   "outputs": [
    {
     "data": {
      "text/plain": [
       "4"
      ]
     },
     "execution_count": 7,
     "metadata": {},
     "output_type": "execute_result"
    }
   ],
   "source": [
    "square(2)"
   ]
  },
  {
   "cell_type": "code",
   "execution_count": 8,
   "id": "a4cf07ac-df16-4be2-b9cb-0fe267c7455f",
   "metadata": {},
   "outputs": [],
   "source": [
    "f = square(3)"
   ]
  },
  {
   "cell_type": "code",
   "execution_count": 9,
   "id": "9d13ec67-e106-4363-a2fc-6cedb05e89e6",
   "metadata": {},
   "outputs": [
    {
     "data": {
      "text/plain": [
       "9"
      ]
     },
     "execution_count": 9,
     "metadata": {},
     "output_type": "execute_result"
    }
   ],
   "source": [
    "f"
   ]
  },
  {
   "cell_type": "code",
   "execution_count": 10,
   "id": "27961db3-3553-4658-99e6-6de92ae9554f",
   "metadata": {},
   "outputs": [
    {
     "data": {
      "text/plain": [
       "int"
      ]
     },
     "execution_count": 10,
     "metadata": {},
     "output_type": "execute_result"
    }
   ],
   "source": [
    "type(f)"
   ]
  },
  {
   "cell_type": "code",
   "execution_count": 11,
   "id": "593d3451-a304-4696-b1ef-3db0545b9224",
   "metadata": {},
   "outputs": [],
   "source": [
    "f = square"
   ]
  },
  {
   "cell_type": "code",
   "execution_count": 12,
   "id": "137f9387-276e-46e0-a415-5abb5d5841c1",
   "metadata": {},
   "outputs": [
    {
     "data": {
      "text/plain": [
       "function"
      ]
     },
     "execution_count": 12,
     "metadata": {},
     "output_type": "execute_result"
    }
   ],
   "source": [
    "type(f)"
   ]
  },
  {
   "cell_type": "code",
   "execution_count": 13,
   "id": "7177fb0e-7b51-4067-abaa-829c3fabd242",
   "metadata": {},
   "outputs": [
    {
     "data": {
      "text/plain": [
       "16"
      ]
     },
     "execution_count": 13,
     "metadata": {},
     "output_type": "execute_result"
    }
   ],
   "source": [
    "f(4)"
   ]
  },
  {
   "cell_type": "code",
   "execution_count": 14,
   "id": "7fc5108b-5606-4a28-814b-d82040ae10fa",
   "metadata": {},
   "outputs": [
    {
     "data": {
      "text/plain": [
       "25"
      ]
     },
     "execution_count": 14,
     "metadata": {},
     "output_type": "execute_result"
    }
   ],
   "source": [
    "f(5)"
   ]
  },
  {
   "cell_type": "code",
   "execution_count": 15,
   "id": "c2fc373d-868b-4a3c-8d5d-2352d76c2caa",
   "metadata": {},
   "outputs": [
    {
     "name": "stdout",
     "output_type": "stream",
     "text": [
      "<function square at 0x7fe959df9a20>\n",
      "<function square at 0x7fe959df9a20>\n"
     ]
    }
   ],
   "source": [
    "print(square)\n",
    "print(f)"
   ]
  },
  {
   "cell_type": "code",
   "execution_count": 16,
   "id": "7df9830b-6be1-4a36-bcaa-99d62847e022",
   "metadata": {},
   "outputs": [
    {
     "name": "stdout",
     "output_type": "stream",
     "text": [
      "16\n"
     ]
    }
   ],
   "source": [
    "print(f(4))"
   ]
  },
  {
   "cell_type": "code",
   "execution_count": 17,
   "id": "f8aa77ff-1b3c-4b10-9457-ece979d19378",
   "metadata": {},
   "outputs": [
    {
     "data": {
      "text/plain": [
       "16"
      ]
     },
     "execution_count": 17,
     "metadata": {},
     "output_type": "execute_result"
    }
   ],
   "source": [
    "f(4)"
   ]
  },
  {
   "cell_type": "markdown",
   "id": "7621a3a6-a8d4-4c2f-aa72-385fbef952e6",
   "metadata": {},
   "source": [
    "# Decorators"
   ]
  },
  {
   "cell_type": "code",
   "execution_count": 18,
   "id": "ba6a2b67-10e8-4e65-8d93-f8ce1f6524e4",
   "metadata": {},
   "outputs": [],
   "source": [
    "def outer_fun():\n",
    "    message = \"hi\"\n",
    "    \n",
    "    def inner_fun():\n",
    "        print(message)\n",
    "    return inner_fun()"
   ]
  },
  {
   "cell_type": "code",
   "execution_count": 19,
   "id": "d89c397e-76eb-4e85-85f6-c820840a3431",
   "metadata": {},
   "outputs": [
    {
     "name": "stdout",
     "output_type": "stream",
     "text": [
      "hi\n"
     ]
    }
   ],
   "source": [
    "outer_fun()"
   ]
  },
  {
   "cell_type": "code",
   "execution_count": 20,
   "id": "03dcb400-d41c-4ab6-bf87-d199974f048b",
   "metadata": {},
   "outputs": [],
   "source": [
    "def outer_fun():\n",
    "    message = \"hi\"\n",
    "    def inner_fun():\n",
    "        print(message)\n",
    "    return inner_fun"
   ]
  },
  {
   "cell_type": "code",
   "execution_count": 21,
   "id": "d2e26c40-9f09-4d2f-808a-022e1f9d98a0",
   "metadata": {},
   "outputs": [],
   "source": [
    "my_fun = outer_fun()"
   ]
  },
  {
   "cell_type": "code",
   "execution_count": 22,
   "id": "db730c6c-963a-4ad2-a719-5f6ad4f6008f",
   "metadata": {},
   "outputs": [
    {
     "data": {
      "text/plain": [
       "function"
      ]
     },
     "execution_count": 22,
     "metadata": {},
     "output_type": "execute_result"
    }
   ],
   "source": [
    "type(my_fun)"
   ]
  },
  {
   "cell_type": "code",
   "execution_count": 23,
   "id": "50eca77c-bbbe-44f3-894b-deb5e28219fb",
   "metadata": {},
   "outputs": [
    {
     "data": {
      "text/plain": [
       "<function __main__.outer_fun.<locals>.inner_fun()>"
      ]
     },
     "execution_count": 23,
     "metadata": {},
     "output_type": "execute_result"
    }
   ],
   "source": [
    "my_fun"
   ]
  },
  {
   "cell_type": "code",
   "execution_count": 24,
   "id": "e2f9c899-ed6c-4022-a428-4d3a3432f5ff",
   "metadata": {},
   "outputs": [],
   "source": [
    "my_fun = outer_fun"
   ]
  },
  {
   "cell_type": "code",
   "execution_count": 25,
   "id": "9fa938bc-e606-4ea0-adb7-0cf9478fd02d",
   "metadata": {},
   "outputs": [
    {
     "data": {
      "text/plain": [
       "function"
      ]
     },
     "execution_count": 25,
     "metadata": {},
     "output_type": "execute_result"
    }
   ],
   "source": [
    "type(my_fun)"
   ]
  },
  {
   "cell_type": "code",
   "execution_count": 26,
   "id": "65177135-f086-4315-91d9-252ecc7ee7e3",
   "metadata": {},
   "outputs": [
    {
     "data": {
      "text/plain": [
       "<function __main__.outer_fun.<locals>.inner_fun()>"
      ]
     },
     "execution_count": 26,
     "metadata": {},
     "output_type": "execute_result"
    }
   ],
   "source": [
    "my_fun()"
   ]
  },
  {
   "cell_type": "code",
   "execution_count": 27,
   "id": "ddb3f34d-2b4d-4fe7-8052-a2b79c9ef8fc",
   "metadata": {},
   "outputs": [],
   "source": [
    "def printer():\n",
    "    print(\"Hello World\")"
   ]
  },
  {
   "cell_type": "code",
   "execution_count": 28,
   "id": "fd05a05e-d1e9-4e4a-b640-8e64b304959e",
   "metadata": {},
   "outputs": [
    {
     "name": "stdout",
     "output_type": "stream",
     "text": [
      "Hello World\n"
     ]
    }
   ],
   "source": [
    "printer()"
   ]
  },
  {
   "cell_type": "code",
   "execution_count": 29,
   "id": "82cefddf-daaa-4a98-92d5-5641e414a229",
   "metadata": {},
   "outputs": [],
   "source": [
    "def display_info(func):\n",
    "    def inner():\n",
    "        print(\"Executing\",func.__name__,\"function\")\n",
    "        func()\n",
    "        print(\"finished executing\")\n",
    "    return inner"
   ]
  },
  {
   "cell_type": "code",
   "execution_count": 30,
   "id": "4c744649-3261-49a2-aac1-88ff9eaed66d",
   "metadata": {},
   "outputs": [],
   "source": [
    "decorated = display_info(printer)"
   ]
  },
  {
   "cell_type": "code",
   "execution_count": 31,
   "id": "86b6ada5-28a2-4be2-82ab-756d2777970d",
   "metadata": {},
   "outputs": [
    {
     "data": {
      "text/plain": [
       "function"
      ]
     },
     "execution_count": 31,
     "metadata": {},
     "output_type": "execute_result"
    }
   ],
   "source": [
    "type(decorated)"
   ]
  },
  {
   "cell_type": "code",
   "execution_count": 32,
   "id": "2e30d4ef-1cbc-4209-b648-89055406d855",
   "metadata": {},
   "outputs": [
    {
     "name": "stdout",
     "output_type": "stream",
     "text": [
      "Executing printer function\n",
      "Hello World\n",
      "finished executing\n"
     ]
    }
   ],
   "source": [
    "decorated()"
   ]
  },
  {
   "cell_type": "raw",
   "id": "1ca5b38b-4039-4820-b5ba-62047e7cb3fb",
   "metadata": {},
   "source": [
    "------------------------------------------------------------------------------------------------------------"
   ]
  },
  {
   "cell_type": "code",
   "execution_count": 33,
   "id": "ee07cee1-7001-4145-b683-ec98cf62ceac",
   "metadata": {},
   "outputs": [],
   "source": [
    "def display_info(func):\n",
    "    def inner():\n",
    "        print(\"Executing\",func.__name__,\"function\")\n",
    "        func()\n",
    "        print(\"finished executing\")\n",
    "    return inner"
   ]
  },
  {
   "cell_type": "code",
   "execution_count": 34,
   "id": "11234ad6-4c48-466a-b0fc-c2ec33252f9f",
   "metadata": {},
   "outputs": [],
   "source": [
    "@display_info\n",
    "def printer():\n",
    "    print(\"Hello World\")"
   ]
  },
  {
   "cell_type": "code",
   "execution_count": 35,
   "id": "55ceeeaf-818f-4eab-947b-dd0bbf57de3a",
   "metadata": {},
   "outputs": [
    {
     "name": "stdout",
     "output_type": "stream",
     "text": [
      "Executing printer function\n",
      "Hello World\n",
      "finished executing\n"
     ]
    }
   ],
   "source": [
    "printer()"
   ]
  },
  {
   "cell_type": "markdown",
   "id": "07503ef6-659f-43d4-a38c-e6d0102f18bf",
   "metadata": {},
   "source": [
    "====================================================================="
   ]
  },
  {
   "cell_type": "code",
   "execution_count": 36,
   "id": "e239897e-81aa-4980-ae9d-f01ebeb1ae89",
   "metadata": {},
   "outputs": [],
   "source": [
    "def divide(a,b):\n",
    "    return a/b"
   ]
  },
  {
   "cell_type": "code",
   "execution_count": 37,
   "id": "a71ac954-760d-40df-a566-7006b30067cc",
   "metadata": {},
   "outputs": [
    {
     "data": {
      "text/plain": [
       "0.4"
      ]
     },
     "execution_count": 37,
     "metadata": {},
     "output_type": "execute_result"
    }
   ],
   "source": [
    "divide(2,5)"
   ]
  },
  {
   "cell_type": "code",
   "execution_count": 38,
   "id": "d03b1c40-9926-48c9-a0e1-52721e211c49",
   "metadata": {},
   "outputs": [],
   "source": [
    "#divide(2,0)"
   ]
  },
  {
   "cell_type": "code",
   "execution_count": 39,
   "id": "68e5000e-8fc0-4098-a982-4a6222bcdd19",
   "metadata": {},
   "outputs": [],
   "source": [
    "def smart_divide(func):\n",
    "    def inner(a,b):\n",
    "        print(\"i am going to divide\",a,\" and \",b)\n",
    "        if b == 0:\n",
    "            print(\"cannot divide\")\n",
    "            return \n",
    "        return func(a,b)\n",
    "    return inner"
   ]
  },
  {
   "cell_type": "code",
   "execution_count": 40,
   "id": "dd24c13e-0aa4-470e-a9c9-ec373095c6f0",
   "metadata": {},
   "outputs": [],
   "source": [
    "@smart_divide\n",
    "def divide(a,b):\n",
    "    return a/b"
   ]
  },
  {
   "cell_type": "code",
   "execution_count": 41,
   "id": "237104b4-68f2-44f7-acf3-bc2c6ea3f6a6",
   "metadata": {},
   "outputs": [
    {
     "name": "stdout",
     "output_type": "stream",
     "text": [
      "i am going to divide 5  and  10\n"
     ]
    },
    {
     "data": {
      "text/plain": [
       "0.5"
      ]
     },
     "execution_count": 41,
     "metadata": {},
     "output_type": "execute_result"
    }
   ],
   "source": [
    "divide(5,10)"
   ]
  },
  {
   "cell_type": "code",
   "execution_count": 42,
   "id": "8a29a20a-bf96-4c64-99dc-e339cbd40793",
   "metadata": {},
   "outputs": [
    {
     "name": "stdout",
     "output_type": "stream",
     "text": [
      "i am going to divide 2  and  0\n",
      "cannot divide\n"
     ]
    }
   ],
   "source": [
    "divide(2,0)"
   ]
  },
  {
   "cell_type": "markdown",
   "id": "83dc45d1-a19b-4df4-a2df-c01918f66416",
   "metadata": {},
   "source": [
    "=========================================================================================="
   ]
  },
  {
   "cell_type": "code",
   "execution_count": 43,
   "id": "7c01e7cb-c0f3-4916-856d-c79988150d07",
   "metadata": {},
   "outputs": [],
   "source": [
    "def printer(msg):\n",
    "    print(msg)"
   ]
  },
  {
   "cell_type": "code",
   "execution_count": 44,
   "id": "dd3cc988-4251-4b71-8068-ded170b93e87",
   "metadata": {},
   "outputs": [],
   "source": [
    "def star(func):\n",
    "    def inner(*args,**kwargs):\n",
    "        print(\"*\"*30)\n",
    "        func(*args,**kwargs)\n",
    "        print(\"*\"*30)\n",
    "    return inner"
   ]
  },
  {
   "cell_type": "code",
   "execution_count": 45,
   "id": "0fa6ccf1-d00b-445b-b6d2-fe6f0497678b",
   "metadata": {},
   "outputs": [],
   "source": [
    "def percent(func):\n",
    "    def inner(*args,**kwargs):\n",
    "        print(\"%\"*30)\n",
    "        func(*args,**kwargs)\n",
    "        print(\"%\"*30)\n",
    "    return inner"
   ]
  },
  {
   "cell_type": "code",
   "execution_count": 46,
   "id": "28556ae4-06c5-406c-9204-bc66c31de394",
   "metadata": {},
   "outputs": [],
   "source": [
    "def star(func):\n",
    "    def inner(*args,**kwargs):\n",
    "        print(\"*\"*30)\n",
    "        func(*args,**kwargs)\n",
    "        print(\"*\"*30)\n",
    "    return inner\n",
    "def percent(func):\n",
    "    def inner(*args,**kwargs):\n",
    "        print(\"%\"*30)\n",
    "        func(*args,**kwargs)\n",
    "        print(\"%\"*30)\n",
    "    return inner"
   ]
  },
  {
   "cell_type": "code",
   "execution_count": 47,
   "id": "2ac95aae-d7c1-469a-9edd-80c0187ecbe4",
   "metadata": {},
   "outputs": [],
   "source": [
    "@star\n",
    "@percent\n",
    "def printer(msg):\n",
    "    print(msg)"
   ]
  },
  {
   "cell_type": "code",
   "execution_count": 48,
   "id": "bc365306-abd6-48b0-a1d4-2ba244a433ce",
   "metadata": {},
   "outputs": [
    {
     "name": "stdout",
     "output_type": "stream",
     "text": [
      "******************************\n",
      "%%%%%%%%%%%%%%%%%%%%%%%%%%%%%%\n",
      "Hello\n",
      "%%%%%%%%%%%%%%%%%%%%%%%%%%%%%%\n",
      "******************************\n"
     ]
    }
   ],
   "source": [
    "printer(\"Hello\")"
   ]
  },
  {
   "cell_type": "code",
   "execution_count": 49,
   "id": "0ed2b158-cb5b-4e49-ada5-3227385dd179",
   "metadata": {},
   "outputs": [
    {
     "name": "stdout",
     "output_type": "stream",
     "text": [
      "%%%%%%%%%%%%%%%%%%%%%%%%%%%%%%\n",
      "Hello\n",
      "%%%%%%%%%%%%%%%%%%%%%%%%%%%%%%\n"
     ]
    }
   ],
   "source": [
    "@percent\n",
    "def printer(msg):\n",
    "    print(msg)\n",
    "printer('Hello')"
   ]
  },
  {
   "cell_type": "code",
   "execution_count": 50,
   "id": "30b16138-612b-43d0-a0a2-b225b2222a54",
   "metadata": {},
   "outputs": [
    {
     "name": "stdout",
     "output_type": "stream",
     "text": [
      "******************************\n",
      "Hello\n",
      "******************************\n"
     ]
    }
   ],
   "source": [
    "@star\n",
    "def printer(msg):\n",
    "    print(msg)\n",
    "printer('Hello')"
   ]
  },
  {
   "cell_type": "code",
   "execution_count": 52,
   "id": "368cd0c6-3ba3-4338-a3c3-dc12247da028",
   "metadata": {},
   "outputs": [
    {
     "name": "stdout",
     "output_type": "stream",
     "text": [
      "%%%%%%%%%%%%%%%%%%%%%%%%%%%%%%\n",
      "******************************\n",
      "Hello\n",
      "******************************\n",
      "%%%%%%%%%%%%%%%%%%%%%%%%%%%%%%\n"
     ]
    }
   ],
   "source": [
    "@percent\n",
    "@star\n",
    "def printer(msg):\n",
    "    print(msg)\n",
    "printer('Hello')"
   ]
  },
  {
   "cell_type": "code",
   "execution_count": 57,
   "id": "0d34c201-1548-4095-81ae-c1ecc86261ef",
   "metadata": {},
   "outputs": [
    {
     "name": "stdout",
     "output_type": "stream",
     "text": [
      "******************************\n",
      "%%%%%%%%%%%%%%%%%%%%%%%%%%%%%%\n",
      "Hello\n",
      "%%%%%%%%%%%%%%%%%%%%%%%%%%%%%%\n",
      "******************************\n"
     ]
    }
   ],
   "source": [
    "def printer(msg):\n",
    "    print(msg)\n",
    "printer = star(percent(printer))\n",
    "printer('Hello')"
   ]
  },
  {
   "cell_type": "code",
   "execution_count": null,
   "id": "61471890-9792-4e10-beee-dd0c72337225",
   "metadata": {},
   "outputs": [],
   "source": []
  }
 ],
 "metadata": {
  "kernelspec": {
   "display_name": "Python 3 (ipykernel)",
   "language": "python",
   "name": "python3"
  },
  "language_info": {
   "codemirror_mode": {
    "name": "ipython",
    "version": 3
   },
   "file_extension": ".py",
   "mimetype": "text/x-python",
   "name": "python",
   "nbconvert_exporter": "python",
   "pygments_lexer": "ipython3",
   "version": "3.10.6"
  }
 },
 "nbformat": 4,
 "nbformat_minor": 5
}
