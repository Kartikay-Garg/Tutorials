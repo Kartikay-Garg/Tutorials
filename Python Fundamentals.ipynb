{
 "cells": [
  {
   "cell_type": "markdown",
   "id": "c1f8afcc-1d05-4a4e-a076-c7fa9bac1841",
   "metadata": {},
   "source": [
    "# python fundamentals"
   ]
  },
  {
   "cell_type": "raw",
   "id": "be70d823-eeaf-4d22-af19-3481d94a022b",
   "metadata": {},
   "source": [
    "python:\n",
    "    system programming\n",
    "    gui interface\n",
    "    web scrapping\n",
    "    databases\n",
    "    numeric or scientific prog.\n",
    "    games dev.\n",
    "    image prog.\n",
    "    robotics\n",
    "    easy to use\n",
    "    easy to find a large variety of supporting libraries\n",
    "    easy to learn"
   ]
  },
  {
   "cell_type": "code",
   "execution_count": 1,
   "id": "a09daa88-d72f-4d71-bb86-e241d13a99f6",
   "metadata": {},
   "outputs": [
    {
     "name": "stdout",
     "output_type": "stream",
     "text": [
      "The Zen of Python, by Tim Peters\n",
      "\n",
      "Beautiful is better than ugly.\n",
      "Explicit is better than implicit.\n",
      "Simple is better than complex.\n",
      "Complex is better than complicated.\n",
      "Flat is better than nested.\n",
      "Sparse is better than dense.\n",
      "Readability counts.\n",
      "Special cases aren't special enough to break the rules.\n",
      "Although practicality beats purity.\n",
      "Errors should never pass silently.\n",
      "Unless explicitly silenced.\n",
      "In the face of ambiguity, refuse the temptation to guess.\n",
      "There should be one-- and preferably only one --obvious way to do it.\n",
      "Although that way may not be obvious at first unless you're Dutch.\n",
      "Now is better than never.\n",
      "Although never is often better than *right* now.\n",
      "If the implementation is hard to explain, it's a bad idea.\n",
      "If the implementation is easy to explain, it may be a good idea.\n",
      "Namespaces are one honking great idea -- let's do more of those!\n"
     ]
    }
   ],
   "source": [
    "import this"
   ]
  },
  {
   "cell_type": "code",
   "execution_count": 2,
   "id": "a2428bf4-f804-470d-8b64-190d8c8695e6",
   "metadata": {},
   "outputs": [
    {
     "name": "stdout",
     "output_type": "stream",
     "text": [
      "this is my first prog\n"
     ]
    }
   ],
   "source": [
    "print(\"this is my first prog\")"
   ]
  },
  {
   "cell_type": "code",
   "execution_count": 3,
   "id": "5e66d6ea-d093-492c-a68d-ab6e4a04730a",
   "metadata": {},
   "outputs": [
    {
     "data": {
      "text/plain": [
       "3"
      ]
     },
     "execution_count": 3,
     "metadata": {},
     "output_type": "execute_result"
    }
   ],
   "source": [
    "1+2"
   ]
  },
  {
   "cell_type": "code",
   "execution_count": 4,
   "id": "74239cc3-8de8-4649-a214-fda05a349031",
   "metadata": {},
   "outputs": [
    {
     "data": {
      "text/plain": [
       "0.42857142857142855"
      ]
     },
     "execution_count": 4,
     "metadata": {},
     "output_type": "execute_result"
    }
   ],
   "source": [
    "3/7"
   ]
  },
  {
   "cell_type": "code",
   "execution_count": 5,
   "id": "1aab43d8-1328-4a59-baeb-df412936db6d",
   "metadata": {},
   "outputs": [],
   "source": [
    "a = 1+2"
   ]
  },
  {
   "cell_type": "code",
   "execution_count": 6,
   "id": "c8eaad37-671f-43b3-a9f6-b520030e9a56",
   "metadata": {},
   "outputs": [
    {
     "data": {
      "text/plain": [
       "3"
      ]
     },
     "execution_count": 6,
     "metadata": {},
     "output_type": "execute_result"
    }
   ],
   "source": [
    "a"
   ]
  },
  {
   "cell_type": "code",
   "execution_count": 7,
   "id": "f2b14d02-0f8b-4ce7-ab8b-fb58808b5f91",
   "metadata": {},
   "outputs": [],
   "source": [
    "a = 10"
   ]
  },
  {
   "cell_type": "code",
   "execution_count": 8,
   "id": "5cc4403f-af00-428c-a0ca-3be13443eaf3",
   "metadata": {},
   "outputs": [
    {
     "data": {
      "text/plain": [
       "10"
      ]
     },
     "execution_count": 8,
     "metadata": {},
     "output_type": "execute_result"
    }
   ],
   "source": [
    "a"
   ]
  },
  {
   "cell_type": "code",
   "execution_count": 9,
   "id": "6127d041-d7ae-47af-b3de-417df449892f",
   "metadata": {},
   "outputs": [],
   "source": [
    "sudh = 4564"
   ]
  },
  {
   "cell_type": "code",
   "execution_count": 10,
   "id": "03f3be23-8104-43ef-a731-158c01c0f88e",
   "metadata": {},
   "outputs": [],
   "source": [
    "re = 13423"
   ]
  },
  {
   "cell_type": "code",
   "execution_count": 11,
   "id": "89dab867-329a-4cca-a605-dee9278698dd",
   "metadata": {},
   "outputs": [
    {
     "data": {
      "text/plain": [
       "4564"
      ]
     },
     "execution_count": 11,
     "metadata": {},
     "output_type": "execute_result"
    }
   ],
   "source": [
    "sudh"
   ]
  },
  {
   "cell_type": "code",
   "execution_count": 12,
   "id": "3bb28441-c94f-48e1-8fc3-4440f08caa99",
   "metadata": {},
   "outputs": [
    {
     "data": {
      "text/plain": [
       "13423"
      ]
     },
     "execution_count": 12,
     "metadata": {},
     "output_type": "execute_result"
    }
   ],
   "source": [
    "re"
   ]
  },
  {
   "cell_type": "code",
   "execution_count": 13,
   "id": "f16bb42d-7523-44f8-a6ac-bf8dfc021a80",
   "metadata": {},
   "outputs": [
    {
     "data": {
      "text/plain": [
       "int"
      ]
     },
     "execution_count": 13,
     "metadata": {},
     "output_type": "execute_result"
    }
   ],
   "source": [
    "type(sudh)"
   ]
  },
  {
   "cell_type": "code",
   "execution_count": 14,
   "id": "59b5eb42-5d81-453d-84fc-4fbf3f356b40",
   "metadata": {},
   "outputs": [
    {
     "data": {
      "text/plain": [
       "int"
      ]
     },
     "execution_count": 14,
     "metadata": {},
     "output_type": "execute_result"
    }
   ],
   "source": [
    "type(re)"
   ]
  },
  {
   "cell_type": "code",
   "execution_count": 15,
   "id": "2ad00707-110a-4200-89c7-cf371ef735c7",
   "metadata": {},
   "outputs": [],
   "source": [
    "b= 34.111"
   ]
  },
  {
   "cell_type": "code",
   "execution_count": 16,
   "id": "ce04bc6c-789a-43e2-bdb3-882293b42692",
   "metadata": {},
   "outputs": [
    {
     "data": {
      "text/plain": [
       "float"
      ]
     },
     "execution_count": 16,
     "metadata": {},
     "output_type": "execute_result"
    }
   ],
   "source": [
    "type(b)"
   ]
  },
  {
   "cell_type": "code",
   "execution_count": 17,
   "id": "4aa03a17-ffac-4833-9dcd-a7ac7f1b5329",
   "metadata": {},
   "outputs": [],
   "source": [
    "c = \"ffwwfw\""
   ]
  },
  {
   "cell_type": "code",
   "execution_count": 18,
   "id": "f555449c-97ae-4354-8469-6875537920ce",
   "metadata": {},
   "outputs": [
    {
     "data": {
      "text/plain": [
       "str"
      ]
     },
     "execution_count": 18,
     "metadata": {},
     "output_type": "execute_result"
    }
   ],
   "source": [
    "type(c)"
   ]
  },
  {
   "cell_type": "code",
   "execution_count": 19,
   "id": "15e0de43-7782-4739-a585-ac7bff402fee",
   "metadata": {},
   "outputs": [],
   "source": [
    "d = 4 + 5j"
   ]
  },
  {
   "cell_type": "code",
   "execution_count": 20,
   "id": "f99991f7-6af7-489a-8c72-3c4603fb9fee",
   "metadata": {},
   "outputs": [
    {
     "data": {
      "text/plain": [
       "complex"
      ]
     },
     "execution_count": 20,
     "metadata": {},
     "output_type": "execute_result"
    }
   ],
   "source": [
    "type(d)"
   ]
  },
  {
   "cell_type": "code",
   "execution_count": 21,
   "id": "34c2a5f5-b9b0-4ac2-98b0-4ada49632750",
   "metadata": {},
   "outputs": [
    {
     "data": {
      "text/plain": [
       "(4+5j)"
      ]
     },
     "execution_count": 21,
     "metadata": {},
     "output_type": "execute_result"
    }
   ],
   "source": [
    "d"
   ]
  },
  {
   "cell_type": "code",
   "execution_count": 22,
   "id": "56a3aaa6-f96c-43cb-b774-f06b9d32a9d9",
   "metadata": {},
   "outputs": [],
   "source": [
    "e = 'sudh'"
   ]
  },
  {
   "cell_type": "code",
   "execution_count": 23,
   "id": "04d8898b-00a6-4b63-8fac-efa080cb720d",
   "metadata": {},
   "outputs": [
    {
     "data": {
      "text/plain": [
       "'sudh'"
      ]
     },
     "execution_count": 23,
     "metadata": {},
     "output_type": "execute_result"
    }
   ],
   "source": [
    "e"
   ]
  },
  {
   "cell_type": "code",
   "execution_count": 24,
   "id": "c9184113-07a9-40ce-9ac1-81b4c7234e5f",
   "metadata": {},
   "outputs": [],
   "source": [
    "g = True"
   ]
  },
  {
   "cell_type": "code",
   "execution_count": 25,
   "id": "ce103634-1a72-45ac-bdac-29455d3d2452",
   "metadata": {},
   "outputs": [
    {
     "data": {
      "text/plain": [
       "bool"
      ]
     },
     "execution_count": 25,
     "metadata": {},
     "output_type": "execute_result"
    }
   ],
   "source": [
    "type(g)"
   ]
  },
  {
   "cell_type": "code",
   "execution_count": 26,
   "id": "e02620fc-ff9e-4fed-8c5e-5fd572d9d25e",
   "metadata": {},
   "outputs": [
    {
     "data": {
      "text/plain": [
       "5.0"
      ]
     },
     "execution_count": 26,
     "metadata": {},
     "output_type": "execute_result"
    }
   ],
   "source": [
    "d.imag"
   ]
  },
  {
   "cell_type": "code",
   "execution_count": 27,
   "id": "ec7e6a69-4a43-485f-a064-69690cdda2c9",
   "metadata": {},
   "outputs": [
    {
     "data": {
      "text/plain": [
       "4.0"
      ]
     },
     "execution_count": 27,
     "metadata": {},
     "output_type": "execute_result"
    }
   ],
   "source": [
    "d.real"
   ]
  },
  {
   "cell_type": "code",
   "execution_count": 28,
   "id": "bc61fb67-5221-41d0-a23d-3fb5ed597014",
   "metadata": {},
   "outputs": [],
   "source": [
    "a = \"sudh\""
   ]
  },
  {
   "cell_type": "code",
   "execution_count": 29,
   "id": "ea0006eb-b0cb-408b-ac00-b014493e855c",
   "metadata": {},
   "outputs": [],
   "source": [
    "b = \"kumar\""
   ]
  },
  {
   "cell_type": "code",
   "execution_count": 30,
   "id": "c3530a2d-91ed-476a-8342-8d34409d854b",
   "metadata": {},
   "outputs": [
    {
     "data": {
      "text/plain": [
       "'sudh kumar'"
      ]
     },
     "execution_count": 30,
     "metadata": {},
     "output_type": "execute_result"
    }
   ],
   "source": [
    "a+\" \"+b"
   ]
  },
  {
   "cell_type": "code",
   "execution_count": 31,
   "id": "63573b57-a75a-45e8-a20f-5f2de10d8722",
   "metadata": {},
   "outputs": [
    {
     "data": {
      "text/plain": [
       "2"
      ]
     },
     "execution_count": 31,
     "metadata": {},
     "output_type": "execute_result"
    }
   ],
   "source": [
    "True+True"
   ]
  },
  {
   "cell_type": "code",
   "execution_count": 32,
   "id": "945aec82-ebb3-492e-b2c3-173569b965c8",
   "metadata": {},
   "outputs": [
    {
     "data": {
      "text/plain": [
       "1"
      ]
     },
     "execution_count": 32,
     "metadata": {},
     "output_type": "execute_result"
    }
   ],
   "source": [
    "True-False"
   ]
  },
  {
   "cell_type": "code",
   "execution_count": 33,
   "id": "55ba72aa-ab27-4308-85c6-46aba7a28c7f",
   "metadata": {},
   "outputs": [
    {
     "data": {
      "text/plain": [
       "2"
      ]
     },
     "execution_count": 33,
     "metadata": {},
     "output_type": "execute_result"
    }
   ],
   "source": [
    "1+True"
   ]
  },
  {
   "cell_type": "code",
   "execution_count": 34,
   "id": "2c02fd82-4d90-4d79-895a-e89ed72c30cf",
   "metadata": {},
   "outputs": [
    {
     "data": {
      "text/plain": [
       "1"
      ]
     },
     "execution_count": 34,
     "metadata": {},
     "output_type": "execute_result"
    }
   ],
   "source": [
    "False+1"
   ]
  },
  {
   "cell_type": "code",
   "execution_count": 35,
   "id": "1f32cfe0-9354-40b5-a718-1cba422596a3",
   "metadata": {},
   "outputs": [
    {
     "data": {
      "text/plain": [
       "0"
      ]
     },
     "execution_count": 35,
     "metadata": {},
     "output_type": "execute_result"
    }
   ],
   "source": [
    "False + False"
   ]
  },
  {
   "cell_type": "code",
   "execution_count": 36,
   "id": "0e67072c-1804-41f6-b441-3653adf59858",
   "metadata": {},
   "outputs": [],
   "source": [
    "a = \"28\""
   ]
  },
  {
   "cell_type": "code",
   "execution_count": 37,
   "id": "ba35cbc2-8857-4136-a32e-c3bd10ea1567",
   "metadata": {},
   "outputs": [
    {
     "data": {
      "text/plain": [
       "'28'"
      ]
     },
     "execution_count": 37,
     "metadata": {},
     "output_type": "execute_result"
    }
   ],
   "source": [
    "a"
   ]
  },
  {
   "cell_type": "code",
   "execution_count": 38,
   "id": "d7cd8093-3555-4384-a0bd-b9584284ac16",
   "metadata": {},
   "outputs": [
    {
     "data": {
      "text/plain": [
       "str"
      ]
     },
     "execution_count": 38,
     "metadata": {},
     "output_type": "execute_result"
    }
   ],
   "source": [
    "type(a)"
   ]
  },
  {
   "cell_type": "code",
   "execution_count": 39,
   "id": "1a9f7df2-8054-4239-b63f-83ee95d30d17",
   "metadata": {},
   "outputs": [],
   "source": [
    "b = 45"
   ]
  },
  {
   "cell_type": "code",
   "execution_count": 40,
   "id": "fd2d966c-5d50-4176-942d-1b13c38ae626",
   "metadata": {},
   "outputs": [
    {
     "data": {
      "text/plain": [
       "'2845'"
      ]
     },
     "execution_count": 40,
     "metadata": {},
     "output_type": "execute_result"
    }
   ],
   "source": [
    "a+str(b)"
   ]
  },
  {
   "cell_type": "code",
   "execution_count": 41,
   "id": "b26fde5a-1c9e-452d-9ec6-da95a5b083ae",
   "metadata": {},
   "outputs": [
    {
     "data": {
      "text/plain": [
       "73"
      ]
     },
     "execution_count": 41,
     "metadata": {},
     "output_type": "execute_result"
    }
   ],
   "source": [
    "int(a)+b"
   ]
  },
  {
   "cell_type": "code",
   "execution_count": 42,
   "id": "17e649c2-bbc0-4805-9d88-269564e5015f",
   "metadata": {},
   "outputs": [
    {
     "data": {
      "text/plain": [
       "140672374277744"
      ]
     },
     "execution_count": 42,
     "metadata": {},
     "output_type": "execute_result"
    }
   ],
   "source": [
    "id(b)"
   ]
  },
  {
   "cell_type": "code",
   "execution_count": 43,
   "id": "e2f64852-8550-40a7-bf4d-2bebcdb1df43",
   "metadata": {},
   "outputs": [
    {
     "data": {
      "text/plain": [
       "140672327355056"
      ]
     },
     "execution_count": 43,
     "metadata": {},
     "output_type": "execute_result"
    }
   ],
   "source": [
    "id(a)"
   ]
  },
  {
   "cell_type": "code",
   "execution_count": 44,
   "id": "67bd623b-22fd-4556-9b8c-3fce172d4c94",
   "metadata": {},
   "outputs": [],
   "source": [
    "s = 'sudh'"
   ]
  },
  {
   "cell_type": "code",
   "execution_count": 45,
   "id": "727bf191-d5b7-40f6-84c4-c201759eff99",
   "metadata": {},
   "outputs": [
    {
     "data": {
      "text/plain": [
       "str"
      ]
     },
     "execution_count": 45,
     "metadata": {},
     "output_type": "execute_result"
    }
   ],
   "source": [
    "type(s)"
   ]
  },
  {
   "cell_type": "code",
   "execution_count": 46,
   "id": "78714b31-5783-4d4c-849e-1cc4e1276552",
   "metadata": {},
   "outputs": [
    {
     "data": {
      "text/plain": [
       "'s'"
      ]
     },
     "execution_count": 46,
     "metadata": {},
     "output_type": "execute_result"
    }
   ],
   "source": [
    "s[0]"
   ]
  },
  {
   "cell_type": "code",
   "execution_count": 47,
   "id": "9be78d0c-dd2e-4357-825b-f0ef763a8826",
   "metadata": {},
   "outputs": [
    {
     "data": {
      "text/plain": [
       "'u'"
      ]
     },
     "execution_count": 47,
     "metadata": {},
     "output_type": "execute_result"
    }
   ],
   "source": [
    "s[1]"
   ]
  },
  {
   "cell_type": "code",
   "execution_count": 48,
   "id": "2a3c7cf1-3b14-4ccd-990d-98f7d7477fb6",
   "metadata": {},
   "outputs": [
    {
     "data": {
      "text/plain": [
       "'d'"
      ]
     },
     "execution_count": 48,
     "metadata": {},
     "output_type": "execute_result"
    }
   ],
   "source": [
    "s[2]"
   ]
  },
  {
   "cell_type": "code",
   "execution_count": 49,
   "id": "e321d002-dbd6-468e-b4e1-7eecd3fb67ec",
   "metadata": {},
   "outputs": [
    {
     "data": {
      "text/plain": [
       "'h'"
      ]
     },
     "execution_count": 49,
     "metadata": {},
     "output_type": "execute_result"
    }
   ],
   "source": [
    "s[3]"
   ]
  },
  {
   "cell_type": "code",
   "execution_count": 50,
   "id": "aefccffc-4d2d-423a-8f98-c0a2c3f4726a",
   "metadata": {},
   "outputs": [
    {
     "data": {
      "text/plain": [
       "'s'"
      ]
     },
     "execution_count": 50,
     "metadata": {},
     "output_type": "execute_result"
    }
   ],
   "source": [
    "s[-4]"
   ]
  },
  {
   "cell_type": "code",
   "execution_count": 51,
   "id": "f27dc18b-4470-4fec-a55c-ff902eeeb60b",
   "metadata": {},
   "outputs": [
    {
     "data": {
      "text/plain": [
       "'h'"
      ]
     },
     "execution_count": 51,
     "metadata": {},
     "output_type": "execute_result"
    }
   ],
   "source": [
    "s[-1]"
   ]
  },
  {
   "cell_type": "code",
   "execution_count": 52,
   "id": "be72d06c-4495-405d-a1d6-80c5c86aabe1",
   "metadata": {},
   "outputs": [
    {
     "data": {
      "text/plain": [
       "'d'"
      ]
     },
     "execution_count": 52,
     "metadata": {},
     "output_type": "execute_result"
    }
   ],
   "source": [
    "s[-2]"
   ]
  },
  {
   "cell_type": "code",
   "execution_count": 53,
   "id": "6e07bfdc-8f50-4250-b5cf-d4633ef2835d",
   "metadata": {},
   "outputs": [
    {
     "data": {
      "text/plain": [
       "'u'"
      ]
     },
     "execution_count": 53,
     "metadata": {},
     "output_type": "execute_result"
    }
   ],
   "source": [
    "s[-3]"
   ]
  },
  {
   "cell_type": "code",
   "execution_count": 54,
   "id": "8e88ca7f-ed6d-4fe7-821d-6d8849a0f423",
   "metadata": {},
   "outputs": [],
   "source": [
    "a = \"my name is sudh\""
   ]
  },
  {
   "cell_type": "code",
   "execution_count": 55,
   "id": "7f6483f6-d740-443e-9836-29929f0e7e79",
   "metadata": {},
   "outputs": [
    {
     "data": {
      "text/plain": [
       "'m'"
      ]
     },
     "execution_count": 55,
     "metadata": {},
     "output_type": "execute_result"
    }
   ],
   "source": [
    "a[0]"
   ]
  },
  {
   "cell_type": "code",
   "execution_count": 56,
   "id": "b25528ed-6163-4faf-bfd7-f818513d34ff",
   "metadata": {},
   "outputs": [
    {
     "data": {
      "text/plain": [
       "'h'"
      ]
     },
     "execution_count": 56,
     "metadata": {},
     "output_type": "execute_result"
    }
   ],
   "source": [
    "a[-1]"
   ]
  },
  {
   "cell_type": "code",
   "execution_count": 57,
   "id": "a5bb2ac0-80dc-40db-88e0-971f6ce4bcc2",
   "metadata": {},
   "outputs": [
    {
     "data": {
      "text/plain": [
       "'my name'"
      ]
     },
     "execution_count": 57,
     "metadata": {},
     "output_type": "execute_result"
    }
   ],
   "source": [
    "a[0:7]"
   ]
  },
  {
   "cell_type": "code",
   "execution_count": 58,
   "id": "ff003650-cfbf-48a4-bcb6-b972c4bda8f4",
   "metadata": {},
   "outputs": [],
   "source": [
    "b = \"ineuron\""
   ]
  },
  {
   "cell_type": "code",
   "execution_count": 59,
   "id": "473d1f21-39c0-4bc2-8c05-3782cd4a0094",
   "metadata": {},
   "outputs": [
    {
     "data": {
      "text/plain": [
       "'ine'"
      ]
     },
     "execution_count": 59,
     "metadata": {},
     "output_type": "execute_result"
    }
   ],
   "source": [
    "b[0:3]"
   ]
  },
  {
   "cell_type": "code",
   "execution_count": 60,
   "id": "a1a78dff-1031-4255-901e-8f968dfaf5df",
   "metadata": {},
   "outputs": [
    {
     "data": {
      "text/plain": [
       "'ineuron'"
      ]
     },
     "execution_count": 60,
     "metadata": {},
     "output_type": "execute_result"
    }
   ],
   "source": [
    "b[0:300]"
   ]
  },
  {
   "cell_type": "code",
   "execution_count": 61,
   "id": "23af3f5d-da6f-4095-a2ee-96a0d7152221",
   "metadata": {},
   "outputs": [
    {
     "data": {
      "text/plain": [
       "'n'"
      ]
     },
     "execution_count": 61,
     "metadata": {},
     "output_type": "execute_result"
    }
   ],
   "source": [
    "b[-1]"
   ]
  },
  {
   "cell_type": "code",
   "execution_count": 62,
   "id": "925da372-73db-4afe-a3f5-5b163597a799",
   "metadata": {},
   "outputs": [],
   "source": [
    "a = 'kumar'"
   ]
  },
  {
   "cell_type": "code",
   "execution_count": 63,
   "id": "fdd0d0e3-7928-4eae-a194-6030b8e03c9e",
   "metadata": {},
   "outputs": [
    {
     "data": {
      "text/plain": [
       "'kmr'"
      ]
     },
     "execution_count": 63,
     "metadata": {},
     "output_type": "execute_result"
    }
   ],
   "source": [
    "a[0::2]"
   ]
  },
  {
   "cell_type": "code",
   "execution_count": 64,
   "id": "5a2353b6-2cfd-457c-8ad8-f19c29be952d",
   "metadata": {},
   "outputs": [
    {
     "data": {
      "text/plain": [
       "''"
      ]
     },
     "execution_count": 64,
     "metadata": {},
     "output_type": "execute_result"
    }
   ],
   "source": [
    "a[0:100:-1]"
   ]
  },
  {
   "cell_type": "code",
   "execution_count": 65,
   "id": "249097c8-f8ba-45af-96b6-e4f891523d9f",
   "metadata": {},
   "outputs": [
    {
     "data": {
      "text/plain": [
       "''"
      ]
     },
     "execution_count": 65,
     "metadata": {},
     "output_type": "execute_result"
    }
   ],
   "source": [
    "a[-1:-4]"
   ]
  },
  {
   "cell_type": "code",
   "execution_count": 66,
   "id": "68864e62-6f05-4a00-a1df-20d2115b9ccd",
   "metadata": {},
   "outputs": [
    {
     "data": {
      "text/plain": [
       "'rmk'"
      ]
     },
     "execution_count": 66,
     "metadata": {},
     "output_type": "execute_result"
    }
   ],
   "source": [
    "a[-1:-6:-2]"
   ]
  },
  {
   "cell_type": "code",
   "execution_count": 67,
   "id": "40892f96-0592-4359-a478-cedab334f578",
   "metadata": {},
   "outputs": [
    {
     "data": {
      "text/plain": [
       "'kumar'"
      ]
     },
     "execution_count": 67,
     "metadata": {},
     "output_type": "execute_result"
    }
   ],
   "source": [
    "a[::]"
   ]
  },
  {
   "cell_type": "code",
   "execution_count": 68,
   "id": "bc81b153-e356-45f2-8cd5-04cc17793f05",
   "metadata": {},
   "outputs": [
    {
     "data": {
      "text/plain": [
       "'kumar'"
      ]
     },
     "execution_count": 68,
     "metadata": {},
     "output_type": "execute_result"
    }
   ],
   "source": [
    "a[:]"
   ]
  },
  {
   "cell_type": "code",
   "execution_count": 69,
   "id": "c1978155-b3d6-44f2-b01e-8743cb816594",
   "metadata": {},
   "outputs": [
    {
     "data": {
      "text/plain": [
       "'kumar'"
      ]
     },
     "execution_count": 69,
     "metadata": {},
     "output_type": "execute_result"
    }
   ],
   "source": [
    "a[:8]"
   ]
  },
  {
   "cell_type": "code",
   "execution_count": 70,
   "id": "ec94a062-4066-4264-aa9d-7fc1c3e88bc6",
   "metadata": {},
   "outputs": [
    {
     "data": {
      "text/plain": [
       "'ar'"
      ]
     },
     "execution_count": 70,
     "metadata": {},
     "output_type": "execute_result"
    }
   ],
   "source": [
    "a[-2:]"
   ]
  },
  {
   "cell_type": "code",
   "execution_count": 71,
   "id": "517754a9-9e88-43a7-abf5-aa7fa2aa6ba4",
   "metadata": {},
   "outputs": [
    {
     "data": {
      "text/plain": [
       "'a'"
      ]
     },
     "execution_count": 71,
     "metadata": {},
     "output_type": "execute_result"
    }
   ],
   "source": [
    "a[-2:-1]"
   ]
  },
  {
   "cell_type": "markdown",
   "id": "13bd5af1-e07e-481a-abec-76e34e024658",
   "metadata": {},
   "source": [
    "starting point, ending point and jump"
   ]
  },
  {
   "cell_type": "code",
   "execution_count": 72,
   "id": "bb36ebda-276a-476c-8c4f-b623f59070d3",
   "metadata": {},
   "outputs": [
    {
     "data": {
      "text/plain": [
       "'kumar'"
      ]
     },
     "execution_count": 72,
     "metadata": {},
     "output_type": "execute_result"
    }
   ],
   "source": [
    "a"
   ]
  },
  {
   "cell_type": "code",
   "execution_count": 73,
   "id": "ad6c3775-0ff1-497a-a5a5-5959822617af",
   "metadata": {},
   "outputs": [
    {
     "data": {
      "text/plain": [
       "'ramuk'"
      ]
     },
     "execution_count": 73,
     "metadata": {},
     "output_type": "execute_result"
    }
   ],
   "source": [
    "a[::-1]"
   ]
  },
  {
   "cell_type": "code",
   "execution_count": 74,
   "id": "84e2a182-84fc-48ed-bea7-06a374837a76",
   "metadata": {},
   "outputs": [
    {
     "data": {
      "text/plain": [
       "'ramuk'"
      ]
     },
     "execution_count": 74,
     "metadata": {},
     "output_type": "execute_result"
    }
   ],
   "source": [
    "a[-1::-1]"
   ]
  },
  {
   "cell_type": "code",
   "execution_count": 75,
   "id": "939e8de5-3e9d-4706-ae86-48632c9a2e62",
   "metadata": {},
   "outputs": [],
   "source": [
    "a = 'i am working with ineuron'"
   ]
  },
  {
   "cell_type": "code",
   "execution_count": 76,
   "id": "203285c8-11ac-477b-bdb8-9da76084f31a",
   "metadata": {},
   "outputs": [
    {
     "data": {
      "text/plain": [
       "'norueni htiw gnikrow ma i'"
      ]
     },
     "execution_count": 76,
     "metadata": {},
     "output_type": "execute_result"
    }
   ],
   "source": [
    "a[::-1]"
   ]
  },
  {
   "cell_type": "code",
   "execution_count": 77,
   "id": "2a5727a9-3a30-47d5-98d3-39c08aa5aa9e",
   "metadata": {},
   "outputs": [
    {
     "data": {
      "text/plain": [
       "'orueni h'"
      ]
     },
     "execution_count": 77,
     "metadata": {},
     "output_type": "execute_result"
    }
   ],
   "source": [
    "a[-2:-10:-1]"
   ]
  },
  {
   "cell_type": "code",
   "execution_count": 78,
   "id": "2e353553-45aa-443a-b815-5b0d14eaff43",
   "metadata": {},
   "outputs": [
    {
     "data": {
      "text/plain": [
       "'imoi tiun'"
      ]
     },
     "execution_count": 78,
     "metadata": {},
     "output_type": "execute_result"
    }
   ],
   "source": [
    "a[0:100:3]"
   ]
  },
  {
   "cell_type": "code",
   "execution_count": 79,
   "id": "06546638-c386-494e-9216-50a338fb2935",
   "metadata": {},
   "outputs": [
    {
     "data": {
      "text/plain": [
       "'sudh sudh sudh '"
      ]
     },
     "execution_count": 79,
     "metadata": {},
     "output_type": "execute_result"
    }
   ],
   "source": [
    "'sudh '*3"
   ]
  },
  {
   "cell_type": "code",
   "execution_count": 80,
   "id": "693188c3-8c9a-4593-a050-9a51df3c98e4",
   "metadata": {},
   "outputs": [
    {
     "data": {
      "text/plain": [
       "25"
      ]
     },
     "execution_count": 80,
     "metadata": {},
     "output_type": "execute_result"
    }
   ],
   "source": [
    "len(a)"
   ]
  },
  {
   "cell_type": "code",
   "execution_count": 81,
   "id": "c7e78527-708c-498d-9e61-715f21abebe7",
   "metadata": {},
   "outputs": [
    {
     "data": {
      "text/plain": [
       "'i am working with ineuron'"
      ]
     },
     "execution_count": 81,
     "metadata": {},
     "output_type": "execute_result"
    }
   ],
   "source": [
    "a"
   ]
  },
  {
   "cell_type": "code",
   "execution_count": 82,
   "id": "5e167b1a-d789-44f8-a335-6fc8981652c9",
   "metadata": {},
   "outputs": [
    {
     "data": {
      "text/plain": [
       "2"
      ]
     },
     "execution_count": 82,
     "metadata": {},
     "output_type": "execute_result"
    }
   ],
   "source": [
    "a.find('a')"
   ]
  },
  {
   "cell_type": "code",
   "execution_count": 83,
   "id": "e2af2ccd-feb4-4bdb-b3e2-bdd84ed3a7be",
   "metadata": {},
   "outputs": [
    {
     "data": {
      "text/plain": [
       "0"
      ]
     },
     "execution_count": 83,
     "metadata": {},
     "output_type": "execute_result"
    }
   ],
   "source": [
    "a.find('i')"
   ]
  },
  {
   "cell_type": "code",
   "execution_count": 84,
   "id": "cad7b92f-1d85-4100-8eeb-00b28624fc15",
   "metadata": {},
   "outputs": [
    {
     "data": {
      "text/plain": [
       "9"
      ]
     },
     "execution_count": 84,
     "metadata": {},
     "output_type": "execute_result"
    }
   ],
   "source": [
    "a.find('in')"
   ]
  },
  {
   "cell_type": "raw",
   "id": "6369dcde-f432-414f-ad7f-b0bed83bb218",
   "metadata": {},
   "source": [
    "1:05"
   ]
  },
  {
   "cell_type": "code",
   "execution_count": 85,
   "id": "d9f0aa16-9681-4bf3-85ab-d4bd10fa4226",
   "metadata": {},
   "outputs": [
    {
     "data": {
      "text/plain": [
       "'i am working with ineuron'"
      ]
     },
     "execution_count": 85,
     "metadata": {},
     "output_type": "execute_result"
    }
   ],
   "source": [
    "a"
   ]
  },
  {
   "cell_type": "code",
   "execution_count": 86,
   "id": "bbf522e6-5983-4a44-a32a-7c8c36de499f",
   "metadata": {},
   "outputs": [
    {
     "data": {
      "text/plain": [
       "'i'"
      ]
     },
     "execution_count": 86,
     "metadata": {},
     "output_type": "execute_result"
    }
   ],
   "source": [
    "a[0]"
   ]
  },
  {
   "cell_type": "code",
   "execution_count": 87,
   "id": "dcd4236f-3bab-4fb7-b55f-69e00acbe80c",
   "metadata": {},
   "outputs": [
    {
     "data": {
      "text/plain": [
       "' '"
      ]
     },
     "execution_count": 87,
     "metadata": {},
     "output_type": "execute_result"
    }
   ],
   "source": [
    "a[1]"
   ]
  },
  {
   "cell_type": "code",
   "execution_count": 88,
   "id": "7a5f9abe-09c2-4f7f-b75e-f9e1e47b06b2",
   "metadata": {},
   "outputs": [
    {
     "data": {
      "text/plain": [
       "'i am working with ineuron'"
      ]
     },
     "execution_count": 88,
     "metadata": {},
     "output_type": "execute_result"
    }
   ],
   "source": [
    "a[0::]"
   ]
  },
  {
   "cell_type": "code",
   "execution_count": 89,
   "id": "43b8e0b7-1d51-47e6-86ec-3de77f0d2ea8",
   "metadata": {},
   "outputs": [
    {
     "data": {
      "text/plain": [
       "'norueni htiw gnikrow ma i'"
      ]
     },
     "execution_count": 89,
     "metadata": {},
     "output_type": "execute_result"
    }
   ],
   "source": [
    "a[::-1]"
   ]
  },
  {
   "cell_type": "code",
   "execution_count": 90,
   "id": "8c59a8cf-716a-42d1-8bfd-c2b9926a973d",
   "metadata": {},
   "outputs": [
    {
     "data": {
      "text/plain": [
       "2"
      ]
     },
     "execution_count": 90,
     "metadata": {},
     "output_type": "execute_result"
    }
   ],
   "source": [
    "a.find('a')"
   ]
  },
  {
   "cell_type": "code",
   "execution_count": 91,
   "id": "aa23897b-9ed2-4554-b2ea-b337f54c733a",
   "metadata": {},
   "outputs": [
    {
     "data": {
      "text/plain": [
       "0"
      ]
     },
     "execution_count": 91,
     "metadata": {},
     "output_type": "execute_result"
    }
   ],
   "source": [
    "a.find('i')"
   ]
  },
  {
   "cell_type": "code",
   "execution_count": 92,
   "id": "d979d92a-ac6c-41ac-9fa3-f41332460e29",
   "metadata": {},
   "outputs": [
    {
     "data": {
      "text/plain": [
       "25"
      ]
     },
     "execution_count": 92,
     "metadata": {},
     "output_type": "execute_result"
    }
   ],
   "source": [
    "len(a)"
   ]
  },
  {
   "cell_type": "code",
   "execution_count": 93,
   "id": "5db7f37b-0109-4214-a774-29a4bd4948de",
   "metadata": {},
   "outputs": [
    {
     "data": {
      "text/plain": [
       "' kartikay  kartikay  kartikay  kartikay  kartikay '"
      ]
     },
     "execution_count": 93,
     "metadata": {},
     "output_type": "execute_result"
    }
   ],
   "source": [
    "' kartikay ' * 5"
   ]
  },
  {
   "cell_type": "code",
   "execution_count": 94,
   "id": "033759f9-cfe2-46ec-a82e-62c0ad353f35",
   "metadata": {},
   "outputs": [],
   "source": [
    "a = 'aaabcdefgh'"
   ]
  },
  {
   "cell_type": "code",
   "execution_count": 95,
   "id": "d2327b16-4014-4d5c-9dab-9801d77c24c5",
   "metadata": {},
   "outputs": [
    {
     "data": {
      "text/plain": [
       "True"
      ]
     },
     "execution_count": 95,
     "metadata": {},
     "output_type": "execute_result"
    }
   ],
   "source": [
    "'a' in a"
   ]
  },
  {
   "cell_type": "code",
   "execution_count": 96,
   "id": "f33b6141-dd90-44a9-b534-a2d70f8f3edc",
   "metadata": {},
   "outputs": [
    {
     "data": {
      "text/plain": [
       "3"
      ]
     },
     "execution_count": 96,
     "metadata": {},
     "output_type": "execute_result"
    }
   ],
   "source": [
    "a.count('a')"
   ]
  },
  {
   "cell_type": "code",
   "execution_count": 97,
   "id": "b1d941e8-5174-4ef1-a227-61d1d97c6e7a",
   "metadata": {},
   "outputs": [
    {
     "data": {
      "text/plain": [
       "False"
      ]
     },
     "execution_count": 97,
     "metadata": {},
     "output_type": "execute_result"
    }
   ],
   "source": [
    "'i' in a"
   ]
  },
  {
   "cell_type": "code",
   "execution_count": 98,
   "id": "ff09fdec-bcb4-40fe-8400-ded37754b737",
   "metadata": {},
   "outputs": [],
   "source": [
    "a = 'i am working with ineuron'"
   ]
  },
  {
   "cell_type": "code",
   "execution_count": 99,
   "id": "e6e1f343-fd80-4a00-8115-834dbf8aec17",
   "metadata": {},
   "outputs": [
    {
     "data": {
      "text/plain": [
       "'i am working with ineuron'"
      ]
     },
     "execution_count": 99,
     "metadata": {},
     "output_type": "execute_result"
    }
   ],
   "source": [
    "a"
   ]
  },
  {
   "cell_type": "code",
   "execution_count": 100,
   "id": "00a34a0c-ef11-4a95-85ce-66fae69d149a",
   "metadata": {},
   "outputs": [
    {
     "data": {
      "text/plain": [
       "['i', 'am', 'working', 'with', 'ineuron']"
      ]
     },
     "execution_count": 100,
     "metadata": {},
     "output_type": "execute_result"
    }
   ],
   "source": [
    "a.split(\" \")"
   ]
  },
  {
   "cell_type": "code",
   "execution_count": 101,
   "id": "ecda6ffa-10f4-45d6-8644-0cedc94816e3",
   "metadata": {},
   "outputs": [
    {
     "data": {
      "text/plain": [
       "list"
      ]
     },
     "execution_count": 101,
     "metadata": {},
     "output_type": "execute_result"
    }
   ],
   "source": [
    "type(a.split(\" \"))"
   ]
  },
  {
   "cell_type": "code",
   "execution_count": 102,
   "id": "f4e447b9-3b57-4cba-b31e-0572c6603816",
   "metadata": {},
   "outputs": [],
   "source": [
    "l = ['i', 'am', 'working', 'with', 'ineuron']"
   ]
  },
  {
   "cell_type": "code",
   "execution_count": 103,
   "id": "89fed773-00ee-49fb-81a8-43682156b4ed",
   "metadata": {},
   "outputs": [
    {
     "data": {
      "text/plain": [
       "'i'"
      ]
     },
     "execution_count": 103,
     "metadata": {},
     "output_type": "execute_result"
    }
   ],
   "source": [
    "l[0]"
   ]
  },
  {
   "cell_type": "code",
   "execution_count": 104,
   "id": "966a8f36-c50d-4e3e-a79d-995daf537c09",
   "metadata": {},
   "outputs": [
    {
     "data": {
      "text/plain": [
       "'am'"
      ]
     },
     "execution_count": 104,
     "metadata": {},
     "output_type": "execute_result"
    }
   ],
   "source": [
    "l[1]"
   ]
  },
  {
   "cell_type": "code",
   "execution_count": 105,
   "id": "c8554eca-9376-4888-a4be-40e41405e076",
   "metadata": {},
   "outputs": [
    {
     "data": {
      "text/plain": [
       "'a'"
      ]
     },
     "execution_count": 105,
     "metadata": {},
     "output_type": "execute_result"
    }
   ],
   "source": [
    "l[1][0]"
   ]
  },
  {
   "cell_type": "code",
   "execution_count": 106,
   "id": "356f321a-5ccd-4a74-916b-4c0cd671c415",
   "metadata": {},
   "outputs": [
    {
     "data": {
      "text/plain": [
       "'working'"
      ]
     },
     "execution_count": 106,
     "metadata": {},
     "output_type": "execute_result"
    }
   ],
   "source": [
    "l[2]"
   ]
  },
  {
   "cell_type": "code",
   "execution_count": 107,
   "id": "ca0d7573-b95f-4415-8a0c-076dde5458f9",
   "metadata": {},
   "outputs": [
    {
     "data": {
      "text/plain": [
       "['i', 'am', 'working']"
      ]
     },
     "execution_count": 107,
     "metadata": {},
     "output_type": "execute_result"
    }
   ],
   "source": [
    "l[0:3]"
   ]
  },
  {
   "cell_type": "code",
   "execution_count": 108,
   "id": "655e3b76-13e5-4019-9cac-90c4afb79277",
   "metadata": {},
   "outputs": [
    {
     "data": {
      "text/plain": [
       "['i', 'am', 'working', 'with', 'ineuron']"
      ]
     },
     "execution_count": 108,
     "metadata": {},
     "output_type": "execute_result"
    }
   ],
   "source": [
    "l[0:]"
   ]
  },
  {
   "cell_type": "code",
   "execution_count": 109,
   "id": "e455adcf-18b8-4c6c-9163-89eccea805fd",
   "metadata": {},
   "outputs": [
    {
     "data": {
      "text/plain": [
       "['ineuron', 'with', 'working', 'am', 'i']"
      ]
     },
     "execution_count": 109,
     "metadata": {},
     "output_type": "execute_result"
    }
   ],
   "source": [
    "l[::-1]"
   ]
  },
  {
   "cell_type": "code",
   "execution_count": 110,
   "id": "b5114f9a-28ae-49b5-ba7a-9973a98db2de",
   "metadata": {},
   "outputs": [
    {
     "data": {
      "text/plain": [
       "'i am working with ineuron'"
      ]
     },
     "execution_count": 110,
     "metadata": {},
     "output_type": "execute_result"
    }
   ],
   "source": [
    "a"
   ]
  },
  {
   "cell_type": "code",
   "execution_count": 111,
   "id": "829058b3-4cfe-4311-9958-91b5d1cc9ee3",
   "metadata": {},
   "outputs": [
    {
     "data": {
      "text/plain": [
       "['', ' am work', 'ng w', 'th ', 'neuron']"
      ]
     },
     "execution_count": 111,
     "metadata": {},
     "output_type": "execute_result"
    }
   ],
   "source": [
    "a.split('i')"
   ]
  },
  {
   "cell_type": "code",
   "execution_count": 112,
   "id": "a15293a6-2374-4874-b34a-73bc5e78226b",
   "metadata": {},
   "outputs": [
    {
     "data": {
      "text/plain": [
       "['i am ', 'orking ', 'ith ineuron']"
      ]
     },
     "execution_count": 112,
     "metadata": {},
     "output_type": "execute_result"
    }
   ],
   "source": [
    "a.split('w')"
   ]
  },
  {
   "cell_type": "code",
   "execution_count": 113,
   "id": "cf02a587-5588-4fc3-93c7-740e5723a4da",
   "metadata": {},
   "outputs": [
    {
     "data": {
      "text/plain": [
       "['i am ', 'rking with ineuron']"
      ]
     },
     "execution_count": 113,
     "metadata": {},
     "output_type": "execute_result"
    }
   ],
   "source": [
    "a.split('wo')"
   ]
  },
  {
   "cell_type": "code",
   "execution_count": 114,
   "id": "db26ee88-ec33-470a-a7fd-27f251addda6",
   "metadata": {},
   "outputs": [
    {
     "data": {
      "text/plain": [
       "'i am working with ineuron'"
      ]
     },
     "execution_count": 114,
     "metadata": {},
     "output_type": "execute_result"
    }
   ],
   "source": [
    "a"
   ]
  },
  {
   "cell_type": "code",
   "execution_count": 115,
   "id": "c32d2a62-a448-40ca-a364-89b9ab1f46ed",
   "metadata": {},
   "outputs": [
    {
     "data": {
      "text/plain": [
       "'I AM WORKING WITH INEURON'"
      ]
     },
     "execution_count": 115,
     "metadata": {},
     "output_type": "execute_result"
    }
   ],
   "source": [
    "a.upper()"
   ]
  },
  {
   "cell_type": "code",
   "execution_count": 116,
   "id": "3e4b5f51-9408-4a33-b341-c8965e97e668",
   "metadata": {},
   "outputs": [
    {
     "data": {
      "text/plain": [
       "'i am working with ineuron'"
      ]
     },
     "execution_count": 116,
     "metadata": {},
     "output_type": "execute_result"
    }
   ],
   "source": [
    "a.lower()"
   ]
  },
  {
   "cell_type": "code",
   "execution_count": 117,
   "id": "4b50f9c9-0057-4188-b286-e408b35239e0",
   "metadata": {},
   "outputs": [],
   "source": [
    "s = \"sUdh\""
   ]
  },
  {
   "cell_type": "code",
   "execution_count": 118,
   "id": "a03674e2-7160-48d2-a473-a9d7de371426",
   "metadata": {},
   "outputs": [
    {
     "data": {
      "text/plain": [
       "'SuDH'"
      ]
     },
     "execution_count": 118,
     "metadata": {},
     "output_type": "execute_result"
    }
   ],
   "source": [
    "s.swapcase()"
   ]
  },
  {
   "cell_type": "code",
   "execution_count": 119,
   "id": "f74ca17a-9f76-42c7-b5f3-7b8407049432",
   "metadata": {},
   "outputs": [
    {
     "data": {
      "text/plain": [
       "'Sudh'"
      ]
     },
     "execution_count": 119,
     "metadata": {},
     "output_type": "execute_result"
    }
   ],
   "source": [
    "s.title()"
   ]
  },
  {
   "cell_type": "code",
   "execution_count": 120,
   "id": "9627d10f-ad14-4628-ad92-55c4c55be8d8",
   "metadata": {},
   "outputs": [
    {
     "data": {
      "text/plain": [
       "'Sudh'"
      ]
     },
     "execution_count": 120,
     "metadata": {},
     "output_type": "execute_result"
    }
   ],
   "source": [
    "s.capitalize()"
   ]
  },
  {
   "cell_type": "code",
   "execution_count": 121,
   "id": "3858613f-2d96-49ee-9e24-0fd8333262f6",
   "metadata": {},
   "outputs": [],
   "source": [
    "b = ' sudh '\n",
    "c = 'ineuron'"
   ]
  },
  {
   "cell_type": "code",
   "execution_count": 122,
   "id": "29c0291a-1468-4825-a9ca-f3c789ba83f6",
   "metadata": {},
   "outputs": [
    {
     "data": {
      "text/plain": [
       "'i sudh n sudh e sudh u sudh r sudh o sudh n'"
      ]
     },
     "execution_count": 122,
     "metadata": {},
     "output_type": "execute_result"
    }
   ],
   "source": [
    "b.join(c)"
   ]
  },
  {
   "cell_type": "code",
   "execution_count": 123,
   "id": "4aab5174-bbde-4b24-9683-1da5e7a85cde",
   "metadata": {},
   "outputs": [
    {
     "data": {
      "text/plain": [
       "'k * a * r * t * i * k * a * y'"
      ]
     },
     "execution_count": 123,
     "metadata": {},
     "output_type": "execute_result"
    }
   ],
   "source": [
    "\" * \".join('kartikay')"
   ]
  },
  {
   "cell_type": "code",
   "execution_count": 124,
   "id": "18c603e7-5bdb-4860-8681-8074be044914",
   "metadata": {},
   "outputs": [
    {
     "name": "stdout",
     "output_type": "stream",
     "text": [
      "h\n",
      "d\n",
      "u\n",
      "s\n"
     ]
    }
   ],
   "source": [
    "for i in reversed(\"sudh\"):\n",
    "    print(i)"
   ]
  },
  {
   "cell_type": "code",
   "execution_count": 125,
   "id": "852a95cc-1821-4973-ac80-d4287da6903a",
   "metadata": {},
   "outputs": [
    {
     "data": {
      "text/plain": [
       "'hdus'"
      ]
     },
     "execution_count": 125,
     "metadata": {},
     "output_type": "execute_result"
    }
   ],
   "source": [
    "s = 'sudh'\n",
    "s[::-1]"
   ]
  },
  {
   "cell_type": "code",
   "execution_count": 126,
   "id": "500b06f6-0476-4f69-93fb-abc2e8698d54",
   "metadata": {},
   "outputs": [],
   "source": [
    "s = ' sudh '"
   ]
  },
  {
   "cell_type": "code",
   "execution_count": 127,
   "id": "957887e3-55ac-4716-9230-5c2f335288ab",
   "metadata": {},
   "outputs": [
    {
     "data": {
      "text/plain": [
       "' sudh'"
      ]
     },
     "execution_count": 127,
     "metadata": {},
     "output_type": "execute_result"
    }
   ],
   "source": [
    "s.rstrip()"
   ]
  },
  {
   "cell_type": "code",
   "execution_count": 128,
   "id": "da75ef58-1511-438c-93bf-718d2961b172",
   "metadata": {},
   "outputs": [
    {
     "data": {
      "text/plain": [
       "'sudh '"
      ]
     },
     "execution_count": 128,
     "metadata": {},
     "output_type": "execute_result"
    }
   ],
   "source": [
    "s.lstrip()"
   ]
  },
  {
   "cell_type": "code",
   "execution_count": 129,
   "id": "e69b58ad-5d18-4e80-bedc-4744eab9bf68",
   "metadata": {},
   "outputs": [
    {
     "data": {
      "text/plain": [
       "'sudh'"
      ]
     },
     "execution_count": 129,
     "metadata": {},
     "output_type": "execute_result"
    }
   ],
   "source": [
    "s.strip()"
   ]
  },
  {
   "cell_type": "code",
   "execution_count": 130,
   "id": "2948a823-f37b-472f-af74-447b5d2dfb81",
   "metadata": {},
   "outputs": [
    {
     "data": {
      "text/plain": [
       "' sudh '"
      ]
     },
     "execution_count": 130,
     "metadata": {},
     "output_type": "execute_result"
    }
   ],
   "source": [
    "s"
   ]
  },
  {
   "cell_type": "code",
   "execution_count": 131,
   "id": "022ea77d-b211-4870-9db7-441085de9ef2",
   "metadata": {},
   "outputs": [],
   "source": [
    "s = 'sudh'"
   ]
  },
  {
   "cell_type": "code",
   "execution_count": 132,
   "id": "75954db0-355f-4a4a-aa32-b5a6d0da8637",
   "metadata": {},
   "outputs": [
    {
     "data": {
      "text/plain": [
       "'s|xyz|dh'"
      ]
     },
     "execution_count": 132,
     "metadata": {},
     "output_type": "execute_result"
    }
   ],
   "source": [
    "s.replace('u','|xyz|')"
   ]
  },
  {
   "cell_type": "code",
   "execution_count": 133,
   "id": "4f544f2d-404f-4bfb-81e0-87e067d80bd8",
   "metadata": {},
   "outputs": [
    {
     "data": {
      "text/plain": [
       "'sudh'"
      ]
     },
     "execution_count": 133,
     "metadata": {},
     "output_type": "execute_result"
    }
   ],
   "source": [
    "s"
   ]
  },
  {
   "cell_type": "code",
   "execution_count": 134,
   "id": "0603e3ad-aad2-44cd-b164-973f23c76a45",
   "metadata": {},
   "outputs": [
    {
     "data": {
      "text/plain": [
       "'sudh'"
      ]
     },
     "execution_count": 134,
     "metadata": {},
     "output_type": "execute_result"
    }
   ],
   "source": [
    "s.replace('t','|xyz|')"
   ]
  },
  {
   "cell_type": "code",
   "execution_count": 135,
   "id": "b17c775e-1586-4bad-99c8-0e183b92b98c",
   "metadata": {},
   "outputs": [
    {
     "data": {
      "text/plain": [
       "'sudh    kumar'"
      ]
     },
     "execution_count": 135,
     "metadata": {},
     "output_type": "execute_result"
    }
   ],
   "source": [
    "\"sudh\\tkumar\".expandtabs()"
   ]
  },
  {
   "cell_type": "code",
   "execution_count": 136,
   "id": "ec8b7b14-787e-41c1-b838-e4b71f83ab84",
   "metadata": {},
   "outputs": [],
   "source": [
    "s = \"sudh\""
   ]
  },
  {
   "cell_type": "code",
   "execution_count": 137,
   "id": "8f92194c-b65b-4c2e-9be9-4d1bc0bdf9c0",
   "metadata": {},
   "outputs": [
    {
     "data": {
      "text/plain": [
       "'||||||||||||||||||sudh||||||||||||||||||'"
      ]
     },
     "execution_count": 137,
     "metadata": {},
     "output_type": "execute_result"
    }
   ],
   "source": [
    "s.center(40,'|')"
   ]
  },
  {
   "cell_type": "code",
   "execution_count": 138,
   "id": "dab0627a-a011-4672-a65e-8d7fe3d1d156",
   "metadata": {},
   "outputs": [],
   "source": [
    "s = 'SUDH'"
   ]
  },
  {
   "cell_type": "code",
   "execution_count": 139,
   "id": "1d70d895-ac7a-4d88-8775-c85d46816f9b",
   "metadata": {},
   "outputs": [
    {
     "data": {
      "text/plain": [
       "True"
      ]
     },
     "execution_count": 139,
     "metadata": {},
     "output_type": "execute_result"
    }
   ],
   "source": [
    "s.isupper()"
   ]
  },
  {
   "cell_type": "code",
   "execution_count": 140,
   "id": "7b4ce692-e162-4bc0-8de3-6b8c3c9e6952",
   "metadata": {},
   "outputs": [
    {
     "data": {
      "text/plain": [
       "False"
      ]
     },
     "execution_count": 140,
     "metadata": {},
     "output_type": "execute_result"
    }
   ],
   "source": [
    "s.islower()"
   ]
  },
  {
   "cell_type": "code",
   "execution_count": 141,
   "id": "19ac9e3f-c65e-4b73-94e4-0c663aafccbc",
   "metadata": {},
   "outputs": [],
   "source": [
    "s = \" \" "
   ]
  },
  {
   "cell_type": "code",
   "execution_count": 142,
   "id": "ec9ef363-0726-48ae-978b-ee46c0a50116",
   "metadata": {},
   "outputs": [
    {
     "data": {
      "text/plain": [
       "True"
      ]
     },
     "execution_count": 142,
     "metadata": {},
     "output_type": "execute_result"
    }
   ],
   "source": [
    "s.isspace()"
   ]
  },
  {
   "cell_type": "code",
   "execution_count": 143,
   "id": "567ce31a-a94d-42fd-946e-2158f35db83b",
   "metadata": {},
   "outputs": [],
   "source": [
    "s = 'sudh'"
   ]
  },
  {
   "cell_type": "code",
   "execution_count": 144,
   "id": "f5980e9b-36f8-4df2-a601-71d8bbe3fa47",
   "metadata": {},
   "outputs": [
    {
     "data": {
      "text/plain": [
       "False"
      ]
     },
     "execution_count": 144,
     "metadata": {},
     "output_type": "execute_result"
    }
   ],
   "source": [
    "s.isdigit()"
   ]
  },
  {
   "cell_type": "code",
   "execution_count": 145,
   "id": "ae459d5b-929e-4522-bef0-310fedfbc164",
   "metadata": {},
   "outputs": [],
   "source": [
    "r = '123434'"
   ]
  },
  {
   "cell_type": "code",
   "execution_count": 146,
   "id": "348a5e6b-5559-48de-b7d8-6bb3c9da0f6e",
   "metadata": {},
   "outputs": [
    {
     "data": {
      "text/plain": [
       "True"
      ]
     },
     "execution_count": 146,
     "metadata": {},
     "output_type": "execute_result"
    }
   ],
   "source": [
    "r.isdigit()"
   ]
  },
  {
   "cell_type": "code",
   "execution_count": 147,
   "id": "a360b535-0830-46d8-bb4c-38ca2d0123f5",
   "metadata": {},
   "outputs": [
    {
     "data": {
      "text/plain": [
       "'sudh'"
      ]
     },
     "execution_count": 147,
     "metadata": {},
     "output_type": "execute_result"
    }
   ],
   "source": [
    "s"
   ]
  },
  {
   "cell_type": "code",
   "execution_count": 148,
   "id": "44410df8-8a69-4120-8ec5-81efb807db00",
   "metadata": {},
   "outputs": [
    {
     "data": {
      "text/plain": [
       "True"
      ]
     },
     "execution_count": 148,
     "metadata": {},
     "output_type": "execute_result"
    }
   ],
   "source": [
    "s.endswith('h')"
   ]
  },
  {
   "cell_type": "code",
   "execution_count": 149,
   "id": "3a32b1f0-4db7-479c-8c6e-a7377c0a30c3",
   "metadata": {},
   "outputs": [
    {
     "data": {
      "text/plain": [
       "True"
      ]
     },
     "execution_count": 149,
     "metadata": {},
     "output_type": "execute_result"
    }
   ],
   "source": [
    "s.startswith('s')"
   ]
  },
  {
   "cell_type": "code",
   "execution_count": 150,
   "id": "cbb8792f-308a-4f5b-9653-3dbd8afe09fb",
   "metadata": {},
   "outputs": [
    {
     "data": {
      "text/plain": [
       "False"
      ]
     },
     "execution_count": 150,
     "metadata": {},
     "output_type": "execute_result"
    }
   ],
   "source": [
    "s.istitle()"
   ]
  },
  {
   "cell_type": "code",
   "execution_count": 151,
   "id": "f941cf15-855b-4078-889d-f768d7a5dbee",
   "metadata": {},
   "outputs": [],
   "source": [
    "t = 'Kartikay'"
   ]
  },
  {
   "cell_type": "code",
   "execution_count": 152,
   "id": "472d9bd2-37a7-476a-ad88-a8cfa33997b3",
   "metadata": {},
   "outputs": [
    {
     "data": {
      "text/plain": [
       "True"
      ]
     },
     "execution_count": 152,
     "metadata": {},
     "output_type": "execute_result"
    }
   ],
   "source": [
    "t.istitle()"
   ]
  },
  {
   "cell_type": "code",
   "execution_count": 153,
   "id": "1874bcd9-d10e-4a5a-a278-40463ec0bf68",
   "metadata": {},
   "outputs": [
    {
     "data": {
      "text/plain": [
       "b'sudh'"
      ]
     },
     "execution_count": 153,
     "metadata": {},
     "output_type": "execute_result"
    }
   ],
   "source": [
    "s.encode()"
   ]
  },
  {
   "cell_type": "code",
   "execution_count": 154,
   "id": "9d8d4770-7abc-4f40-9b5a-24e77e17a82a",
   "metadata": {},
   "outputs": [
    {
     "data": {
      "text/plain": [
       "'sudh'"
      ]
     },
     "execution_count": 154,
     "metadata": {},
     "output_type": "execute_result"
    }
   ],
   "source": [
    "s"
   ]
  },
  {
   "cell_type": "code",
   "execution_count": 155,
   "id": "ac77d2cc-db6f-4f48-87a9-e69bbc34e2eb",
   "metadata": {},
   "outputs": [],
   "source": [
    "l = [1,2,3,4,5]"
   ]
  },
  {
   "cell_type": "code",
   "execution_count": 156,
   "id": "8a4994a0-d5b5-4d52-96be-669e043c2a71",
   "metadata": {},
   "outputs": [
    {
     "data": {
      "text/plain": [
       "list"
      ]
     },
     "execution_count": 156,
     "metadata": {},
     "output_type": "execute_result"
    }
   ],
   "source": [
    "type(l)"
   ]
  },
  {
   "cell_type": "code",
   "execution_count": 157,
   "id": "2bbf5306-6f74-499d-a276-219b4db64794",
   "metadata": {},
   "outputs": [],
   "source": [
    "l = ['sudh','kumar',1,2,3,4,5,4+3j,True,324.44,3242]"
   ]
  },
  {
   "cell_type": "code",
   "execution_count": 158,
   "id": "a02562d3-633e-4172-bba8-189f85548b9b",
   "metadata": {},
   "outputs": [
    {
     "data": {
      "text/plain": [
       "list"
      ]
     },
     "execution_count": 158,
     "metadata": {},
     "output_type": "execute_result"
    }
   ],
   "source": [
    "type(l)"
   ]
  },
  {
   "cell_type": "code",
   "execution_count": 159,
   "id": "b07bea34-8302-468c-bf55-0a842bde7b76",
   "metadata": {},
   "outputs": [
    {
     "data": {
      "text/plain": [
       "'sudh'"
      ]
     },
     "execution_count": 159,
     "metadata": {},
     "output_type": "execute_result"
    }
   ],
   "source": [
    "l[0]"
   ]
  },
  {
   "cell_type": "code",
   "execution_count": 160,
   "id": "0d8cc42d-006b-4952-a8a7-eab01940b75c",
   "metadata": {},
   "outputs": [
    {
     "data": {
      "text/plain": [
       "1"
      ]
     },
     "execution_count": 160,
     "metadata": {},
     "output_type": "execute_result"
    }
   ],
   "source": [
    "l[2]"
   ]
  },
  {
   "cell_type": "code",
   "execution_count": 161,
   "id": "fc03f58f-34b8-453a-a897-0328f7955f48",
   "metadata": {},
   "outputs": [
    {
     "data": {
      "text/plain": [
       "3242"
      ]
     },
     "execution_count": 161,
     "metadata": {},
     "output_type": "execute_result"
    }
   ],
   "source": [
    "l[-1]"
   ]
  },
  {
   "cell_type": "code",
   "execution_count": 162,
   "id": "b44f1789-6217-43fc-9245-56c8000ac0ba",
   "metadata": {},
   "outputs": [
    {
     "data": {
      "text/plain": [
       "324.44"
      ]
     },
     "execution_count": 162,
     "metadata": {},
     "output_type": "execute_result"
    }
   ],
   "source": [
    "l[-2]"
   ]
  },
  {
   "cell_type": "code",
   "execution_count": 163,
   "id": "1a869286-6f90-4924-9f14-c7e00c37ed32",
   "metadata": {},
   "outputs": [
    {
     "data": {
      "text/plain": [
       "5"
      ]
     },
     "execution_count": 163,
     "metadata": {},
     "output_type": "execute_result"
    }
   ],
   "source": [
    "l[-5]"
   ]
  },
  {
   "cell_type": "code",
   "execution_count": 164,
   "id": "311298b6-e688-4f9f-80c4-d781c5d98353",
   "metadata": {},
   "outputs": [
    {
     "data": {
      "text/plain": [
       "['sudh', 'kumar', 1, 2, 3]"
      ]
     },
     "execution_count": 164,
     "metadata": {},
     "output_type": "execute_result"
    }
   ],
   "source": [
    "l[0:5]"
   ]
  },
  {
   "cell_type": "code",
   "execution_count": 165,
   "id": "9cb18eda-9a50-4ac5-a9f2-872f180d82ef",
   "metadata": {},
   "outputs": [
    {
     "data": {
      "text/plain": [
       "[3242, 324.44, True, (4+3j), 5, 4, 3, 2, 1, 'kumar', 'sudh']"
      ]
     },
     "execution_count": 165,
     "metadata": {},
     "output_type": "execute_result"
    }
   ],
   "source": [
    "l[::-1]"
   ]
  },
  {
   "cell_type": "code",
   "execution_count": 166,
   "id": "993d00c3-2901-483a-8db9-aadf029037cd",
   "metadata": {},
   "outputs": [
    {
     "data": {
      "text/plain": [
       "['sudh', 'kumar', 1, 2, 3, 4, 5, (4+3j), True, 324.44, 3242]"
      ]
     },
     "execution_count": 166,
     "metadata": {},
     "output_type": "execute_result"
    }
   ],
   "source": [
    "l"
   ]
  },
  {
   "cell_type": "code",
   "execution_count": 167,
   "id": "2ca186aa-166a-4bb0-8f9c-b4342ec5c9ba",
   "metadata": {},
   "outputs": [
    {
     "data": {
      "text/plain": [
       "[3242]"
      ]
     },
     "execution_count": 167,
     "metadata": {},
     "output_type": "execute_result"
    }
   ],
   "source": [
    "l[-1:12]"
   ]
  },
  {
   "cell_type": "code",
   "execution_count": 168,
   "id": "b876ffbf-52e9-4a7a-99c6-68d5932343b5",
   "metadata": {},
   "outputs": [
    {
     "data": {
      "text/plain": [
       "'u'"
      ]
     },
     "execution_count": 168,
     "metadata": {},
     "output_type": "execute_result"
    }
   ],
   "source": [
    "l[0][1]"
   ]
  },
  {
   "cell_type": "code",
   "execution_count": 169,
   "id": "1c5e3e2a-9a62-4d4e-b38f-b4584fdec129",
   "metadata": {},
   "outputs": [
    {
     "data": {
      "text/plain": [
       "bool"
      ]
     },
     "execution_count": 169,
     "metadata": {},
     "output_type": "execute_result"
    }
   ],
   "source": [
    "type(l[8])"
   ]
  },
  {
   "cell_type": "code",
   "execution_count": 170,
   "id": "77849d98-db02-476d-a7c7-14b842037b9e",
   "metadata": {},
   "outputs": [
    {
     "data": {
      "text/plain": [
       "(4+3j)"
      ]
     },
     "execution_count": 170,
     "metadata": {},
     "output_type": "execute_result"
    }
   ],
   "source": [
    "l[7]"
   ]
  },
  {
   "cell_type": "code",
   "execution_count": 171,
   "id": "b2c37036-3b37-4ca0-a54c-10ca33469a41",
   "metadata": {},
   "outputs": [
    {
     "data": {
      "text/plain": [
       "complex"
      ]
     },
     "execution_count": 171,
     "metadata": {},
     "output_type": "execute_result"
    }
   ],
   "source": [
    "type(l[7])"
   ]
  },
  {
   "cell_type": "code",
   "execution_count": 172,
   "id": "34302764-2e48-4ed7-8750-8b44cdb3c497",
   "metadata": {},
   "outputs": [
    {
     "data": {
      "text/plain": [
       "4.0"
      ]
     },
     "execution_count": 172,
     "metadata": {},
     "output_type": "execute_result"
    }
   ],
   "source": [
    "l[7].real"
   ]
  },
  {
   "cell_type": "code",
   "execution_count": 173,
   "id": "f1c06ce2-f0ae-481d-a9d8-98515f28f0d5",
   "metadata": {},
   "outputs": [
    {
     "data": {
      "text/plain": [
       "3.0"
      ]
     },
     "execution_count": 173,
     "metadata": {},
     "output_type": "execute_result"
    }
   ],
   "source": [
    "l[7].imag"
   ]
  },
  {
   "cell_type": "code",
   "execution_count": 174,
   "id": "aa6b41d5-66a7-4334-910c-fb4539f627a1",
   "metadata": {},
   "outputs": [
    {
     "data": {
      "text/plain": [
       "['sudh', 'kumar', 1, 2, 3, 4, 5, (4+3j), True, 324.44, 3242]"
      ]
     },
     "execution_count": 174,
     "metadata": {},
     "output_type": "execute_result"
    }
   ],
   "source": [
    "l"
   ]
  },
  {
   "cell_type": "code",
   "execution_count": 175,
   "id": "a9e8332b-97fa-4679-af5a-aab23f54b62a",
   "metadata": {},
   "outputs": [],
   "source": [
    "l1 = [\"sudh\",\"kumar\",4353]\n",
    "l2 = [\"xyz\",\"pqr\",3223.434]"
   ]
  },
  {
   "cell_type": "code",
   "execution_count": 176,
   "id": "45688962-ba2c-421c-987e-6dab1bb7507a",
   "metadata": {},
   "outputs": [
    {
     "data": {
      "text/plain": [
       "['sudh', 'kumar', 4353, 'xyz', 'pqr', 3223.434]"
      ]
     },
     "execution_count": 176,
     "metadata": {},
     "output_type": "execute_result"
    }
   ],
   "source": [
    "l1+l2"
   ]
  },
  {
   "cell_type": "code",
   "execution_count": 177,
   "id": "36c5c29a-a897-44d9-a552-4d9c7aeae95a",
   "metadata": {},
   "outputs": [
    {
     "data": {
      "text/plain": [
       "['sudh', 'kumar', 4353, 'sudh']"
      ]
     },
     "execution_count": 177,
     "metadata": {},
     "output_type": "execute_result"
    }
   ],
   "source": [
    "l1 + [\"sudh\"]"
   ]
  },
  {
   "cell_type": "code",
   "execution_count": 178,
   "id": "f4ef29a3-1934-4d5d-9999-f3f1398fdfa0",
   "metadata": {},
   "outputs": [
    {
     "data": {
      "text/plain": [
       "['sudh', 'kumar', 4353]"
      ]
     },
     "execution_count": 178,
     "metadata": {},
     "output_type": "execute_result"
    }
   ],
   "source": [
    "l1"
   ]
  },
  {
   "cell_type": "code",
   "execution_count": 179,
   "id": "08784658-b7fb-48a3-ba12-d781ff77b3fe",
   "metadata": {},
   "outputs": [
    {
     "data": {
      "text/plain": [
       "['xyz', 'pqr', 3223.434]"
      ]
     },
     "execution_count": 179,
     "metadata": {},
     "output_type": "execute_result"
    }
   ],
   "source": [
    "l2"
   ]
  },
  {
   "cell_type": "code",
   "execution_count": 180,
   "id": "b1df3f81-9232-4d69-a2f9-fc17d7df3196",
   "metadata": {},
   "outputs": [
    {
     "data": {
      "text/plain": [
       "['sudh', 'kumar', 4353, 'sudh', 'kumar', 4353, 'sudh', 'kumar', 4353]"
      ]
     },
     "execution_count": 180,
     "metadata": {},
     "output_type": "execute_result"
    }
   ],
   "source": [
    "l1*3"
   ]
  },
  {
   "cell_type": "code",
   "execution_count": 181,
   "id": "77f32f04-45c0-446a-8e89-5730aae0ea10",
   "metadata": {},
   "outputs": [
    {
     "data": {
      "text/plain": [
       "' kartikay  kartikay  kartikay  kartikay '"
      ]
     },
     "execution_count": 181,
     "metadata": {},
     "output_type": "execute_result"
    }
   ],
   "source": [
    "\" kartikay \" * 4"
   ]
  },
  {
   "cell_type": "code",
   "execution_count": 182,
   "id": "6e3e5b21-706c-4b23-8b85-400d43e4685b",
   "metadata": {},
   "outputs": [
    {
     "data": {
      "text/plain": [
       "['sudh', 'kumar', 4353]"
      ]
     },
     "execution_count": 182,
     "metadata": {},
     "output_type": "execute_result"
    }
   ],
   "source": [
    "l1"
   ]
  },
  {
   "cell_type": "code",
   "execution_count": 183,
   "id": "16c3bf8f-c733-4a36-aeeb-a608c5334789",
   "metadata": {},
   "outputs": [],
   "source": [
    "l1[0] = \"kartikay\""
   ]
  },
  {
   "cell_type": "code",
   "execution_count": 184,
   "id": "3d792578-a140-4ff0-97ad-997b8c201131",
   "metadata": {},
   "outputs": [
    {
     "data": {
      "text/plain": [
       "['kartikay', 'kumar', 4353]"
      ]
     },
     "execution_count": 184,
     "metadata": {},
     "output_type": "execute_result"
    }
   ],
   "source": [
    "l1"
   ]
  },
  {
   "cell_type": "code",
   "execution_count": 185,
   "id": "c6ece2d9-0a20-41eb-a466-fcc6c9dc6061",
   "metadata": {},
   "outputs": [],
   "source": [
    "s = 'sudh'"
   ]
  },
  {
   "cell_type": "code",
   "execution_count": 186,
   "id": "4a6b14ac-c6db-478b-b443-a3d48999ea41",
   "metadata": {},
   "outputs": [
    {
     "data": {
      "text/plain": [
       "'s'"
      ]
     },
     "execution_count": 186,
     "metadata": {},
     "output_type": "execute_result"
    }
   ],
   "source": [
    "s[0]"
   ]
  },
  {
   "cell_type": "code",
   "execution_count": 187,
   "id": "d319c482-307d-490d-8154-beac5e4d8003",
   "metadata": {},
   "outputs": [
    {
     "data": {
      "text/plain": [
       "['kartikay', 'kumar', 4353]"
      ]
     },
     "execution_count": 187,
     "metadata": {},
     "output_type": "execute_result"
    }
   ],
   "source": [
    "l1"
   ]
  },
  {
   "cell_type": "code",
   "execution_count": 188,
   "id": "6fd10dce-860b-4691-bd36-ea0f884fa628",
   "metadata": {},
   "outputs": [],
   "source": [
    "l1[1] = \"garg\""
   ]
  },
  {
   "cell_type": "code",
   "execution_count": 189,
   "id": "7e2e8194-18c3-40f6-b599-c38a2f76362f",
   "metadata": {},
   "outputs": [
    {
     "data": {
      "text/plain": [
       "['kartikay', 'garg', 4353]"
      ]
     },
     "execution_count": 189,
     "metadata": {},
     "output_type": "execute_result"
    }
   ],
   "source": [
    "l1"
   ]
  },
  {
   "cell_type": "code",
   "execution_count": 190,
   "id": "4a87ff91-db04-4a6b-98ac-92962b5ad6d2",
   "metadata": {},
   "outputs": [
    {
     "data": {
      "text/plain": [
       "'sudh'"
      ]
     },
     "execution_count": 190,
     "metadata": {},
     "output_type": "execute_result"
    }
   ],
   "source": [
    "s"
   ]
  },
  {
   "cell_type": "code",
   "execution_count": 191,
   "id": "37259cf4-e284-4e56-98be-a91223e3c39d",
   "metadata": {},
   "outputs": [
    {
     "data": {
      "text/plain": [
       "'vudh'"
      ]
     },
     "execution_count": 191,
     "metadata": {},
     "output_type": "execute_result"
    }
   ],
   "source": [
    "s.replace('s','v')"
   ]
  },
  {
   "cell_type": "code",
   "execution_count": 192,
   "id": "122a438b-a9b2-42e6-8d7b-a8da668fc2ca",
   "metadata": {},
   "outputs": [
    {
     "data": {
      "text/plain": [
       "['kartikay', 'garg', 4353]"
      ]
     },
     "execution_count": 192,
     "metadata": {},
     "output_type": "execute_result"
    }
   ],
   "source": [
    "l1"
   ]
  },
  {
   "cell_type": "code",
   "execution_count": 193,
   "id": "3237b6cd-3e32-4b64-9c5c-6e7f412301d9",
   "metadata": {},
   "outputs": [
    {
     "data": {
      "text/plain": [
       "3"
      ]
     },
     "execution_count": 193,
     "metadata": {},
     "output_type": "execute_result"
    }
   ],
   "source": [
    "len(l1)"
   ]
  },
  {
   "cell_type": "code",
   "execution_count": 194,
   "id": "21c75bdc-f8d6-4c86-bde1-6ac733a0d545",
   "metadata": {},
   "outputs": [
    {
     "data": {
      "text/plain": [
       "True"
      ]
     },
     "execution_count": 194,
     "metadata": {},
     "output_type": "execute_result"
    }
   ],
   "source": [
    "\"garg\" in l1"
   ]
  },
  {
   "cell_type": "code",
   "execution_count": 195,
   "id": "e27f0556-b8e3-40f4-a705-9cd0df59d7c9",
   "metadata": {},
   "outputs": [
    {
     "data": {
      "text/plain": [
       "False"
      ]
     },
     "execution_count": 195,
     "metadata": {},
     "output_type": "execute_result"
    }
   ],
   "source": [
    "'345'in l1"
   ]
  },
  {
   "cell_type": "code",
   "execution_count": 196,
   "id": "3667dbba-1f31-406c-ada2-6950c0ca4f2b",
   "metadata": {},
   "outputs": [
    {
     "data": {
      "text/plain": [
       "True"
      ]
     },
     "execution_count": 196,
     "metadata": {},
     "output_type": "execute_result"
    }
   ],
   "source": [
    "4353 in l1"
   ]
  },
  {
   "cell_type": "code",
   "execution_count": 197,
   "id": "098a3ac7-3f3d-4cfd-bac0-c79bbaa6c41f",
   "metadata": {},
   "outputs": [
    {
     "data": {
      "text/plain": [
       "['xyz', 'pqr', 3223.434]"
      ]
     },
     "execution_count": 197,
     "metadata": {},
     "output_type": "execute_result"
    }
   ],
   "source": [
    "l2"
   ]
  },
  {
   "cell_type": "code",
   "execution_count": 198,
   "id": "6ddc9804-2894-4d55-a36b-09903d9787fd",
   "metadata": {},
   "outputs": [],
   "source": [
    "l2.append('sudh')"
   ]
  },
  {
   "cell_type": "code",
   "execution_count": 199,
   "id": "deb3e379-d1dc-4912-8312-9b04f3a990bd",
   "metadata": {},
   "outputs": [
    {
     "data": {
      "text/plain": [
       "['xyz', 'pqr', 3223.434, 'sudh']"
      ]
     },
     "execution_count": 199,
     "metadata": {},
     "output_type": "execute_result"
    }
   ],
   "source": [
    "l2"
   ]
  },
  {
   "cell_type": "code",
   "execution_count": 200,
   "id": "bddf18ca-591e-4995-8970-fd0e96bd7f44",
   "metadata": {},
   "outputs": [
    {
     "data": {
      "text/plain": [
       "'sudh'"
      ]
     },
     "execution_count": 200,
     "metadata": {},
     "output_type": "execute_result"
    }
   ],
   "source": [
    "l2.pop()"
   ]
  },
  {
   "cell_type": "code",
   "execution_count": 201,
   "id": "caab9687-3253-4988-a253-4860b285cc8a",
   "metadata": {},
   "outputs": [
    {
     "data": {
      "text/plain": [
       "['xyz', 'pqr', 3223.434]"
      ]
     },
     "execution_count": 201,
     "metadata": {},
     "output_type": "execute_result"
    }
   ],
   "source": [
    "l2"
   ]
  },
  {
   "cell_type": "code",
   "execution_count": 202,
   "id": "20572a2c-bd06-43b4-93fa-b8f74af55cb5",
   "metadata": {},
   "outputs": [
    {
     "data": {
      "text/plain": [
       "3223.434"
      ]
     },
     "execution_count": 202,
     "metadata": {},
     "output_type": "execute_result"
    }
   ],
   "source": [
    "l2.pop(2)"
   ]
  },
  {
   "cell_type": "code",
   "execution_count": 203,
   "id": "b7b85795-5d72-4bc5-818e-5a470876eb8f",
   "metadata": {},
   "outputs": [
    {
     "data": {
      "text/plain": [
       "['xyz', 'pqr']"
      ]
     },
     "execution_count": 203,
     "metadata": {},
     "output_type": "execute_result"
    }
   ],
   "source": [
    "l2"
   ]
  },
  {
   "cell_type": "code",
   "execution_count": 204,
   "id": "4ce3617c-98db-44ee-8771-544e18c37941",
   "metadata": {},
   "outputs": [],
   "source": [
    "l2.append(12233)"
   ]
  },
  {
   "cell_type": "code",
   "execution_count": 205,
   "id": "730c64de-9476-4770-8426-f339d6ebbb0d",
   "metadata": {},
   "outputs": [
    {
     "data": {
      "text/plain": [
       "['xyz', 'pqr', 12233]"
      ]
     },
     "execution_count": 205,
     "metadata": {},
     "output_type": "execute_result"
    }
   ],
   "source": [
    "l2"
   ]
  },
  {
   "cell_type": "code",
   "execution_count": 206,
   "id": "6e27022b-1fc9-4c90-be61-6ca9b8113adc",
   "metadata": {},
   "outputs": [],
   "source": [
    "l2.insert(1,\"efqfdq\")"
   ]
  },
  {
   "cell_type": "code",
   "execution_count": 207,
   "id": "cb2e5f99-f301-404d-8ae8-2bdf3038f875",
   "metadata": {},
   "outputs": [
    {
     "data": {
      "text/plain": [
       "['xyz', 'efqfdq', 'pqr', 12233]"
      ]
     },
     "execution_count": 207,
     "metadata": {},
     "output_type": "execute_result"
    }
   ],
   "source": [
    "l2"
   ]
  },
  {
   "cell_type": "code",
   "execution_count": 208,
   "id": "d1259710-6b8f-4230-9f4c-77ae92ac26d1",
   "metadata": {},
   "outputs": [],
   "source": [
    "l2.insert(3,[1,2,3,4,5])"
   ]
  },
  {
   "cell_type": "raw",
   "id": "46d2397a-11ac-4e61-a0bb-c7686da8969c",
   "metadata": {},
   "source": [
    "l2"
   ]
  },
  {
   "cell_type": "code",
   "execution_count": 209,
   "id": "c7a3ccf0-c695-400d-b2d3-b6d3a538b482",
   "metadata": {},
   "outputs": [
    {
     "data": {
      "text/plain": [
       "['kartikay', 'garg', 4353]"
      ]
     },
     "execution_count": 209,
     "metadata": {},
     "output_type": "execute_result"
    }
   ],
   "source": [
    "l1"
   ]
  },
  {
   "cell_type": "code",
   "execution_count": 210,
   "id": "52f8d31d-6d02-43e2-808a-974100042f5e",
   "metadata": {},
   "outputs": [
    {
     "data": {
      "text/plain": [
       "['xyz', 'efqfdq', 'pqr', [1, 2, 3, 4, 5], 12233]"
      ]
     },
     "execution_count": 210,
     "metadata": {},
     "output_type": "execute_result"
    }
   ],
   "source": [
    "l2"
   ]
  },
  {
   "cell_type": "code",
   "execution_count": 211,
   "id": "2ffd86e8-89f2-4897-b762-5c373d71bdcf",
   "metadata": {},
   "outputs": [
    {
     "data": {
      "text/plain": [
       "[12233, [1, 2, 3, 4, 5], 'pqr', 'efqfdq', 'xyz']"
      ]
     },
     "execution_count": 211,
     "metadata": {},
     "output_type": "execute_result"
    }
   ],
   "source": [
    "l2[::-1]"
   ]
  },
  {
   "cell_type": "code",
   "execution_count": 212,
   "id": "59c5fe12-6505-41e7-9c58-9c495457de26",
   "metadata": {},
   "outputs": [],
   "source": [
    "l2.reverse()"
   ]
  },
  {
   "cell_type": "code",
   "execution_count": 213,
   "id": "d7f5d297-0ef1-4f72-b076-dc032a99e64b",
   "metadata": {},
   "outputs": [
    {
     "data": {
      "text/plain": [
       "[12233, [1, 2, 3, 4, 5], 'pqr', 'efqfdq', 'xyz']"
      ]
     },
     "execution_count": 213,
     "metadata": {},
     "output_type": "execute_result"
    }
   ],
   "source": [
    "l2"
   ]
  },
  {
   "cell_type": "code",
   "execution_count": 214,
   "id": "a51eeabb-0f8a-4da8-a34c-6f0b38b81aac",
   "metadata": {},
   "outputs": [
    {
     "data": {
      "text/plain": [
       "['kartikay', 'garg', 4353]"
      ]
     },
     "execution_count": 214,
     "metadata": {},
     "output_type": "execute_result"
    }
   ],
   "source": [
    "l1"
   ]
  },
  {
   "cell_type": "code",
   "execution_count": 215,
   "id": "1aca30c2-2ccb-4a6c-9dc8-b09784bf25b4",
   "metadata": {},
   "outputs": [
    {
     "data": {
      "text/plain": [
       "[12233, [1, 2, 3, 4, 5], 'pqr', 'efqfdq', 'xyz']"
      ]
     },
     "execution_count": 215,
     "metadata": {},
     "output_type": "execute_result"
    }
   ],
   "source": [
    "l2"
   ]
  },
  {
   "cell_type": "code",
   "execution_count": 216,
   "id": "486f4129-8680-4c83-8302-7b5894d1c9ae",
   "metadata": {},
   "outputs": [
    {
     "data": {
      "text/plain": [
       "2"
      ]
     },
     "execution_count": 216,
     "metadata": {},
     "output_type": "execute_result"
    }
   ],
   "source": [
    "l2[1][1]"
   ]
  },
  {
   "cell_type": "code",
   "execution_count": 217,
   "id": "fd8f201a-c3db-4ed1-87e1-74197d7f1c46",
   "metadata": {},
   "outputs": [
    {
     "data": {
      "text/plain": [
       "[12233, [1, 2, 3, 4, 5], 'pqr', 'efqfdq', 'xyz']"
      ]
     },
     "execution_count": 217,
     "metadata": {},
     "output_type": "execute_result"
    }
   ],
   "source": [
    "l2"
   ]
  },
  {
   "cell_type": "code",
   "execution_count": 218,
   "id": "20fb1778-5587-4d67-8c38-545042b730ff",
   "metadata": {},
   "outputs": [
    {
     "data": {
      "text/plain": [
       "1"
      ]
     },
     "execution_count": 218,
     "metadata": {},
     "output_type": "execute_result"
    }
   ],
   "source": [
    "l2.count(\"xyz\")"
   ]
  },
  {
   "cell_type": "code",
   "execution_count": 219,
   "id": "69808314-f470-445d-b143-d181ee5bb1bf",
   "metadata": {},
   "outputs": [],
   "source": [
    "l2.append('dccqaac')"
   ]
  },
  {
   "cell_type": "code",
   "execution_count": 220,
   "id": "ac950c0c-9f16-49e1-8f76-c051117854a7",
   "metadata": {},
   "outputs": [
    {
     "data": {
      "text/plain": [
       "[12233, [1, 2, 3, 4, 5], 'pqr', 'efqfdq', 'xyz', 'dccqaac']"
      ]
     },
     "execution_count": 220,
     "metadata": {},
     "output_type": "execute_result"
    }
   ],
   "source": [
    "l2"
   ]
  },
  {
   "cell_type": "code",
   "execution_count": 221,
   "id": "3880b1ca-8543-4b00-927f-7b100b68a84e",
   "metadata": {},
   "outputs": [],
   "source": [
    "l2.append([3,4,5,6])"
   ]
  },
  {
   "cell_type": "code",
   "execution_count": 222,
   "id": "e03b2f10-05dc-42c3-bc74-9329db96d406",
   "metadata": {},
   "outputs": [
    {
     "data": {
      "text/plain": [
       "[12233, [1, 2, 3, 4, 5], 'pqr', 'efqfdq', 'xyz', 'dccqaac', [3, 4, 5, 6]]"
      ]
     },
     "execution_count": 222,
     "metadata": {},
     "output_type": "execute_result"
    }
   ],
   "source": [
    "l2"
   ]
  },
  {
   "cell_type": "code",
   "execution_count": 223,
   "id": "89032b39-a115-471d-8344-2e1c5c287880",
   "metadata": {},
   "outputs": [
    {
     "data": {
      "text/plain": [
       "['kartikay', 'garg', 4353]"
      ]
     },
     "execution_count": 223,
     "metadata": {},
     "output_type": "execute_result"
    }
   ],
   "source": [
    "l1"
   ]
  },
  {
   "cell_type": "code",
   "execution_count": 224,
   "id": "bf2e642f-c2c5-4265-8b06-2fc03be794e0",
   "metadata": {},
   "outputs": [],
   "source": [
    "l1.extend([1,2,3,4,5,\"xyz\"])"
   ]
  },
  {
   "cell_type": "code",
   "execution_count": 225,
   "id": "35000b6f-3dab-48af-a60e-10f905679d3b",
   "metadata": {},
   "outputs": [
    {
     "data": {
      "text/plain": [
       "['kartikay', 'garg', 4353, 1, 2, 3, 4, 5, 'xyz']"
      ]
     },
     "execution_count": 225,
     "metadata": {},
     "output_type": "execute_result"
    }
   ],
   "source": [
    "l1"
   ]
  },
  {
   "cell_type": "code",
   "execution_count": 226,
   "id": "0e73acc7-47c4-4806-bec7-0c439cba372c",
   "metadata": {},
   "outputs": [],
   "source": [
    "l1=[1,2,3,4,5]\n",
    "l2=[6,7,8,9,10]"
   ]
  },
  {
   "cell_type": "code",
   "execution_count": 227,
   "id": "5bc6a539-3417-40c1-962e-d6d595da4f09",
   "metadata": {},
   "outputs": [],
   "source": [
    "l1.append([11,22,33,44,55])"
   ]
  },
  {
   "cell_type": "code",
   "execution_count": 228,
   "id": "5e98c4c2-e378-45c1-909c-29f434c0fa4d",
   "metadata": {},
   "outputs": [
    {
     "data": {
      "text/plain": [
       "[1, 2, 3, 4, 5, [11, 22, 33, 44, 55]]"
      ]
     },
     "execution_count": 228,
     "metadata": {},
     "output_type": "execute_result"
    }
   ],
   "source": [
    "l1"
   ]
  },
  {
   "cell_type": "code",
   "execution_count": 229,
   "id": "08322470-03f4-4698-b5bf-8968a3d9c060",
   "metadata": {},
   "outputs": [],
   "source": [
    "l2.extend([11,22,33,44,55,\"abcd\"])"
   ]
  },
  {
   "cell_type": "code",
   "execution_count": 230,
   "id": "340c2eb0-bce0-479e-ac1a-e74a2b6c73bc",
   "metadata": {},
   "outputs": [
    {
     "data": {
      "text/plain": [
       "[6, 7, 8, 9, 10, 11, 22, 33, 44, 55, 'abcd']"
      ]
     },
     "execution_count": 230,
     "metadata": {},
     "output_type": "execute_result"
    }
   ],
   "source": [
    "l2"
   ]
  },
  {
   "cell_type": "code",
   "execution_count": 231,
   "id": "5307f2b3-1fdd-4c8f-97e8-d022bba57526",
   "metadata": {},
   "outputs": [
    {
     "data": {
      "text/plain": [
       "[1, 2, 3, 4, 5, [11, 22, 33, 44, 55]]"
      ]
     },
     "execution_count": 231,
     "metadata": {},
     "output_type": "execute_result"
    }
   ],
   "source": [
    "l1"
   ]
  },
  {
   "cell_type": "code",
   "execution_count": 232,
   "id": "29663b77-1b96-4424-b2c4-c3e2e3b95b1e",
   "metadata": {},
   "outputs": [
    {
     "data": {
      "text/plain": [
       "[6, 7, 8, 9, 10, 11, 22, 33, 44, 55, 'abcd']"
      ]
     },
     "execution_count": 232,
     "metadata": {},
     "output_type": "execute_result"
    }
   ],
   "source": [
    "l2"
   ]
  },
  {
   "cell_type": "code",
   "execution_count": 233,
   "id": "8400f622-3d54-4608-803d-57e9dce5d9db",
   "metadata": {},
   "outputs": [
    {
     "data": {
      "text/plain": [
       "[1,\n",
       " 2,\n",
       " 3,\n",
       " 4,\n",
       " 5,\n",
       " [11, 22, 33, 44, 55],\n",
       " 6,\n",
       " 7,\n",
       " 8,\n",
       " 9,\n",
       " 10,\n",
       " 11,\n",
       " 22,\n",
       " 33,\n",
       " 44,\n",
       " 55,\n",
       " 'abcd']"
      ]
     },
     "execution_count": 233,
     "metadata": {},
     "output_type": "execute_result"
    }
   ],
   "source": [
    "l1+l2"
   ]
  },
  {
   "cell_type": "code",
   "execution_count": 234,
   "id": "a4b24a2f-262d-40f9-ab49-271dcf9d89a8",
   "metadata": {},
   "outputs": [],
   "source": [
    "t = (1,2,3,4,5)"
   ]
  },
  {
   "cell_type": "code",
   "execution_count": 235,
   "id": "40c61526-1a86-41ce-8094-768bf7f64c9e",
   "metadata": {},
   "outputs": [
    {
     "data": {
      "text/plain": [
       "tuple"
      ]
     },
     "execution_count": 235,
     "metadata": {},
     "output_type": "execute_result"
    }
   ],
   "source": [
    "type(t)"
   ]
  },
  {
   "cell_type": "code",
   "execution_count": 236,
   "id": "56790d8b-2861-4d0c-8f5f-a268e5d74a45",
   "metadata": {},
   "outputs": [],
   "source": [
    "t1 = (\"sudh\",234,4+5j,4.34,True)"
   ]
  },
  {
   "cell_type": "code",
   "execution_count": 237,
   "id": "bbfc2098-c1f1-4bb2-a173-f3e9fda3314f",
   "metadata": {},
   "outputs": [],
   "source": [
    "l = [\"sudh\",234,4+5j,4.34,True]"
   ]
  },
  {
   "cell_type": "code",
   "execution_count": 238,
   "id": "800924b1-56b7-4e9b-a992-62f83c32c3dc",
   "metadata": {},
   "outputs": [
    {
     "data": {
      "text/plain": [
       "tuple"
      ]
     },
     "execution_count": 238,
     "metadata": {},
     "output_type": "execute_result"
    }
   ],
   "source": [
    "type(t1)"
   ]
  },
  {
   "cell_type": "code",
   "execution_count": 239,
   "id": "f08bb682-8fb4-4df1-8640-4a5563bb5933",
   "metadata": {},
   "outputs": [
    {
     "data": {
      "text/plain": [
       "list"
      ]
     },
     "execution_count": 239,
     "metadata": {},
     "output_type": "execute_result"
    }
   ],
   "source": [
    "type(l)"
   ]
  },
  {
   "cell_type": "code",
   "execution_count": 240,
   "id": "e69a70e2-bc4f-4279-84af-a22e3208b98f",
   "metadata": {},
   "outputs": [],
   "source": [
    "t2 = ()"
   ]
  },
  {
   "cell_type": "code",
   "execution_count": 241,
   "id": "45d63c84-92f2-46e7-88ad-269c3bb89adb",
   "metadata": {},
   "outputs": [
    {
     "data": {
      "text/plain": [
       "tuple"
      ]
     },
     "execution_count": 241,
     "metadata": {},
     "output_type": "execute_result"
    }
   ],
   "source": [
    "type(t2)"
   ]
  },
  {
   "cell_type": "code",
   "execution_count": 242,
   "id": "9aadef23-696a-4c71-8792-d64b5e1ae02f",
   "metadata": {},
   "outputs": [
    {
     "data": {
      "text/plain": [
       "['sudh', 234, (4+5j), 4.34, True]"
      ]
     },
     "execution_count": 242,
     "metadata": {},
     "output_type": "execute_result"
    }
   ],
   "source": [
    "l"
   ]
  },
  {
   "cell_type": "code",
   "execution_count": 243,
   "id": "99a043eb-ef2d-43cd-985f-90dde6b097d4",
   "metadata": {},
   "outputs": [
    {
     "data": {
      "text/plain": [
       "['sudh', 234]"
      ]
     },
     "execution_count": 243,
     "metadata": {},
     "output_type": "execute_result"
    }
   ],
   "source": [
    "l[0:2]"
   ]
  },
  {
   "cell_type": "code",
   "execution_count": 244,
   "id": "97c412c1-ae19-488a-aacf-60404455539d",
   "metadata": {},
   "outputs": [
    {
     "data": {
      "text/plain": [
       "('sudh', 234)"
      ]
     },
     "execution_count": 244,
     "metadata": {},
     "output_type": "execute_result"
    }
   ],
   "source": [
    "t1[0:2]"
   ]
  },
  {
   "cell_type": "code",
   "execution_count": 245,
   "id": "0d3d4144-cec2-4b90-bc92-06c1e8e52beb",
   "metadata": {},
   "outputs": [
    {
     "data": {
      "text/plain": [
       "['sudh', 234, (4+5j), 4.34, True]"
      ]
     },
     "execution_count": 245,
     "metadata": {},
     "output_type": "execute_result"
    }
   ],
   "source": [
    "l"
   ]
  },
  {
   "cell_type": "code",
   "execution_count": 246,
   "id": "dbec7c86-77d7-4f91-afce-df77b8866974",
   "metadata": {},
   "outputs": [
    {
     "data": {
      "text/plain": [
       "('sudh', 234, (4+5j), 4.34, True)"
      ]
     },
     "execution_count": 246,
     "metadata": {},
     "output_type": "execute_result"
    }
   ],
   "source": [
    "t1"
   ]
  },
  {
   "cell_type": "code",
   "execution_count": 247,
   "id": "274a44c4-59a9-4c27-be6d-fb27dcf57310",
   "metadata": {},
   "outputs": [
    {
     "data": {
      "text/plain": [
       "(True, 4.34, (4+5j), 234, 'sudh')"
      ]
     },
     "execution_count": 247,
     "metadata": {},
     "output_type": "execute_result"
    }
   ],
   "source": [
    "t1[::-1]"
   ]
  },
  {
   "cell_type": "code",
   "execution_count": 248,
   "id": "8e88c866-3aa2-47bb-809f-fffcb308a2ea",
   "metadata": {},
   "outputs": [
    {
     "data": {
      "text/plain": [
       "True"
      ]
     },
     "execution_count": 248,
     "metadata": {},
     "output_type": "execute_result"
    }
   ],
   "source": [
    "t1[-1]"
   ]
  },
  {
   "cell_type": "code",
   "execution_count": 249,
   "id": "722ffaf8-d8be-4f11-8960-a41ff14d258c",
   "metadata": {},
   "outputs": [
    {
     "data": {
      "text/plain": [
       "['sudh', 234, (4+5j), 4.34, True]"
      ]
     },
     "execution_count": 249,
     "metadata": {},
     "output_type": "execute_result"
    }
   ],
   "source": [
    "l"
   ]
  },
  {
   "cell_type": "code",
   "execution_count": 250,
   "id": "1f4f56c4-a5b6-42d8-815f-ccfa0ea2d624",
   "metadata": {},
   "outputs": [
    {
     "data": {
      "text/plain": [
       "('sudh', (4+5j), True)"
      ]
     },
     "execution_count": 250,
     "metadata": {},
     "output_type": "execute_result"
    }
   ],
   "source": [
    "t1[0::2]"
   ]
  },
  {
   "cell_type": "code",
   "execution_count": 251,
   "id": "db4441a3-6180-4177-a959-5f1d98843926",
   "metadata": {},
   "outputs": [
    {
     "data": {
      "text/plain": [
       "['sudh', 234, (4+5j), 4.34, True]"
      ]
     },
     "execution_count": 251,
     "metadata": {},
     "output_type": "execute_result"
    }
   ],
   "source": [
    "l"
   ]
  },
  {
   "cell_type": "code",
   "execution_count": 252,
   "id": "00ff218a-d9fa-45ca-b6a9-f7c7a95fea92",
   "metadata": {},
   "outputs": [],
   "source": [
    "l1 = [4,5,6,7,8]"
   ]
  },
  {
   "cell_type": "code",
   "execution_count": 253,
   "id": "06830b3a-6987-4f58-b271-2ab694dab7d4",
   "metadata": {},
   "outputs": [
    {
     "data": {
      "text/plain": [
       "'sudh'"
      ]
     },
     "execution_count": 253,
     "metadata": {},
     "output_type": "execute_result"
    }
   ],
   "source": [
    "l[0]"
   ]
  },
  {
   "cell_type": "code",
   "execution_count": 254,
   "id": "6a97b089-7027-45e3-83ec-8e5f0bdd6842",
   "metadata": {},
   "outputs": [],
   "source": [
    "l[0] = \"kumar\""
   ]
  },
  {
   "cell_type": "code",
   "execution_count": 255,
   "id": "a8687587-3ada-484f-a247-4cebf095bd49",
   "metadata": {},
   "outputs": [
    {
     "data": {
      "text/plain": [
       "['kumar', 234, (4+5j), 4.34, True]"
      ]
     },
     "execution_count": 255,
     "metadata": {},
     "output_type": "execute_result"
    }
   ],
   "source": [
    "l"
   ]
  },
  {
   "cell_type": "code",
   "execution_count": 256,
   "id": "eedbde02-bd74-4865-bbcf-b548ad43fbd9",
   "metadata": {},
   "outputs": [
    {
     "data": {
      "text/plain": [
       "('sudh', 234, (4+5j), 4.34, True)"
      ]
     },
     "execution_count": 256,
     "metadata": {},
     "output_type": "execute_result"
    }
   ],
   "source": [
    "t1"
   ]
  },
  {
   "cell_type": "code",
   "execution_count": 257,
   "id": "580fb04a-461a-465e-8de6-082b006b4852",
   "metadata": {},
   "outputs": [
    {
     "data": {
      "text/plain": [
       "'sudh'"
      ]
     },
     "execution_count": 257,
     "metadata": {},
     "output_type": "execute_result"
    }
   ],
   "source": [
    "t1[0] # no item reassignment "
   ]
  },
  {
   "cell_type": "code",
   "execution_count": 258,
   "id": "9125bba4-a159-449a-9965-3474f2130fe0",
   "metadata": {},
   "outputs": [],
   "source": [
    "s = \"sudh\""
   ]
  },
  {
   "cell_type": "code",
   "execution_count": 259,
   "id": "1744dc0a-0764-49da-8b43-92c01aadd02b",
   "metadata": {},
   "outputs": [
    {
     "data": {
      "text/plain": [
       "'s'"
      ]
     },
     "execution_count": 259,
     "metadata": {},
     "output_type": "execute_result"
    }
   ],
   "source": [
    "s[0]"
   ]
  },
  {
   "cell_type": "code",
   "execution_count": 260,
   "id": "07337b4b-1729-4934-9bdc-7588a1cc52b7",
   "metadata": {},
   "outputs": [
    {
     "data": {
      "text/plain": [
       "('sudh', 234, (4+5j), 4.34, True)"
      ]
     },
     "execution_count": 260,
     "metadata": {},
     "output_type": "execute_result"
    }
   ],
   "source": [
    "t1"
   ]
  },
  {
   "cell_type": "code",
   "execution_count": 261,
   "id": "8339c1b5-7f84-443f-926c-5be8ebe6331f",
   "metadata": {},
   "outputs": [],
   "source": [
    "t2 = (21,34,63,65,74)"
   ]
  },
  {
   "cell_type": "code",
   "execution_count": 262,
   "id": "43534f48-5a77-41c0-9e46-05929aaa1365",
   "metadata": {},
   "outputs": [
    {
     "data": {
      "text/plain": [
       "('sudh', 234, (4+5j), 4.34, True, 21, 34, 63, 65, 74)"
      ]
     },
     "execution_count": 262,
     "metadata": {},
     "output_type": "execute_result"
    }
   ],
   "source": [
    "t1 + t2 #append operation"
   ]
  },
  {
   "cell_type": "code",
   "execution_count": 263,
   "id": "aba75d1f-cf40-4097-af19-2ac521754a17",
   "metadata": {},
   "outputs": [
    {
     "data": {
      "text/plain": [
       "['kumar', 234, (4+5j), 4.34, True]"
      ]
     },
     "execution_count": 263,
     "metadata": {},
     "output_type": "execute_result"
    }
   ],
   "source": [
    "l"
   ]
  },
  {
   "cell_type": "code",
   "execution_count": 264,
   "id": "05f48b2b-32e6-41dc-8657-cf073a53446c",
   "metadata": {},
   "outputs": [
    {
     "data": {
      "text/plain": [
       "[4, 5, 6, 7, 8]"
      ]
     },
     "execution_count": 264,
     "metadata": {},
     "output_type": "execute_result"
    }
   ],
   "source": [
    "l1"
   ]
  },
  {
   "cell_type": "code",
   "execution_count": 265,
   "id": "ae74bab4-2d58-4196-ab2c-8e626d01286a",
   "metadata": {},
   "outputs": [
    {
     "data": {
      "text/plain": [
       "['kumar', 234, (4+5j), 4.34, True, 4, 5, 6, 7, 8]"
      ]
     },
     "execution_count": 265,
     "metadata": {},
     "output_type": "execute_result"
    }
   ],
   "source": [
    "l + l1"
   ]
  },
  {
   "cell_type": "code",
   "execution_count": 266,
   "id": "9a504f45-6859-4ad9-b874-efa8ac9640a5",
   "metadata": {},
   "outputs": [
    {
     "data": {
      "text/plain": [
       "('sudh', 234, (4+5j), 4.34, True)"
      ]
     },
     "execution_count": 266,
     "metadata": {},
     "output_type": "execute_result"
    }
   ],
   "source": [
    "t1"
   ]
  },
  {
   "cell_type": "code",
   "execution_count": 267,
   "id": "badd7539-9697-4097-b721-be4a64fbd400",
   "metadata": {},
   "outputs": [
    {
     "data": {
      "text/plain": [
       "('sudh', 234, (4+5j), 4.34, True, 'sudh', 234, (4+5j), 4.34, True)"
      ]
     },
     "execution_count": 267,
     "metadata": {},
     "output_type": "execute_result"
    }
   ],
   "source": [
    "t1 * 2"
   ]
  },
  {
   "cell_type": "code",
   "execution_count": 268,
   "id": "0c162146-9f27-4d2b-b468-5ceb36584f44",
   "metadata": {},
   "outputs": [
    {
     "data": {
      "text/plain": [
       "('sudh', 234, (4+5j), 4.34, True)"
      ]
     },
     "execution_count": 268,
     "metadata": {},
     "output_type": "execute_result"
    }
   ],
   "source": [
    "t1"
   ]
  },
  {
   "cell_type": "code",
   "execution_count": 269,
   "id": "8b01d72b-cdfc-4d4e-93f3-6b23629634d8",
   "metadata": {},
   "outputs": [
    {
     "data": {
      "text/plain": [
       "1"
      ]
     },
     "execution_count": 269,
     "metadata": {},
     "output_type": "execute_result"
    }
   ],
   "source": [
    "t1.count(234)"
   ]
  },
  {
   "cell_type": "code",
   "execution_count": 270,
   "id": "cb26e34b-107b-4e9d-96a8-143fdc425d9a",
   "metadata": {},
   "outputs": [
    {
     "data": {
      "text/plain": [
       "1"
      ]
     },
     "execution_count": 270,
     "metadata": {},
     "output_type": "execute_result"
    }
   ],
   "source": [
    "t1.index(234)"
   ]
  },
  {
   "cell_type": "code",
   "execution_count": 271,
   "id": "737068b2-6f2c-4f99-b405-ea449ea5b2b5",
   "metadata": {},
   "outputs": [],
   "source": [
    "t = (12,34,54,655,866,798,(23,42,35,57),(\"sudh\"))"
   ]
  },
  {
   "cell_type": "code",
   "execution_count": 272,
   "id": "a73d719d-5960-4a5d-9537-1cb0a68091d7",
   "metadata": {},
   "outputs": [
    {
     "data": {
      "text/plain": [
       "(12, 34, 54, 655, 866, 798, (23, 42, 35, 57), 'sudh')"
      ]
     },
     "execution_count": 272,
     "metadata": {},
     "output_type": "execute_result"
    }
   ],
   "source": [
    "t"
   ]
  },
  {
   "cell_type": "code",
   "execution_count": 273,
   "id": "eadb0cef-5d4a-45a4-8c00-33f0f904dc29",
   "metadata": {},
   "outputs": [],
   "source": [
    "t1 = ([2,3,4,5,6],(\"sd\",13,356,74),\"xyz\")"
   ]
  },
  {
   "cell_type": "code",
   "execution_count": 274,
   "id": "b22fa4ff-1c42-4825-8321-7ea6a41612ca",
   "metadata": {},
   "outputs": [],
   "source": [
    "t1[0][2] = \"sudh\""
   ]
  },
  {
   "cell_type": "code",
   "execution_count": 275,
   "id": "73075c55-2cb1-492a-b8ab-85174aac9f32",
   "metadata": {},
   "outputs": [
    {
     "data": {
      "text/plain": [
       "([2, 3, 'sudh', 5, 6], ('sd', 13, 356, 74), 'xyz')"
      ]
     },
     "execution_count": 275,
     "metadata": {},
     "output_type": "execute_result"
    }
   ],
   "source": [
    "t1"
   ]
  },
  {
   "cell_type": "code",
   "execution_count": 276,
   "id": "2b409fba-65ff-4e0a-bdc1-56bbf88cfc80",
   "metadata": {},
   "outputs": [],
   "source": [
    "l = [1,2,3,4,5,6,7,8,9,1,1,2,2,3,3,4,4,5,5,6,6,7,7,8,8,9,9]"
   ]
  },
  {
   "cell_type": "code",
   "execution_count": 277,
   "id": "a3b394ba-462f-4f34-a309-5ad59d91e558",
   "metadata": {},
   "outputs": [],
   "source": [
    "s = set(l)"
   ]
  },
  {
   "cell_type": "code",
   "execution_count": 278,
   "id": "57ca840d-dbbd-4bea-9058-402cd21aac9c",
   "metadata": {},
   "outputs": [
    {
     "data": {
      "text/plain": [
       "{1, 2, 3, 4, 5, 6, 7, 8, 9}"
      ]
     },
     "execution_count": 278,
     "metadata": {},
     "output_type": "execute_result"
    }
   ],
   "source": [
    "s"
   ]
  },
  {
   "cell_type": "code",
   "execution_count": 279,
   "id": "18999e8a-ce14-40d6-a1dd-864441822c00",
   "metadata": {},
   "outputs": [],
   "source": [
    "s1 = {1,1,1,2,2,3,33,3,3,3,4,4,5,6,6,7,7,7,8,88,8,9,9,9,0}"
   ]
  },
  {
   "cell_type": "code",
   "execution_count": 280,
   "id": "fb7f36e7-9e7a-4126-a0f6-d0a444f2df8f",
   "metadata": {},
   "outputs": [
    {
     "data": {
      "text/plain": [
       "{0, 1, 2, 3, 4, 5, 6, 7, 8, 9, 33, 88}"
      ]
     },
     "execution_count": 280,
     "metadata": {},
     "output_type": "execute_result"
    }
   ],
   "source": [
    "s1"
   ]
  },
  {
   "cell_type": "code",
   "execution_count": 281,
   "id": "0fc38c19-fed2-46d1-8087-b106d5c060fb",
   "metadata": {},
   "outputs": [],
   "source": [
    "s = {}"
   ]
  },
  {
   "cell_type": "code",
   "execution_count": 282,
   "id": "e08e7944-4cd2-4f6d-91b8-50d7b082fbe6",
   "metadata": {},
   "outputs": [
    {
     "data": {
      "text/plain": [
       "dict"
      ]
     },
     "execution_count": 282,
     "metadata": {},
     "output_type": "execute_result"
    }
   ],
   "source": [
    "type(s)"
   ]
  },
  {
   "cell_type": "code",
   "execution_count": 283,
   "id": "3d2fa26e-d1fb-4a12-9e82-30625ecb8187",
   "metadata": {},
   "outputs": [],
   "source": [
    "s1 = {2,3,4}"
   ]
  },
  {
   "cell_type": "code",
   "execution_count": 284,
   "id": "18d389ae-13c6-413e-8f0e-bbe30f0c844d",
   "metadata": {},
   "outputs": [
    {
     "data": {
      "text/plain": [
       "set"
      ]
     },
     "execution_count": 284,
     "metadata": {},
     "output_type": "execute_result"
    }
   ],
   "source": [
    "type(s1)"
   ]
  },
  {
   "cell_type": "code",
   "execution_count": 285,
   "id": "acd10891-3df9-4830-852b-b688b57e2309",
   "metadata": {},
   "outputs": [],
   "source": [
    "s2 = {100,1,1,13,1,1,431,2,2,2,3,3,3,4,4,5,5,5,5,5}"
   ]
  },
  {
   "cell_type": "code",
   "execution_count": 286,
   "id": "7946014e-03ff-4c3a-9ece-9102a4b74362",
   "metadata": {},
   "outputs": [
    {
     "data": {
      "text/plain": [
       "{1, 2, 3, 4, 5, 13, 100, 431}"
      ]
     },
     "execution_count": 286,
     "metadata": {},
     "output_type": "execute_result"
    }
   ],
   "source": [
    "s2"
   ]
  },
  {
   "cell_type": "code",
   "execution_count": 287,
   "id": "c1f348dc-d516-4744-9014-15968698ccfa",
   "metadata": {},
   "outputs": [
    {
     "data": {
      "text/plain": [
       "[1, 2, 3, 100, 4, 5, 13, 431]"
      ]
     },
     "execution_count": 287,
     "metadata": {},
     "output_type": "execute_result"
    }
   ],
   "source": [
    "list(s2)"
   ]
  },
  {
   "cell_type": "code",
   "execution_count": 288,
   "id": "ebe40186-0f2d-4cbe-a95d-97c945ebee92",
   "metadata": {},
   "outputs": [],
   "source": [
    "s2.add(123)"
   ]
  },
  {
   "cell_type": "code",
   "execution_count": 289,
   "id": "f4510dc1-a1d4-4762-b98b-8e48e8da9117",
   "metadata": {},
   "outputs": [
    {
     "data": {
      "text/plain": [
       "{1, 2, 3, 4, 5, 13, 100, 123, 431}"
      ]
     },
     "execution_count": 289,
     "metadata": {},
     "output_type": "execute_result"
    }
   ],
   "source": [
    "s2"
   ]
  },
  {
   "cell_type": "code",
   "execution_count": 290,
   "id": "224dbbb8-6e40-4484-b10d-abcd7c64d776",
   "metadata": {},
   "outputs": [],
   "source": [
    "s2.add(\"sudh\")"
   ]
  },
  {
   "cell_type": "code",
   "execution_count": 291,
   "id": "8acfa8c2-58dd-47c7-a739-ea33a05e16b2",
   "metadata": {},
   "outputs": [
    {
     "data": {
      "text/plain": [
       "{1, 100, 123, 13, 2, 3, 4, 431, 5, 'sudh'}"
      ]
     },
     "execution_count": 291,
     "metadata": {},
     "output_type": "execute_result"
    }
   ],
   "source": [
    "s2"
   ]
  },
  {
   "cell_type": "code",
   "execution_count": 292,
   "id": "e40e4b3e-af8e-41bf-9c7e-4ce8965805d5",
   "metadata": {},
   "outputs": [
    {
     "data": {
      "text/plain": [
       "{2, 3, 4}"
      ]
     },
     "execution_count": 292,
     "metadata": {},
     "output_type": "execute_result"
    }
   ],
   "source": [
    "s1"
   ]
  },
  {
   "cell_type": "code",
   "execution_count": 293,
   "id": "0594adaf-a6a0-4834-8a39-8dffb3185d41",
   "metadata": {},
   "outputs": [
    {
     "data": {
      "text/plain": [
       "{1, 100, 123, 13, 2, 3, 4, 431, 5, 'sudh'}"
      ]
     },
     "execution_count": 293,
     "metadata": {},
     "output_type": "execute_result"
    }
   ],
   "source": [
    "s2"
   ]
  },
  {
   "cell_type": "code",
   "execution_count": 294,
   "id": "328778eb-82dc-4b44-8dab-3b1f4c108009",
   "metadata": {},
   "outputs": [],
   "source": [
    "s2.add(133414)"
   ]
  },
  {
   "cell_type": "code",
   "execution_count": 295,
   "id": "38e99a35-047d-4123-b435-1775669d9900",
   "metadata": {},
   "outputs": [
    {
     "data": {
      "text/plain": [
       "{1, 100, 123, 13, 133414, 2, 3, 4, 431, 5, 'sudh'}"
      ]
     },
     "execution_count": 295,
     "metadata": {},
     "output_type": "execute_result"
    }
   ],
   "source": [
    "s2"
   ]
  },
  {
   "cell_type": "code",
   "execution_count": 296,
   "id": "fb2207cf-d590-487e-a50c-67ca868a11e1",
   "metadata": {},
   "outputs": [],
   "source": [
    "s2.add(\"kartikay\")"
   ]
  },
  {
   "cell_type": "code",
   "execution_count": 297,
   "id": "6e00c337-1b45-44c8-a24b-b9a2e5c4b7c2",
   "metadata": {},
   "outputs": [
    {
     "data": {
      "text/plain": [
       "{1, 100, 123, 13, 133414, 2, 3, 4, 431, 5, 'kartikay', 'sudh'}"
      ]
     },
     "execution_count": 297,
     "metadata": {},
     "output_type": "execute_result"
    }
   ],
   "source": [
    "s2"
   ]
  },
  {
   "cell_type": "code",
   "execution_count": 298,
   "id": "1aab9bc7-0747-4674-a3d6-be366227d95b",
   "metadata": {},
   "outputs": [],
   "source": [
    "s = {(1,2,3,4,5),(1,2,3,4,5),3,45,5,6,7,8}"
   ]
  },
  {
   "cell_type": "code",
   "execution_count": 299,
   "id": "caec956e-44d9-4897-acb9-1e0c3836fa4e",
   "metadata": {},
   "outputs": [
    {
     "data": {
      "text/plain": [
       "{(1, 2, 3, 4, 5), 3, 45, 5, 6, 7, 8}"
      ]
     },
     "execution_count": 299,
     "metadata": {},
     "output_type": "execute_result"
    }
   ],
   "source": [
    "s"
   ]
  },
  {
   "cell_type": "code",
   "execution_count": 300,
   "id": "7ded90d7-786c-4c0c-9ad5-ef00ec1527e8",
   "metadata": {},
   "outputs": [],
   "source": [
    "s.remove(3)"
   ]
  },
  {
   "cell_type": "code",
   "execution_count": 301,
   "id": "7aad2ba8-9820-4722-83ee-98d1d4c927f1",
   "metadata": {},
   "outputs": [
    {
     "data": {
      "text/plain": [
       "{(1, 2, 3, 4, 5), 45, 5, 6, 7, 8}"
      ]
     },
     "execution_count": 301,
     "metadata": {},
     "output_type": "execute_result"
    }
   ],
   "source": [
    "s"
   ]
  },
  {
   "cell_type": "code",
   "execution_count": 302,
   "id": "7eba47b3-6c3f-4b7d-b93e-7ef421250f03",
   "metadata": {},
   "outputs": [],
   "source": [
    "s.discard(5)"
   ]
  },
  {
   "cell_type": "code",
   "execution_count": 303,
   "id": "49f672cd-1ec1-455e-80f9-5937292038d2",
   "metadata": {},
   "outputs": [
    {
     "data": {
      "text/plain": [
       "{(1, 2, 3, 4, 5), 45, 6, 7, 8}"
      ]
     },
     "execution_count": 303,
     "metadata": {},
     "output_type": "execute_result"
    }
   ],
   "source": [
    "s"
   ]
  },
  {
   "cell_type": "code",
   "execution_count": 304,
   "id": "cf1fd2c0-367a-4501-8a61-72aa1cdb36b1",
   "metadata": {},
   "outputs": [
    {
     "data": {
      "text/plain": [
       "{'Sudh', 'sudh'}"
      ]
     },
     "execution_count": 304,
     "metadata": {},
     "output_type": "execute_result"
    }
   ],
   "source": [
    "{\"sudh\",\"Sudh\"}"
   ]
  },
  {
   "cell_type": "code",
   "execution_count": 305,
   "id": "2b31d56c-79a7-413f-b8ec-9e1be8ed26ab",
   "metadata": {},
   "outputs": [
    {
     "data": {
      "text/plain": [
       "{'sudh'}"
      ]
     },
     "execution_count": 305,
     "metadata": {},
     "output_type": "execute_result"
    }
   ],
   "source": [
    "{\"sudh\",\"sudh\"}"
   ]
  },
  {
   "cell_type": "markdown",
   "id": "2f85d2c2-3cbb-41dc-a7d6-0d0773ec31e1",
   "metadata": {},
   "source": [
    "DICTIONARY"
   ]
  },
  {
   "cell_type": "code",
   "execution_count": 306,
   "id": "b168272d-9517-4fba-9895-0d2534db6582",
   "metadata": {},
   "outputs": [],
   "source": [
    "d = {}"
   ]
  },
  {
   "cell_type": "code",
   "execution_count": 307,
   "id": "50f9099f-59c5-47bd-a75c-c1275ebb1afe",
   "metadata": {},
   "outputs": [
    {
     "data": {
      "text/plain": [
       "dict"
      ]
     },
     "execution_count": 307,
     "metadata": {},
     "output_type": "execute_result"
    }
   ],
   "source": [
    "type(d)"
   ]
  },
  {
   "cell_type": "code",
   "execution_count": 308,
   "id": "d49cc2e1-6d2b-4fef-9393-d3887fa4bcfa",
   "metadata": {},
   "outputs": [],
   "source": [
    "d = {4:\"sudh\"}"
   ]
  },
  {
   "cell_type": "code",
   "execution_count": 309,
   "id": "ecb939be-b190-4863-8b90-a978a5cdf612",
   "metadata": {},
   "outputs": [],
   "source": [
    "d1 = {\"key1\":1223,\"key2\":\"sudh\",45:[1,2,3,4]}"
   ]
  },
  {
   "cell_type": "code",
   "execution_count": 310,
   "id": "7c082b0b-11f4-407d-a21c-4b391bc6f4cb",
   "metadata": {},
   "outputs": [],
   "source": [
    "l = [3,4,5,6,7]"
   ]
  },
  {
   "cell_type": "code",
   "execution_count": 311,
   "id": "3e486082-4215-4068-8caf-c29d9fb4152c",
   "metadata": {},
   "outputs": [
    {
     "data": {
      "text/plain": [
       "3"
      ]
     },
     "execution_count": 311,
     "metadata": {},
     "output_type": "execute_result"
    }
   ],
   "source": [
    "l[0]"
   ]
  },
  {
   "cell_type": "code",
   "execution_count": 312,
   "id": "21652bc3-0fdd-47d5-8ff1-c9c9d7565bba",
   "metadata": {},
   "outputs": [
    {
     "data": {
      "text/plain": [
       "1223"
      ]
     },
     "execution_count": 312,
     "metadata": {},
     "output_type": "execute_result"
    }
   ],
   "source": [
    "d1[\"key1\"]"
   ]
  },
  {
   "cell_type": "code",
   "execution_count": 313,
   "id": "b18ef495-cd34-4ef2-a086-708f7dd9f9a0",
   "metadata": {},
   "outputs": [
    {
     "data": {
      "text/plain": [
       "{'key1': 1223, 'key2': 'sudh', 45: [1, 2, 3, 4]}"
      ]
     },
     "execution_count": 313,
     "metadata": {},
     "output_type": "execute_result"
    }
   ],
   "source": [
    "d1"
   ]
  },
  {
   "cell_type": "code",
   "execution_count": 314,
   "id": "057de511-0e1b-43f7-b430-2ae90a725859",
   "metadata": {},
   "outputs": [
    {
     "data": {
      "text/plain": [
       "[1, 2, 3, 4]"
      ]
     },
     "execution_count": 314,
     "metadata": {},
     "output_type": "execute_result"
    }
   ],
   "source": [
    "d1[45]"
   ]
  },
  {
   "cell_type": "code",
   "execution_count": 315,
   "id": "091f7c73-4b44-47b5-9f8c-579e27472871",
   "metadata": {},
   "outputs": [
    {
     "data": {
      "text/plain": [
       "'sudh'"
      ]
     },
     "execution_count": 315,
     "metadata": {},
     "output_type": "execute_result"
    }
   ],
   "source": [
    "d1[\"key2\"]"
   ]
  },
  {
   "cell_type": "code",
   "execution_count": 316,
   "id": "9c9bef18-3472-49a6-9761-8b85e6407532",
   "metadata": {},
   "outputs": [],
   "source": [
    "d = {\"key\":{1,2,3,4,5,6,6,6,6}}"
   ]
  },
  {
   "cell_type": "code",
   "execution_count": 317,
   "id": "631a4c37-fcfc-479e-8ede-014e897fd715",
   "metadata": {},
   "outputs": [
    {
     "data": {
      "text/plain": [
       "{'key': {1, 2, 3, 4, 5, 6}}"
      ]
     },
     "execution_count": 317,
     "metadata": {},
     "output_type": "execute_result"
    }
   ],
   "source": [
    "d"
   ]
  },
  {
   "cell_type": "code",
   "execution_count": 318,
   "id": "d85ef9db-07d4-4db7-9f44-2cab7efdda23",
   "metadata": {},
   "outputs": [],
   "source": [
    "d1 = {\"key1\":[1,2,3,4,5],\"key2\":[1,2,3,4,5],\"key3\":45}"
   ]
  },
  {
   "cell_type": "code",
   "execution_count": 319,
   "id": "b0e1c395-3963-4429-9d7d-ed0d4626f1cc",
   "metadata": {},
   "outputs": [
    {
     "data": {
      "text/plain": [
       "{'key1': [1, 2, 3, 4, 5], 'key2': [1, 2, 3, 4, 5], 'key3': 45}"
      ]
     },
     "execution_count": 319,
     "metadata": {},
     "output_type": "execute_result"
    }
   ],
   "source": [
    "d1"
   ]
  },
  {
   "cell_type": "code",
   "execution_count": 320,
   "id": "9d210884-5d56-43c1-b87e-c34a45f05d69",
   "metadata": {},
   "outputs": [],
   "source": [
    "d= {\"name\":\"kartikay\",\"mob_no.\":9927919993,\"mail_id\":\"kartikaygarg282@gmail.com\",\"key1\":[1,2,3,4,5,6],\"key2\":(1,2,3,4,5),\"key3\":{1,2,3,4,5,3,4,3,2,1},\"key4\":{1:5,6:8}}"
   ]
  },
  {
   "cell_type": "code",
   "execution_count": 321,
   "id": "8b8957a1-afe6-4e35-9e5f-51a4b217a53d",
   "metadata": {},
   "outputs": [
    {
     "data": {
      "text/plain": [
       "dict_keys(['name', 'mob_no.', 'mail_id', 'key1', 'key2', 'key3', 'key4'])"
      ]
     },
     "execution_count": 321,
     "metadata": {},
     "output_type": "execute_result"
    }
   ],
   "source": [
    "d.keys()"
   ]
  },
  {
   "cell_type": "code",
   "execution_count": 322,
   "id": "1dc7fa94-1155-4fc5-b62c-0f58f3d3bc94",
   "metadata": {},
   "outputs": [
    {
     "data": {
      "text/plain": [
       "{'name': 'kartikay',\n",
       " 'mob_no.': 9927919993,\n",
       " 'mail_id': 'kartikaygarg282@gmail.com',\n",
       " 'key1': [1, 2, 3, 4, 5, 6],\n",
       " 'key2': (1, 2, 3, 4, 5),\n",
       " 'key3': {1, 2, 3, 4, 5},\n",
       " 'key4': {1: 5, 6: 8}}"
      ]
     },
     "execution_count": 322,
     "metadata": {},
     "output_type": "execute_result"
    }
   ],
   "source": [
    "d"
   ]
  },
  {
   "cell_type": "code",
   "execution_count": 323,
   "id": "7cdc491d-68d8-4487-9884-c1b5d94dd9a8",
   "metadata": {},
   "outputs": [
    {
     "data": {
      "text/plain": [
       "dict_values(['kartikay', 9927919993, 'kartikaygarg282@gmail.com', [1, 2, 3, 4, 5, 6], (1, 2, 3, 4, 5), {1, 2, 3, 4, 5}, {1: 5, 6: 8}])"
      ]
     },
     "execution_count": 323,
     "metadata": {},
     "output_type": "execute_result"
    }
   ],
   "source": [
    "d.values()"
   ]
  },
  {
   "cell_type": "code",
   "execution_count": 324,
   "id": "7abe6b1f-b9c4-4700-a433-39deb4a48619",
   "metadata": {},
   "outputs": [
    {
     "data": {
      "text/plain": [
       "set"
      ]
     },
     "execution_count": 324,
     "metadata": {},
     "output_type": "execute_result"
    }
   ],
   "source": [
    "type(d[\"key3\"])"
   ]
  },
  {
   "cell_type": "code",
   "execution_count": 325,
   "id": "4941a0bf-3772-44f4-bbe7-d9b5e8c96a10",
   "metadata": {},
   "outputs": [
    {
     "data": {
      "text/plain": [
       "{1: 5, 6: 8}"
      ]
     },
     "execution_count": 325,
     "metadata": {},
     "output_type": "execute_result"
    }
   ],
   "source": [
    "d[\"key4\"]"
   ]
  },
  {
   "cell_type": "code",
   "execution_count": 326,
   "id": "718486fa-110e-49a4-ab97-77d66930f392",
   "metadata": {},
   "outputs": [
    {
     "data": {
      "text/plain": [
       "dict_items([('name', 'kartikay'), ('mob_no.', 9927919993), ('mail_id', 'kartikaygarg282@gmail.com'), ('key1', [1, 2, 3, 4, 5, 6]), ('key2', (1, 2, 3, 4, 5)), ('key3', {1, 2, 3, 4, 5}), ('key4', {1: 5, 6: 8})])"
      ]
     },
     "execution_count": 326,
     "metadata": {},
     "output_type": "execute_result"
    }
   ],
   "source": [
    "d.items()"
   ]
  },
  {
   "cell_type": "code",
   "execution_count": 327,
   "id": "e4400257-c02f-40d8-898a-51cd4295f8c8",
   "metadata": {},
   "outputs": [],
   "source": [
    "d = {\"key1\":\"sudh\",\"key2\":[1,2,3,4,5]}"
   ]
  },
  {
   "cell_type": "code",
   "execution_count": 328,
   "id": "ba642566-f7a0-465e-814a-2fa30b7aa0a4",
   "metadata": {},
   "outputs": [
    {
     "data": {
      "text/plain": [
       "{'key1': 'sudh', 'key2': [1, 2, 3, 4, 5]}"
      ]
     },
     "execution_count": 328,
     "metadata": {},
     "output_type": "execute_result"
    }
   ],
   "source": [
    "d"
   ]
  },
  {
   "cell_type": "code",
   "execution_count": 329,
   "id": "878529a7-a9fd-45ef-93ac-a4f1ed217894",
   "metadata": {},
   "outputs": [],
   "source": [
    "d[\"key3\"] = (1,2,3,4,5)"
   ]
  },
  {
   "cell_type": "code",
   "execution_count": 330,
   "id": "1d097016-67c5-432e-9579-a40d7ed4f1f1",
   "metadata": {},
   "outputs": [
    {
     "data": {
      "text/plain": [
       "{'key1': 'sudh', 'key2': [1, 2, 3, 4, 5], 'key3': (1, 2, 3, 4, 5)}"
      ]
     },
     "execution_count": 330,
     "metadata": {},
     "output_type": "execute_result"
    }
   ],
   "source": [
    "d"
   ]
  },
  {
   "cell_type": "code",
   "execution_count": 331,
   "id": "315d44b6-89f6-4bf5-8039-23c7b8056216",
   "metadata": {},
   "outputs": [],
   "source": [
    "d[4] = [2,34,5,554,7,46,4]"
   ]
  },
  {
   "cell_type": "code",
   "execution_count": 332,
   "id": "7514d743-4071-4d30-8768-c3996448ce95",
   "metadata": {},
   "outputs": [
    {
     "data": {
      "text/plain": [
       "{'key1': 'sudh',\n",
       " 'key2': [1, 2, 3, 4, 5],\n",
       " 'key3': (1, 2, 3, 4, 5),\n",
       " 4: [2, 34, 5, 554, 7, 46, 4]}"
      ]
     },
     "execution_count": 332,
     "metadata": {},
     "output_type": "execute_result"
    }
   ],
   "source": [
    "d"
   ]
  },
  {
   "cell_type": "code",
   "execution_count": 333,
   "id": "fc0041ba-a28d-4914-b189-588d5a1393c4",
   "metadata": {},
   "outputs": [],
   "source": [
    "d[\"key1\"] = \"fwrgwgeweg\""
   ]
  },
  {
   "cell_type": "code",
   "execution_count": 334,
   "id": "e2ff668b-8ade-424f-99e5-ca0a20af6044",
   "metadata": {},
   "outputs": [
    {
     "data": {
      "text/plain": [
       "{'key1': 'fwrgwgeweg',\n",
       " 'key2': [1, 2, 3, 4, 5],\n",
       " 'key3': (1, 2, 3, 4, 5),\n",
       " 4: [2, 34, 5, 554, 7, 46, 4]}"
      ]
     },
     "execution_count": 334,
     "metadata": {},
     "output_type": "execute_result"
    }
   ],
   "source": [
    "d"
   ]
  },
  {
   "cell_type": "code",
   "execution_count": 335,
   "id": "5eb3e606-9b23-4d94-b0c5-f61369a7e7bb",
   "metadata": {},
   "outputs": [],
   "source": [
    "del d[\"key1\"]"
   ]
  },
  {
   "cell_type": "code",
   "execution_count": 336,
   "id": "d4400903-e450-4f54-a0dc-ae1434d8384e",
   "metadata": {},
   "outputs": [
    {
     "data": {
      "text/plain": [
       "{'key2': [1, 2, 3, 4, 5],\n",
       " 'key3': (1, 2, 3, 4, 5),\n",
       " 4: [2, 34, 5, 554, 7, 46, 4]}"
      ]
     },
     "execution_count": 336,
     "metadata": {},
     "output_type": "execute_result"
    }
   ],
   "source": [
    "d"
   ]
  },
  {
   "cell_type": "code",
   "execution_count": 337,
   "id": "a7f26b09-143e-417d-9578-0b69cc1a3666",
   "metadata": {},
   "outputs": [],
   "source": [
    "del d"
   ]
  },
  {
   "cell_type": "code",
   "execution_count": 338,
   "id": "ee879ae6-95f0-410f-bc9a-421cce5f5d0b",
   "metadata": {},
   "outputs": [],
   "source": [
    "d1 = {\"key1\":\"sudh\" , \"key2\" : [1,2,3,4,5,6]}"
   ]
  },
  {
   "cell_type": "code",
   "execution_count": 339,
   "id": "c9ce303f-521a-4de5-a258-f002d056ea55",
   "metadata": {},
   "outputs": [],
   "source": [
    "d1[(1,2,3,4,5)] = \"ineuron\""
   ]
  },
  {
   "cell_type": "code",
   "execution_count": 340,
   "id": "f76d1dc2-461d-4faa-8d59-bead4e4e0fb2",
   "metadata": {},
   "outputs": [
    {
     "data": {
      "text/plain": [
       "{'key1': 'sudh', 'key2': [1, 2, 3, 4, 5, 6], (1, 2, 3, 4, 5): 'ineuron'}"
      ]
     },
     "execution_count": 340,
     "metadata": {},
     "output_type": "execute_result"
    }
   ],
   "source": [
    "d1"
   ]
  },
  {
   "cell_type": "code",
   "execution_count": 341,
   "id": "57a4a4ff-2e17-4dc8-abf9-6aca17285ab3",
   "metadata": {},
   "outputs": [
    {
     "data": {
      "text/plain": [
       "[1, 2, 3, 4, 5, 6]"
      ]
     },
     "execution_count": 341,
     "metadata": {},
     "output_type": "execute_result"
    }
   ],
   "source": [
    "d1.get(\"key2\")"
   ]
  },
  {
   "cell_type": "code",
   "execution_count": 342,
   "id": "73492e0f-53bd-449c-bb7d-9ffbf85fc8ec",
   "metadata": {},
   "outputs": [],
   "source": [
    "d1 = {\"key1\" : \"ineuron\", \"key\" : \"FSDS\"}"
   ]
  },
  {
   "cell_type": "code",
   "execution_count": 343,
   "id": "a4a145ac-3b6d-4df3-a1dd-fd2267e4cbb4",
   "metadata": {},
   "outputs": [],
   "source": [
    "d2 = {\"key2\":3431, \"key3\":[1,2,3,4,5]}"
   ]
  },
  {
   "cell_type": "code",
   "execution_count": 344,
   "id": "21fbd9ce-df90-4b86-8660-838c5c12376c",
   "metadata": {},
   "outputs": [],
   "source": [
    "d1.update(d2)"
   ]
  },
  {
   "cell_type": "code",
   "execution_count": 345,
   "id": "1991f90a-9be2-4e26-b8f2-b469f6ea53fb",
   "metadata": {},
   "outputs": [
    {
     "data": {
      "text/plain": [
       "{'key1': 'ineuron', 'key': 'FSDS', 'key2': 3431, 'key3': [1, 2, 3, 4, 5]}"
      ]
     },
     "execution_count": 345,
     "metadata": {},
     "output_type": "execute_result"
    }
   ],
   "source": [
    "d1"
   ]
  },
  {
   "cell_type": "code",
   "execution_count": 346,
   "id": "9ff8739a-fc99-4694-ba85-092b0bab79ca",
   "metadata": {},
   "outputs": [
    {
     "data": {
      "text/plain": [
       "{'key2': 3431, 'key3': [1, 2, 3, 4, 5]}"
      ]
     },
     "execution_count": 346,
     "metadata": {},
     "output_type": "execute_result"
    }
   ],
   "source": [
    "d2"
   ]
  },
  {
   "cell_type": "code",
   "execution_count": 347,
   "id": "ee220a0e-1d6d-494d-b285-6db37c56f201",
   "metadata": {},
   "outputs": [
    {
     "data": {
      "text/plain": [
       "{'key1': 'ineuron', 'key': 'FSDS', 'key2': 3431, 'key3': [1, 2, 3, 4, 5]}"
      ]
     },
     "execution_count": 347,
     "metadata": {},
     "output_type": "execute_result"
    }
   ],
   "source": [
    "d1"
   ]
  },
  {
   "cell_type": "code",
   "execution_count": 348,
   "id": "c97a0fec-7dca-4b9d-97f7-9d2dc9c103ac",
   "metadata": {},
   "outputs": [
    {
     "data": {
      "text/plain": [
       "{'key2': 3431, 'key3': [1, 2, 3, 4, 5]}"
      ]
     },
     "execution_count": 348,
     "metadata": {},
     "output_type": "execute_result"
    }
   ],
   "source": [
    "d2"
   ]
  },
  {
   "cell_type": "code",
   "execution_count": 349,
   "id": "c93975af-7315-463a-afc8-ffee402e4524",
   "metadata": {},
   "outputs": [],
   "source": [
    "key = (\"name\",\"mob_no\",\"email_id\")"
   ]
  },
  {
   "cell_type": "code",
   "execution_count": 350,
   "id": "89ab6a09-9ccb-40e9-acb3-772002e8102d",
   "metadata": {},
   "outputs": [],
   "source": [
    "value = \"sudh\""
   ]
  },
  {
   "cell_type": "code",
   "execution_count": 351,
   "id": "dfcd607f-6e42-4a3d-9178-006d041be00c",
   "metadata": {},
   "outputs": [],
   "source": [
    "d = d1.fromkeys(key,value)"
   ]
  },
  {
   "cell_type": "code",
   "execution_count": 352,
   "id": "45b5bfe8-54e4-4d54-a61d-51e7a0b754d6",
   "metadata": {},
   "outputs": [
    {
     "data": {
      "text/plain": [
       "{'name': 'sudh', 'mob_no': 'sudh', 'email_id': 'sudh'}"
      ]
     },
     "execution_count": 352,
     "metadata": {},
     "output_type": "execute_result"
    }
   ],
   "source": [
    "d"
   ]
  },
  {
   "cell_type": "code",
   "execution_count": 353,
   "id": "1784ff37-92b7-46f0-a42d-bb0b358ea047",
   "metadata": {},
   "outputs": [],
   "source": [
    "a = 10"
   ]
  },
  {
   "cell_type": "code",
   "execution_count": 354,
   "id": "ee164e51-21f9-41ba-9848-ce35168919df",
   "metadata": {},
   "outputs": [
    {
     "data": {
      "text/plain": [
       "True"
      ]
     },
     "execution_count": 354,
     "metadata": {},
     "output_type": "execute_result"
    }
   ],
   "source": [
    "a < 15"
   ]
  },
  {
   "cell_type": "code",
   "execution_count": 355,
   "id": "92d73bcc-a1bc-486a-a50c-bef396cca74b",
   "metadata": {},
   "outputs": [
    {
     "name": "stdout",
     "output_type": "stream",
     "text": [
      "yes\n"
     ]
    }
   ],
   "source": [
    "if a < 15:\n",
    "    print(\"yes\")\n",
    "else:\n",
    "    print(\"no\")"
   ]
  },
  {
   "cell_type": "code",
   "execution_count": 356,
   "id": "4a3b0c7a-64c8-4ac1-b47a-6344e31f31be",
   "metadata": {},
   "outputs": [
    {
     "data": {
      "text/plain": [
       "False"
      ]
     },
     "execution_count": 356,
     "metadata": {},
     "output_type": "execute_result"
    }
   ],
   "source": [
    "a<10"
   ]
  },
  {
   "cell_type": "code",
   "execution_count": 357,
   "id": "5296c42b-8bdc-4304-ab66-f1a814707c0f",
   "metadata": {},
   "outputs": [
    {
     "data": {
      "text/plain": [
       "10"
      ]
     },
     "execution_count": 357,
     "metadata": {},
     "output_type": "execute_result"
    }
   ],
   "source": [
    "a"
   ]
  },
  {
   "cell_type": "code",
   "execution_count": 358,
   "id": "b980bbc3-ef28-4462-bff4-fab21b7cdc32",
   "metadata": {},
   "outputs": [],
   "source": [
    "# DEAD CODE\n",
    "if a < 10 :\n",
    "    pass"
   ]
  },
  {
   "cell_type": "code",
   "execution_count": 359,
   "id": "3e6bfbbc-e6ec-4346-a794-8757343af965",
   "metadata": {},
   "outputs": [
    {
     "name": "stdout",
     "output_type": "stream",
     "text": [
      "my name is kartikay.\n"
     ]
    }
   ],
   "source": [
    "if a < 15:\n",
    "    print(\"my name is kartikay.\")"
   ]
  },
  {
   "cell_type": "code",
   "execution_count": 360,
   "id": "4d462af2-e1d7-4567-b0fe-1059f2b4a60d",
   "metadata": {},
   "outputs": [
    {
     "name": "stdout",
     "output_type": "stream",
     "text": [
      "incorrect\n"
     ]
    }
   ],
   "source": [
    "if 24 < 15:\n",
    "    print(\"my name is kartikay.\")\n",
    "else:\n",
    "    print(\"incorrect\")"
   ]
  },
  {
   "cell_type": "code",
   "execution_count": 361,
   "id": "3065f2dd-8f3d-4107-9e62-bd20ea4ed0e3",
   "metadata": {},
   "outputs": [
    {
     "name": "stdout",
     "output_type": "stream",
     "text": [
      "...\n"
     ]
    }
   ],
   "source": [
    "if 5 < 10:\n",
    "    print(\"...\")\n",
    "else:\n",
    "    print(\"???\")"
   ]
  },
  {
   "cell_type": "code",
   "execution_count": 362,
   "id": "bce4c892-696d-47f5-9c56-71c5cbca6f8d",
   "metadata": {},
   "outputs": [
    {
     "name": "stdout",
     "output_type": "stream",
     "text": [
      "i will be able to buy anything\n"
     ]
    }
   ],
   "source": [
    "income = 100\n",
    "if income < 50:\n",
    "    print(\"i will be able to buy a phone\")\n",
    "elif income< 70 :\n",
    "    print(\"i will be able to buy a car\")\n",
    "elif income < 90:\n",
    "    print(\"i will be able to rent a house\")\n",
    "else:\n",
    "    print(\"i will be able to buy anything\")"
   ]
  },
  {
   "cell_type": "code",
   "execution_count": 363,
   "id": "eac6c051-4354-4d9c-bd45-25802e553575",
   "metadata": {},
   "outputs": [
    {
     "name": "stdout",
     "output_type": "stream",
     "text": [
      "Discount will be  10000.0\n"
     ]
    }
   ],
   "source": [
    "Total_price = 50000\n",
    "if Total_price > 20000:\n",
    "    discount = Total_price * .20\n",
    "    print(\"Discount will be \",discount)\n",
    "elif Total_price <=  7000:\n",
    "    discount = Total_price * .05\n",
    "    print(\"Discount will be \",discount)\n",
    "else:\n",
    "    print(\"No Discount\")"
   ]
  },
  {
   "cell_type": "code",
   "execution_count": 364,
   "id": "10b45999-1d1a-46ef-aa6d-cbd8874022ac",
   "metadata": {},
   "outputs": [
    {
     "name": "stdout",
     "output_type": "stream",
     "text": [
      "you will be able to get a discount of 5 %\n",
      "you will be able to get one neuron with this amount 6650.0\n"
     ]
    }
   ],
   "source": [
    "coup = \"SUDHANSHU5\"\n",
    "if coup == \"SUDHANSHU5\":\n",
    "    print(\"you will be able to get a discount of 5 %\")\n",
    "    paid_amount = 7000 - 7000*.05\n",
    "    print(\"you will be able to get one neuron with this amount\",paid_amount)\n",
    "else:\n",
    "    print(\"kindly use a valid coupon code\")"
   ]
  },
  {
   "cell_type": "code",
   "execution_count": 365,
   "id": "e66d9eb0-5ab9-42b7-8544-7f0eb8daf824",
   "metadata": {},
   "outputs": [
    {
     "name": "stdout",
     "output_type": "stream",
     "text": [
      "it may take 3 months of time to make a transition\n"
     ]
    }
   ],
   "source": [
    "study_hour = 8\n",
    "if study_hour <= 1:\n",
    "    print(\"it may take 8-9 months of time to make a transition.\")\n",
    "elif 1 < study_hour <= 4:\n",
    "    print(\"it may take 6 months for transition\")\n",
    "elif study_hour> 4:\n",
    "    print(\"it may take 3 months of time to make a transition\")\n",
    "else:\n",
    "    print(\"it may be difficult.\")"
   ]
  },
  {
   "cell_type": "code",
   "execution_count": 366,
   "id": "360b8a90-b5f8-412a-99cb-37f3a22c8fc0",
   "metadata": {},
   "outputs": [
    {
     "name": "stdout",
     "output_type": "stream",
     "text": [
      "valid\n"
     ]
    }
   ],
   "source": [
    "a = 9 \n",
    "if a == 9 : print(\"valid\")"
   ]
  },
  {
   "cell_type": "code",
   "execution_count": 367,
   "id": "e648693b-8e87-47ec-9b84-3ddd44be692b",
   "metadata": {},
   "outputs": [
    {
     "name": "stdout",
     "output_type": "stream",
     "text": [
      "yes it is available, you can start learning\n"
     ]
    }
   ],
   "source": [
    "s = \"oneneuron\"\n",
    "if s == \"oneneuron\":\n",
    "    course = \"fsds\"\n",
    "    if course == \"dsa\":\n",
    "        print(\"yes its available under oneneuron and in multiple mode for job prep and core foundation \")\n",
    "    elif course == \"blockchain\":\n",
    "        print(\"this is not availabe as of now, kindly raise a demand.\")\n",
    "    elif course == \"fsds\":\n",
    "        print(\"yes it is available, you can start learning\")\n",
    "    else:\n",
    "        print(\"kindly raise your demand\")\n",
    "elif s == \"oneneuronservice\":\n",
    "    service = input(\"enter a service: \")\n",
    "    if service == \"courserequest\":\n",
    "        print(\"NOTE\")\n",
    "    elif service == \"modulerequest\":\n",
    "        print(\"Raise a demand\")\n",
    "    elif service == \"doubt\":\n",
    "        print(\"within 24hrs cleared\")\n",
    "    elif service == \"workwithus\":\n",
    "        print(\"raise a demand to work with our team\")\n",
    "    else:\n",
    "        print(\"feedback\")\n",
    "else:\n",
    "    print(\"kindly connect with our team\")"
   ]
  },
  {
   "cell_type": "code",
   "execution_count": 368,
   "id": "2999a453-d988-4932-852f-9dff4c44b3b0",
   "metadata": {},
   "outputs": [
    {
     "name": "stdout",
     "output_type": "stream",
     "text": [
      "1\n",
      "2\n",
      "3\n",
      "4\n",
      "5\n",
      "6\n",
      "7\n"
     ]
    }
   ],
   "source": [
    "l = [1,2,3,4,5,6,7]\n",
    "for i in l:\n",
    "    print(i)"
   ]
  },
  {
   "cell_type": "code",
   "execution_count": 369,
   "id": "43805de9-8907-4cc9-9088-fdf5707ba71c",
   "metadata": {},
   "outputs": [
    {
     "name": "stdout",
     "output_type": "stream",
     "text": [
      "s\n",
      "u\n",
      "d\n",
      "h\n"
     ]
    }
   ],
   "source": [
    "s = \"sudh\"\n",
    "for i in s:\n",
    "    print(i)"
   ]
  },
  {
   "cell_type": "code",
   "execution_count": 370,
   "id": "bf3772ab-b3ce-4e28-b9f9-9e6f61e2f3ba",
   "metadata": {},
   "outputs": [],
   "source": [
    "t = (1,2,3,4,5,6,7,8)"
   ]
  },
  {
   "cell_type": "code",
   "execution_count": 371,
   "id": "7687a4b5-639d-4057-a2ba-f2c679c1ab57",
   "metadata": {},
   "outputs": [
    {
     "name": "stdout",
     "output_type": "stream",
     "text": [
      "1\n",
      "2\n",
      "3\n",
      "4\n",
      "5\n",
      "6\n",
      "7\n",
      "8\n"
     ]
    }
   ],
   "source": [
    "for i in t:\n",
    "    print(i)"
   ]
  },
  {
   "cell_type": "code",
   "execution_count": 372,
   "id": "b3dc4701-1084-4599-9bf3-b0e4992108b4",
   "metadata": {},
   "outputs": [],
   "source": [
    "l = [1,4,5,6.45,4+7j,\"sudh\"]"
   ]
  },
  {
   "cell_type": "code",
   "execution_count": 373,
   "id": "73862d40-f858-405b-93a3-bb9760c92ad6",
   "metadata": {},
   "outputs": [
    {
     "name": "stdout",
     "output_type": "stream",
     "text": [
      "1  :  <class 'int'>\n",
      "4  :  <class 'int'>\n",
      "5  :  <class 'int'>\n",
      "6.45  :  <class 'float'>\n",
      "(4+7j)  :  <class 'complex'>\n",
      "sudh  :  <class 'str'>\n"
     ]
    }
   ],
   "source": [
    "for i in l:\n",
    "    print(i ,\" : \", type(i))"
   ]
  },
  {
   "cell_type": "code",
   "execution_count": 374,
   "id": "3c84ed2e-8206-4c50-9bb4-396fd9ac91eb",
   "metadata": {},
   "outputs": [],
   "source": [
    "l = [1,4,5.6]"
   ]
  },
  {
   "cell_type": "code",
   "execution_count": 375,
   "id": "0b764164-36d6-4ece-87cd-4d5027911a02",
   "metadata": {},
   "outputs": [
    {
     "data": {
      "text/plain": [
       "[3, 6, 7.6]"
      ]
     },
     "execution_count": 375,
     "metadata": {},
     "output_type": "execute_result"
    }
   ],
   "source": [
    "l1 = []\n",
    "for i in l:\n",
    "    l1.append(i+2)\n",
    "l1"
   ]
  },
  {
   "cell_type": "code",
   "execution_count": 376,
   "id": "ea191370-827b-4ed3-9bfc-ad2301aa96b7",
   "metadata": {},
   "outputs": [],
   "source": [
    "l = [2,45,78,12,\"sudh\",6+7j,[1,2,3,4,5,\"python\"]]\n",
    "l1= []\n",
    "for i in l:\n",
    "    if type(i) == int:\n",
    "        l1.append(i)\n",
    "    elif type(i) == list:\n",
    "        for j in i:\n",
    "            if type(j) == int:\n",
    "                l1.append(j)"
   ]
  },
  {
   "cell_type": "code",
   "execution_count": 377,
   "id": "b32a1fa5-43f6-4c95-9c5b-850a393b2760",
   "metadata": {},
   "outputs": [
    {
     "data": {
      "text/plain": [
       "[2, 45, 78, 12, 1, 2, 3, 4, 5]"
      ]
     },
     "execution_count": 377,
     "metadata": {},
     "output_type": "execute_result"
    }
   ],
   "source": [
    "l1"
   ]
  },
  {
   "cell_type": "code",
   "execution_count": 378,
   "id": "e3eb51dd-4b9a-402b-8d6b-2063d1b015fe",
   "metadata": {},
   "outputs": [
    {
     "name": "stdout",
     "output_type": "stream",
     "text": [
      "0 2\n",
      "1 45\n",
      "2 78\n",
      "3 12\n",
      "4 sudh\n",
      "5 (6+7j)\n",
      "6 [1, 2, 3, 4, 5, 'python']\n"
     ]
    }
   ],
   "source": [
    "l = [2,45,78,12,\"sudh\",6+7j,[1,2,3,4,5,\"python\"]]\n",
    "for i in l:\n",
    "    print(l.index(i),i)"
   ]
  },
  {
   "cell_type": "code",
   "execution_count": 379,
   "id": "fb640971-9287-40ca-ada5-6af7e2cb2b5e",
   "metadata": {},
   "outputs": [],
   "source": [
    "l = [2,45,78,12,\"sudh\",6+7j,[1,2,3,4,5,\"python\"]]\n",
    "l2 = []\n",
    "for i in l:\n",
    "    if type(i) == str:\n",
    "        l2.append(i)\n",
    "    elif type(i) == list:\n",
    "        for j in i:\n",
    "            if type(j) == str:\n",
    "                l2.append(j)\n",
    "        "
   ]
  },
  {
   "cell_type": "code",
   "execution_count": 380,
   "id": "73b08c34-cecb-4053-838c-9b8d8c9445a5",
   "metadata": {},
   "outputs": [
    {
     "data": {
      "text/plain": [
       "['sudh', 'python']"
      ]
     },
     "execution_count": 380,
     "metadata": {},
     "output_type": "execute_result"
    }
   ],
   "source": [
    "l2"
   ]
  },
  {
   "cell_type": "code",
   "execution_count": 381,
   "id": "dbe83c0b-b661-412a-bdc4-ec0f08c02a3a",
   "metadata": {},
   "outputs": [],
   "source": [
    "l = [2,45,78,12,\"sudh\",6+7j,[1,2,3,4,5,\"python\"]]\n",
    "l1= []\n",
    "for i in l:\n",
    "    if type(i) == int:\n",
    "        l1.append(i*i)\n",
    "    elif type(i) == list:\n",
    "        for j in i:\n",
    "            if type(j) == int:\n",
    "                l1.append(j*j)"
   ]
  },
  {
   "cell_type": "code",
   "execution_count": 382,
   "id": "ee26d9fc-3ff9-4e4b-b1ed-48454437a318",
   "metadata": {},
   "outputs": [
    {
     "data": {
      "text/plain": [
       "[4, 2025, 6084, 144, 1, 4, 9, 16, 25]"
      ]
     },
     "execution_count": 382,
     "metadata": {},
     "output_type": "execute_result"
    }
   ],
   "source": [
    "l1"
   ]
  },
  {
   "cell_type": "code",
   "execution_count": 383,
   "id": "3526c0cd-7718-4c09-ad31-0ef44a4b0d87",
   "metadata": {},
   "outputs": [
    {
     "data": {
      "text/plain": [
       "range(0, 4)"
      ]
     },
     "execution_count": 383,
     "metadata": {},
     "output_type": "execute_result"
    }
   ],
   "source": [
    "range(4)"
   ]
  },
  {
   "cell_type": "code",
   "execution_count": 384,
   "id": "66eee97a-1352-4206-b74a-ff31fdb0637b",
   "metadata": {},
   "outputs": [
    {
     "data": {
      "text/plain": [
       "[2, 45, 78, 12, 'sudh', (6+7j), [1, 2, 3, 4, 5, 'python']]"
      ]
     },
     "execution_count": 384,
     "metadata": {},
     "output_type": "execute_result"
    }
   ],
   "source": [
    "l"
   ]
  },
  {
   "cell_type": "code",
   "execution_count": 385,
   "id": "f183e761-c47e-490d-bf94-5e06ac5ef116",
   "metadata": {},
   "outputs": [
    {
     "data": {
      "text/plain": [
       "7"
      ]
     },
     "execution_count": 385,
     "metadata": {},
     "output_type": "execute_result"
    }
   ],
   "source": [
    "len(l)"
   ]
  },
  {
   "cell_type": "code",
   "execution_count": 386,
   "id": "77cbc84d-27bd-415d-a0ac-7770e9a9b842",
   "metadata": {},
   "outputs": [
    {
     "name": "stdout",
     "output_type": "stream",
     "text": [
      "0 2\n",
      "1 45\n",
      "2 78\n",
      "3 12\n",
      "4 sudh\n",
      "5 (6+7j)\n",
      "6 [1, 2, 3, 4, 5, 'python']\n"
     ]
    }
   ],
   "source": [
    "for i in range(len(l)):\n",
    "    print(i,l[i])"
   ]
  },
  {
   "cell_type": "code",
   "execution_count": 387,
   "id": "78ecc592-3a7f-43bd-aabc-c1fd05827e92",
   "metadata": {},
   "outputs": [
    {
     "data": {
      "text/plain": [
       "[2, 45, 78, 12, 'sudh', (6+7j), [1, 2, 3, 4, 5, 'python']]"
      ]
     },
     "execution_count": 387,
     "metadata": {},
     "output_type": "execute_result"
    }
   ],
   "source": [
    "l"
   ]
  },
  {
   "cell_type": "code",
   "execution_count": 388,
   "id": "2e0dbd09-02cc-44ff-8e66-c5c2ae784a8d",
   "metadata": {},
   "outputs": [
    {
     "name": "stdout",
     "output_type": "stream",
     "text": [
      "['s', 'u', 'd', 'h']\n"
     ]
    }
   ],
   "source": [
    "for i in l:\n",
    "    if type(i) == str:\n",
    "        l1 = []\n",
    "        for j in i:\n",
    "            l1.append(j)\n",
    "        print(l1)"
   ]
  },
  {
   "cell_type": "code",
   "execution_count": 389,
   "id": "a3654366-865d-41c4-8f04-ee223f37a4d3",
   "metadata": {},
   "outputs": [
    {
     "name": "stdout",
     "output_type": "stream",
     "text": [
      "name kartikay\n",
      "emailid kartikay\n",
      "phoneno kartikay\n",
      "address kartikay\n"
     ]
    }
   ],
   "source": [
    "l = [\"name\",\"emailid\",\"phoneno\",\"address\"]\n",
    "for i in l:\n",
    "    print(i+\" kartikay\")"
   ]
  },
  {
   "cell_type": "code",
   "execution_count": 390,
   "id": "9fc83d5d-5750-417c-a3a4-2bedd2a0b7cd",
   "metadata": {},
   "outputs": [
    {
     "name": "stdout",
     "output_type": "stream",
     "text": [
      "i\n",
      "n\n",
      "e\n",
      "u\n",
      "r\n",
      "o\n",
      "n\n"
     ]
    }
   ],
   "source": [
    "s = \"ineuron\"\n",
    "for i in s:\n",
    "    print(i)"
   ]
  },
  {
   "cell_type": "code",
   "execution_count": 391,
   "id": "e6fc3eee-c351-413a-ac8d-07ac763cfd38",
   "metadata": {},
   "outputs": [
    {
     "data": {
      "text/plain": [
       "['name', 'emailid', 'phoneno', 'address']"
      ]
     },
     "execution_count": 391,
     "metadata": {},
     "output_type": "execute_result"
    }
   ],
   "source": [
    "l"
   ]
  },
  {
   "cell_type": "code",
   "execution_count": 392,
   "id": "3a1ed41a-d5c6-4118-8f23-c719381aef6c",
   "metadata": {},
   "outputs": [
    {
     "name": "stdout",
     "output_type": "stream",
     "text": [
      "name\n",
      "emailid\n",
      "phoneno\n",
      "address\n",
      "if for loop is ......\n"
     ]
    }
   ],
   "source": [
    "for i in l:\n",
    "    print(i)\n",
    "else:\n",
    "    print(\"if for loop is ......\")"
   ]
  },
  {
   "cell_type": "code",
   "execution_count": 393,
   "id": "3fd941dc-8627-46d8-b494-1d445e508ba7",
   "metadata": {},
   "outputs": [
    {
     "name": "stdout",
     "output_type": "stream",
     "text": [
      "name\n"
     ]
    }
   ],
   "source": [
    "for i in l:\n",
    "    if i == \"emailid\":\n",
    "        break\n",
    "    print(i)\n",
    "else:\n",
    "    print(\"if for loop is ......\")"
   ]
  },
  {
   "cell_type": "code",
   "execution_count": 394,
   "id": "d2ac56cd-306a-4495-a412-3d64a6771959",
   "metadata": {},
   "outputs": [
    {
     "name": "stdout",
     "output_type": "stream",
     "text": [
      "s\n",
      "u\n",
      "d\n",
      "h\n",
      "a\n"
     ]
    }
   ],
   "source": [
    "s = \"sudhanshu\"\n",
    "for i in s:\n",
    "    if i == \"n\":\n",
    "        break\n",
    "    print(i)\n",
    "else:\n",
    "    print(\"...\")"
   ]
  },
  {
   "cell_type": "code",
   "execution_count": 395,
   "id": "636bbc20-318f-4ae8-82e2-2a7f128cc214",
   "metadata": {},
   "outputs": [
    {
     "name": "stdout",
     "output_type": "stream",
     "text": [
      "1\n",
      "2\n",
      "3\n",
      "4\n",
      "5\n"
     ]
    }
   ],
   "source": [
    "a = 1\n",
    "while a<6:\n",
    "    print(a)\n",
    "    a = a + 1"
   ]
  },
  {
   "cell_type": "code",
   "execution_count": 396,
   "id": "d5366ca8-15b2-47e9-8996-674e0a526daf",
   "metadata": {},
   "outputs": [
    {
     "name": "stdout",
     "output_type": "stream",
     "text": [
      "1\n",
      "2\n",
      "3\n",
      "4\n"
     ]
    }
   ],
   "source": [
    "a = 1\n",
    "while a < 5:\n",
    "    print(a)\n",
    "    if a==4:\n",
    "        break\n",
    "    a = a + 1"
   ]
  },
  {
   "cell_type": "code",
   "execution_count": 397,
   "id": "63017b3a-e8a9-4e55-aaab-d95eaac14d29",
   "metadata": {},
   "outputs": [
    {
     "name": "stdout",
     "output_type": "stream",
     "text": [
      "1\n",
      "2\n",
      "3\n",
      "4\n"
     ]
    }
   ],
   "source": [
    "a = 1\n",
    "while a < 5:\n",
    "    print(a)\n",
    "    a = a + 1\n",
    "    if a == 3:\n",
    "        continue"
   ]
  },
  {
   "cell_type": "code",
   "execution_count": 398,
   "id": "7ffd9865-14ac-4078-9792-79a3d62e16f6",
   "metadata": {},
   "outputs": [
    {
     "data": {
      "text/plain": [
       "[0, 1, 2, 3, 4]"
      ]
     },
     "execution_count": 398,
     "metadata": {},
     "output_type": "execute_result"
    }
   ],
   "source": [
    "list(range(5))"
   ]
  },
  {
   "cell_type": "code",
   "execution_count": 399,
   "id": "fea26cc8-7a9b-47f6-a4fb-044a72577851",
   "metadata": {},
   "outputs": [
    {
     "data": {
      "text/plain": [
       "[2, 3, 4, 5, 6]"
      ]
     },
     "execution_count": 399,
     "metadata": {},
     "output_type": "execute_result"
    }
   ],
   "source": [
    "list(range(2,7))"
   ]
  },
  {
   "cell_type": "code",
   "execution_count": 400,
   "id": "b576d52a-975b-4297-9d81-6ccf07c0446a",
   "metadata": {},
   "outputs": [
    {
     "data": {
      "text/plain": [
       "[3, 5, 7, 9, 11, 13, 15, 17, 19]"
      ]
     },
     "execution_count": 400,
     "metadata": {},
     "output_type": "execute_result"
    }
   ],
   "source": [
    "list(range(3,20,2))"
   ]
  },
  {
   "cell_type": "code",
   "execution_count": 401,
   "id": "54051d9a-a086-4788-95b0-c878fa32a8a5",
   "metadata": {},
   "outputs": [
    {
     "data": {
      "text/plain": [
       "[]"
      ]
     },
     "execution_count": 401,
     "metadata": {},
     "output_type": "execute_result"
    }
   ],
   "source": [
    "list(range(3,10,-1))"
   ]
  },
  {
   "cell_type": "code",
   "execution_count": 402,
   "id": "40b1a09a-2dc2-41ac-91b1-2713f85ac8b8",
   "metadata": {},
   "outputs": [
    {
     "data": {
      "text/plain": [
       "[10, 9, 8, 7]"
      ]
     },
     "execution_count": 402,
     "metadata": {},
     "output_type": "execute_result"
    }
   ],
   "source": [
    "list(range(10,6,-1))"
   ]
  },
  {
   "cell_type": "code",
   "execution_count": 403,
   "id": "7bf4ad6c-4d06-4315-8dde-fd2e4a0bd543",
   "metadata": {},
   "outputs": [
    {
     "data": {
      "text/plain": [
       "[10, 8, 6, 4, 2, 0, -2, -4]"
      ]
     },
     "execution_count": 403,
     "metadata": {},
     "output_type": "execute_result"
    }
   ],
   "source": [
    "list(range(10,-5,-2))"
   ]
  },
  {
   "cell_type": "code",
   "execution_count": 404,
   "id": "3541ae2f-dbcd-412a-ae22-fcf76cd2dc02",
   "metadata": {},
   "outputs": [
    {
     "name": "stdout",
     "output_type": "stream",
     "text": [
      "\n",
      " * \n",
      " *  * \n",
      " *  *  * \n",
      " *  *  *  * \n",
      " *  *  *  *  * \n"
     ]
    }
   ],
   "source": [
    "for i in range(6):\n",
    "    print(i * \" * \")"
   ]
  },
  {
   "cell_type": "code",
   "execution_count": 405,
   "id": "7a1e5198-724f-49a0-8418-43588fc3a28a",
   "metadata": {},
   "outputs": [
    {
     "name": "stdout",
     "output_type": "stream",
     "text": [
      " |KG| \n",
      " |KG|  |KG| \n",
      " |KG|  |KG|  |KG| \n",
      " |KG|  |KG|  |KG|  |KG| \n",
      " |KG|  |KG|  |KG|  |KG|  |KG| \n"
     ]
    }
   ],
   "source": [
    "for i in range(5):\n",
    "    for j in range(0,i+1):\n",
    "        print(\" |KG| \", end = \"\")\n",
    "    print(\"\\r\")"
   ]
  },
  {
   "cell_type": "code",
   "execution_count": 406,
   "id": "f95ff861-8722-4248-8266-78fdef69cbcf",
   "metadata": {},
   "outputs": [
    {
     "name": "stdout",
     "output_type": "stream",
     "text": [
      "1\n",
      "2\n",
      "3\n",
      "4\n",
      "5\n",
      "6\n",
      "7\n",
      "8\n",
      "9\n",
      "66\n",
      "46\n",
      "643\n"
     ]
    }
   ],
   "source": [
    "l = [1,2,3,4,5,6,7,8,9,66,46,643]\n",
    "for i in l:\n",
    "    print(i)"
   ]
  },
  {
   "cell_type": "code",
   "execution_count": 407,
   "id": "9a563a6f-f313-42ac-900e-c8c59308acc5",
   "metadata": {},
   "outputs": [
    {
     "name": "stdout",
     "output_type": "stream",
     "text": [
      "1\n",
      "2\n",
      "3\n",
      "4\n",
      "5\n",
      "6\n",
      "7\n",
      "8\n",
      "9\n"
     ]
    }
   ],
   "source": [
    "t = (1,2,3,4,5,6,7,8,9)\n",
    "for i in t:\n",
    "    print(i)"
   ]
  },
  {
   "cell_type": "code",
   "execution_count": 408,
   "id": "ab49c689-7734-4808-a026-be1569a5a02b",
   "metadata": {},
   "outputs": [
    {
     "name": "stdout",
     "output_type": "stream",
     "text": [
      "i\n",
      "n\n",
      "e\n",
      "u\n",
      "r\n",
      "o\n",
      "n\n"
     ]
    }
   ],
   "source": [
    "s= \"ineuron\"\n",
    "for i in s:\n",
    "    print(i)"
   ]
  },
  {
   "cell_type": "code",
   "execution_count": 409,
   "id": "f78d8435-032c-4019-bc46-f3e4f115f14c",
   "metadata": {},
   "outputs": [
    {
     "data": {
      "text/plain": [
       "9"
      ]
     },
     "execution_count": 409,
     "metadata": {},
     "output_type": "execute_result"
    }
   ],
   "source": [
    "len(t)"
   ]
  },
  {
   "cell_type": "code",
   "execution_count": 410,
   "id": "77de11b8-7fba-438e-a409-b313d110c082",
   "metadata": {},
   "outputs": [
    {
     "name": "stdout",
     "output_type": "stream",
     "text": [
      "0 1\n",
      "1 2\n",
      "2 3\n",
      "3 4\n",
      "4 5\n",
      "5 6\n",
      "6 7\n",
      "7 8\n",
      "8 9\n"
     ]
    }
   ],
   "source": [
    "for i in range(len(t)):\n",
    "    print(i,t[i])"
   ]
  },
  {
   "cell_type": "code",
   "execution_count": 411,
   "id": "8a752326-7165-4179-953d-a6642cb9a503",
   "metadata": {},
   "outputs": [
    {
     "data": {
      "text/plain": [
       "(1, 2, 3, 4, 5, 6, 7, 8, 9)"
      ]
     },
     "execution_count": 411,
     "metadata": {},
     "output_type": "execute_result"
    }
   ],
   "source": [
    "t"
   ]
  },
  {
   "cell_type": "code",
   "execution_count": 412,
   "id": "6ce26391-adab-450b-94a6-bf26004d8115",
   "metadata": {},
   "outputs": [
    {
     "name": "stdout",
     "output_type": "stream",
     "text": [
      "9\n",
      "8\n",
      "7\n",
      "6\n",
      "5\n",
      "4\n",
      "3\n",
      "2\n",
      "1\n"
     ]
    }
   ],
   "source": [
    "for i in range(len(t)-1,-1,-1):\n",
    "    print(t[i])"
   ]
  },
  {
   "cell_type": "code",
   "execution_count": 413,
   "id": "e63336ed-180a-4996-a940-a2b8817accaa",
   "metadata": {},
   "outputs": [],
   "source": [
    "d = {\"a\":\"fsddssdf\",\"b\":\"jrtjrdhd\",\"c\":[1,2,3,4,5],\"d\":(1,2,3,4,5),\"e\":\"sudh\"}"
   ]
  },
  {
   "cell_type": "code",
   "execution_count": 414,
   "id": "c0f64a49-eb5e-452e-bc87-11cdb603e434",
   "metadata": {},
   "outputs": [
    {
     "name": "stdout",
     "output_type": "stream",
     "text": [
      "a fsddssdf\n",
      "b jrtjrdhd\n",
      "c [1, 2, 3, 4, 5]\n",
      "d (1, 2, 3, 4, 5)\n",
      "e sudh\n"
     ]
    }
   ],
   "source": [
    "for i in d:\n",
    "    print(i,d[i])"
   ]
  },
  {
   "cell_type": "code",
   "execution_count": 415,
   "id": "0ea5dc8f-25d0-4844-8e1d-075a3283b74e",
   "metadata": {},
   "outputs": [
    {
     "name": "stdout",
     "output_type": "stream",
     "text": [
      "('a', 'fsddssdf')\n",
      "('b', 'jrtjrdhd')\n",
      "('c', [1, 2, 3, 4, 5])\n",
      "('d', (1, 2, 3, 4, 5))\n",
      "('e', 'sudh')\n"
     ]
    }
   ],
   "source": [
    "for i in d.items():\n",
    "    print(i)"
   ]
  },
  {
   "cell_type": "code",
   "execution_count": 416,
   "id": "69eb6c31-4f30-4fbd-947d-8ff8c2bbef34",
   "metadata": {},
   "outputs": [],
   "source": [
    "s = {12,4,3,235,643,65,86,97,879,239,87,41,42,53,457,568}"
   ]
  },
  {
   "cell_type": "code",
   "execution_count": 417,
   "id": "0f272904-fb97-4c32-9f09-af63e980a7b6",
   "metadata": {},
   "outputs": [
    {
     "data": {
      "text/plain": [
       "{3, 4, 12, 41, 42, 53, 65, 86, 87, 97, 235, 239, 457, 568, 643, 879}"
      ]
     },
     "execution_count": 417,
     "metadata": {},
     "output_type": "execute_result"
    }
   ],
   "source": [
    "s"
   ]
  },
  {
   "cell_type": "code",
   "execution_count": 418,
   "id": "6478e495-35c8-47ec-b7dc-df7310b02185",
   "metadata": {},
   "outputs": [
    {
     "name": "stdout",
     "output_type": "stream",
     "text": [
      "65\n",
      "3\n",
      "643\n",
      "4\n",
      "457\n",
      "12\n",
      "86\n",
      "87\n",
      "97\n",
      "41\n",
      "42\n",
      "235\n",
      "879\n",
      "239\n",
      "53\n",
      "568\n"
     ]
    }
   ],
   "source": [
    "for i in s:\n",
    "    print(i)"
   ]
  },
  {
   "cell_type": "code",
   "execution_count": 419,
   "id": "a2b44fd8-b38f-402b-ba0d-427c167d931d",
   "metadata": {},
   "outputs": [
    {
     "name": "stdout",
     "output_type": "stream",
     "text": [
      "k\n",
      "a\n",
      "r\n",
      "t\n",
      "i\n",
      "k\n",
      "a\n",
      "y\n"
     ]
    }
   ],
   "source": [
    "a = \"kartikay\"\n",
    "for i in a:\n",
    "    print(i)"
   ]
  },
  {
   "cell_type": "code",
   "execution_count": 420,
   "id": "70260592-b782-475e-9d8b-7a44dc35596e",
   "metadata": {},
   "outputs": [
    {
     "data": {
      "text/plain": [
       "28"
      ]
     },
     "execution_count": 420,
     "metadata": {},
     "output_type": "execute_result"
    }
   ],
   "source": [
    "s = \"this is a basic python class\"\n",
    "len(s)"
   ]
  },
  {
   "cell_type": "code",
   "execution_count": 421,
   "id": "209a5b34-201d-43fa-b92a-ada95a029dea",
   "metadata": {},
   "outputs": [
    {
     "name": "stdout",
     "output_type": "stream",
     "text": [
      "28\n"
     ]
    }
   ],
   "source": [
    "count = 0\n",
    "for i in s:\n",
    "    #count = count + 1\n",
    "    count += 1\n",
    "print(count)    "
   ]
  },
  {
   "cell_type": "code",
   "execution_count": 422,
   "id": "7533fcb2-12ca-4ca5-b40d-a105737ae4ac",
   "metadata": {},
   "outputs": [
    {
     "data": {
      "text/plain": [
       "'ssalc nohtyp cisab a si siht'"
      ]
     },
     "execution_count": 422,
     "metadata": {},
     "output_type": "execute_result"
    }
   ],
   "source": [
    "s[::-1]"
   ]
  },
  {
   "cell_type": "code",
   "execution_count": 423,
   "id": "2461220b-1ba0-4ead-9992-4b1159875a18",
   "metadata": {},
   "outputs": [
    {
     "name": "stdout",
     "output_type": "stream",
     "text": [
      "ssalc nohtyp cisab a si siht"
     ]
    }
   ],
   "source": [
    "s = \"this is a basic python class\"\n",
    "for i in range(len(s)-1,-1,-1):\n",
    "    print(s[i],end = \"\")"
   ]
  },
  {
   "cell_type": "code",
   "execution_count": 424,
   "id": "6f10cb05-644d-460a-b55a-b021aba9e34f",
   "metadata": {},
   "outputs": [
    {
     "name": "stdout",
     "output_type": "stream",
     "text": [
      "ssalc nohtyp cisab a si siht"
     ]
    }
   ],
   "source": [
    "s = \"this is a basic python class\"\n",
    "i = len(s) - 1 # 28 - 1 = 27\n",
    "while i >= 0:\n",
    "    print(s[i],end = \"\")\n",
    "    i = i - 1"
   ]
  },
  {
   "cell_type": "code",
   "execution_count": 425,
   "id": "ce90bb2b-a591-4d4e-bc0c-afa745e05705",
   "metadata": {},
   "outputs": [],
   "source": [
    "s = \"ineuron\"\n",
    "v = \"AaEeIiOoUu\""
   ]
  },
  {
   "cell_type": "code",
   "execution_count": 426,
   "id": "37d12da0-e9e5-43c6-b124-28ef51791151",
   "metadata": {},
   "outputs": [
    {
     "name": "stdout",
     "output_type": "stream",
     "text": [
      "i = Vowel\n",
      "n = Not Vowel\n",
      "e = Vowel\n",
      "u = Vowel\n",
      "r = Not Vowel\n",
      "o = Vowel\n",
      "n = Not Vowel\n"
     ]
    }
   ],
   "source": [
    "for i in s:\n",
    "    if i in v :\n",
    "        print(i, \"= Vowel\")\n",
    "    else:\n",
    "        print(i,\"= Not Vowel\")"
   ]
  },
  {
   "cell_type": "code",
   "execution_count": 427,
   "id": "e3f272bd-0561-40a6-b6ab-303f7073acb5",
   "metadata": {},
   "outputs": [
    {
     "name": "stdout",
     "output_type": "stream",
     "text": [
      "Palindrome\n"
     ]
    }
   ],
   "source": [
    "s = \"eye\"\n",
    "if s == s[::-1]:\n",
    "    print(\"Palindrome\")\n",
    "else:\n",
    "    print(\"Not Palindrome\")"
   ]
  },
  {
   "cell_type": "code",
   "execution_count": 428,
   "id": "7a17ace3-969d-4fdb-97a6-c6f43ab42200",
   "metadata": {},
   "outputs": [
    {
     "name": "stdout",
     "output_type": "stream",
     "text": [
      "palindrome\n"
     ]
    }
   ],
   "source": [
    "s = \"tenet\" #good one\n",
    "for i in range(len(s)):\n",
    "    if s[i] != s[len(s)-i-1]:\n",
    "        print(\"not palindrome\")\n",
    "        break\n",
    "else:\n",
    "    print(\"palindrome\")"
   ]
  },
  {
   "cell_type": "markdown",
   "id": "07d2f5e0-9f2c-4470-b509-4c744d36e354",
   "metadata": {
    "tags": []
   },
   "source": [
    "# palindrome and vowels using while loops.\n",
    "# while loop practice"
   ]
  },
  {
   "cell_type": "code",
   "execution_count": 429,
   "id": "180fd67c-1c31-49f4-bd90-8961b65ed053",
   "metadata": {},
   "outputs": [],
   "source": [
    "d = {\"india\": \"IN\",\n",
    "    \"canada\":\"CA\",\n",
    "    \"china\": \"CH\",\n",
    "    \"united states\":\"US\"}"
   ]
  },
  {
   "cell_type": "code",
   "execution_count": 430,
   "id": "62a34f78-427a-4000-9ea5-4b9dda5b17f1",
   "metadata": {},
   "outputs": [
    {
     "data": {
      "text/plain": [
       "True"
      ]
     },
     "execution_count": 430,
     "metadata": {},
     "output_type": "execute_result"
    }
   ],
   "source": [
    "\"india\" in d"
   ]
  },
  {
   "cell_type": "code",
   "execution_count": 431,
   "id": "5e187c8c-0c48-4913-9b60-c8d82b627d96",
   "metadata": {},
   "outputs": [],
   "source": [
    "l = list(d)"
   ]
  },
  {
   "cell_type": "code",
   "execution_count": 432,
   "id": "1b022852-129c-42f0-bb44-2248f3f13500",
   "metadata": {},
   "outputs": [
    {
     "data": {
      "text/plain": [
       "['india', 'canada', 'china', 'united states']"
      ]
     },
     "execution_count": 432,
     "metadata": {},
     "output_type": "execute_result"
    }
   ],
   "source": [
    "l"
   ]
  },
  {
   "cell_type": "code",
   "execution_count": 433,
   "id": "7a96d555-ef23-4170-8e81-cb07009c277b",
   "metadata": {},
   "outputs": [
    {
     "name": "stdout",
     "output_type": "stream",
     "text": [
      "['canada', 'united states']\n"
     ]
    }
   ],
   "source": [
    "l1 = []\n",
    "for i in l:\n",
    "    if len(i) > 5:\n",
    "        l1.append(i)\n",
    "print(l1)"
   ]
  },
  {
   "cell_type": "code",
   "execution_count": 434,
   "id": "b02a9730-c37c-4f40-bb24-d03ba38d1d06",
   "metadata": {},
   "outputs": [
    {
     "name": "stdout",
     "output_type": "stream",
     "text": [
      "['india', 'china']\n"
     ]
    }
   ],
   "source": [
    " l2 = []\n",
    "for i in l:\n",
    "    if len(i) <= 5:\n",
    "        l2.append(i)\n",
    "print(l2)"
   ]
  },
  {
   "cell_type": "code",
   "execution_count": 435,
   "id": "bfcf4d0e-ed1d-45c2-bf6e-951eac79260b",
   "metadata": {},
   "outputs": [],
   "source": [
    "d_1 = {\"ineuron\":{\"a\":14,\"b\":10,\"c\":4},\"course\":{\"d\":45,\"e\":34,\"f\":1}}"
   ]
  },
  {
   "cell_type": "code",
   "execution_count": 436,
   "id": "f16bbf27-28f2-422a-944f-94534f713772",
   "metadata": {},
   "outputs": [
    {
     "data": {
      "text/plain": [
       "{'ineuron': {'a': 14, 'b': 10, 'c': 4}, 'course': {'d': 45, 'e': 34, 'f': 1}}"
      ]
     },
     "execution_count": 436,
     "metadata": {},
     "output_type": "execute_result"
    }
   ],
   "source": [
    "d_1"
   ]
  },
  {
   "cell_type": "code",
   "execution_count": 437,
   "id": "f4600bc1-0a21-4051-95c6-32bf85d57149",
   "metadata": {},
   "outputs": [
    {
     "name": "stdout",
     "output_type": "stream",
     "text": [
      "14\n",
      "45\n"
     ]
    }
   ],
   "source": [
    "l1 = []\n",
    "for i in d_1.values():\n",
    "    for j in i.values():\n",
    "        l1.append(j)\n",
    "    print(max(l1))"
   ]
  },
  {
   "cell_type": "code",
   "execution_count": 438,
   "id": "dd4d5639-4b02-4af5-96db-d6314d0280c8",
   "metadata": {},
   "outputs": [
    {
     "data": {
      "text/plain": [
       "{'ineuron': {'a': 14, 'b': 10, 'c': 4}, 'course': {'d': 45, 'e': 34, 'f': 1}}"
      ]
     },
     "execution_count": 438,
     "metadata": {},
     "output_type": "execute_result"
    }
   ],
   "source": [
    "d_1"
   ]
  },
  {
   "cell_type": "code",
   "execution_count": 439,
   "id": "97c1933e-fa71-47d0-b0b2-28d26f503f92",
   "metadata": {},
   "outputs": [
    {
     "name": "stdout",
     "output_type": "stream",
     "text": [
      "14\n",
      "45\n"
     ]
    }
   ],
   "source": [
    "mx = 0 # Nice Approach\n",
    "for i in d_1.values():\n",
    "    for j in i.values():\n",
    "        if mx<j:\n",
    "            mx = j\n",
    "    print(mx)"
   ]
  },
  {
   "cell_type": "code",
   "execution_count": 440,
   "id": "6ca6f855-2e3b-4dce-a808-a13068c90103",
   "metadata": {},
   "outputs": [
    {
     "data": {
      "text/plain": [
       "{'ineuron': {'a': 14, 'b': 10, 'c': 4}, 'course': {'d': 45, 'e': 34, 'f': 1}}"
      ]
     },
     "execution_count": 440,
     "metadata": {},
     "output_type": "execute_result"
    }
   ],
   "source": [
    "d_1"
   ]
  },
  {
   "cell_type": "code",
   "execution_count": 441,
   "id": "165a9ec7-ae56-4621-8639-3358895d318c",
   "metadata": {},
   "outputs": [],
   "source": [
    "d1 = {'ineuron': {'a': 14, 'b': 10, 'c': 4},\n",
    "      'course': {'d': 45, 'e': 34, 'f': 1}, \"g\":354,\"h\":[45,6,7,8,9,3], \"i\":(45,34,2),\"k\":\"sudh\"}"
   ]
  },
  {
   "cell_type": "code",
   "execution_count": 442,
   "id": "05d88fb9-4a1e-4e37-9d8e-4635e8f16fc1",
   "metadata": {},
   "outputs": [
    {
     "data": {
      "text/plain": [
       "{'ineuron': {'a': 14, 'b': 10, 'c': 4},\n",
       " 'course': {'d': 45, 'e': 34, 'f': 1},\n",
       " 'g': 354,\n",
       " 'h': [45, 6, 7, 8, 9, 3],\n",
       " 'i': (45, 34, 2),\n",
       " 'k': 'sudh'}"
      ]
     },
     "execution_count": 442,
     "metadata": {},
     "output_type": "execute_result"
    }
   ],
   "source": [
    "d1"
   ]
  },
  {
   "cell_type": "code",
   "execution_count": 443,
   "id": "3315d6fd-7caf-4159-9707-fd191bd2973f",
   "metadata": {},
   "outputs": [
    {
     "name": "stdout",
     "output_type": "stream",
     "text": [
      "354\n"
     ]
    }
   ],
   "source": [
    "l1 = []\n",
    "for i in d1.values():\n",
    "    if type(i) == dict:\n",
    "        l1.append(max(i.values()))\n",
    "    elif type(i) == list:\n",
    "        l1.append(max(i))\n",
    "    elif type(i) == tuple:\n",
    "        l1.append(max(i))\n",
    "    elif type(i) == str:\n",
    "        pass\n",
    "    else:\n",
    "        l1.append(i)\n",
    "print(max(l1))\n",
    "        "
   ]
  },
  {
   "cell_type": "markdown",
   "id": "e093404f-7782-4c59-bca4-eaa622642c3c",
   "metadata": {
    "tags": []
   },
   "source": [
    "# functions"
   ]
  },
  {
   "cell_type": "code",
   "execution_count": 444,
   "id": "a678f69b-fab1-44d1-9f43-a626edd661dd",
   "metadata": {},
   "outputs": [],
   "source": [
    "def test():\n",
    "    pass"
   ]
  },
  {
   "cell_type": "code",
   "execution_count": 445,
   "id": "5a925924-ff7b-4de4-9baa-521326606c2c",
   "metadata": {},
   "outputs": [],
   "source": [
    "def test1():\n",
    "    print (\"this is my first function\")"
   ]
  },
  {
   "cell_type": "code",
   "execution_count": 446,
   "id": "cc3fcf5f-a31e-4dd9-914e-1932c6f5b7e6",
   "metadata": {},
   "outputs": [
    {
     "name": "stdout",
     "output_type": "stream",
     "text": [
      "this is my first function\n"
     ]
    }
   ],
   "source": [
    "test1()"
   ]
  },
  {
   "cell_type": "code",
   "execution_count": 447,
   "id": "81022a08-dba7-41a9-b13a-c60af713b592",
   "metadata": {},
   "outputs": [
    {
     "name": "stdout",
     "output_type": "stream",
     "text": [
      "this is my first function\n"
     ]
    },
    {
     "data": {
      "text/plain": [
       "NoneType"
      ]
     },
     "execution_count": 447,
     "metadata": {},
     "output_type": "execute_result"
    }
   ],
   "source": [
    "type(test1())"
   ]
  },
  {
   "cell_type": "code",
   "execution_count": 448,
   "id": "a8895364-4118-40c5-96d2-112ec015a912",
   "metadata": {},
   "outputs": [],
   "source": [
    "def test2():\n",
    "    return (\"this is my first function\")"
   ]
  },
  {
   "cell_type": "code",
   "execution_count": 449,
   "id": "056f5232-3f8b-4cc2-974d-7af7b8b9442f",
   "metadata": {},
   "outputs": [
    {
     "data": {
      "text/plain": [
       "str"
      ]
     },
     "execution_count": 449,
     "metadata": {},
     "output_type": "execute_result"
    }
   ],
   "source": [
    "type(test2())"
   ]
  },
  {
   "cell_type": "code",
   "execution_count": 450,
   "id": "9908a184-6d38-4016-bef5-86bc98ca39db",
   "metadata": {},
   "outputs": [
    {
     "data": {
      "text/plain": [
       "'this is my first function'"
      ]
     },
     "execution_count": 450,
     "metadata": {},
     "output_type": "execute_result"
    }
   ],
   "source": [
    "test2()"
   ]
  },
  {
   "cell_type": "code",
   "execution_count": 451,
   "id": "08cbacd3-753a-445f-93c7-b22dec0e670c",
   "metadata": {},
   "outputs": [],
   "source": [
    "a = test2()"
   ]
  },
  {
   "cell_type": "code",
   "execution_count": 452,
   "id": "a4f7d140-362a-48d2-9638-82ddf477fa66",
   "metadata": {},
   "outputs": [
    {
     "data": {
      "text/plain": [
       "'this is my first function Kartikay'"
      ]
     },
     "execution_count": 452,
     "metadata": {},
     "output_type": "execute_result"
    }
   ],
   "source": [
    "a + \" Kartikay\""
   ]
  },
  {
   "cell_type": "code",
   "execution_count": 453,
   "id": "e7854638-33ae-4e41-aec6-27369c98c1c8",
   "metadata": {},
   "outputs": [
    {
     "data": {
      "text/plain": [
       "'Kartikay_Garg'"
      ]
     },
     "execution_count": 453,
     "metadata": {},
     "output_type": "execute_result"
    }
   ],
   "source": [
    "\"Kartikay\"+\"_\"+\"Garg\""
   ]
  },
  {
   "cell_type": "code",
   "execution_count": 454,
   "id": "2a068fa8-b0c4-4118-baed-766f29f2ba27",
   "metadata": {},
   "outputs": [
    {
     "name": "stdout",
     "output_type": "stream",
     "text": [
      "\n"
     ]
    },
    {
     "data": {
      "text/plain": [
       "NoneType"
      ]
     },
     "execution_count": 454,
     "metadata": {},
     "output_type": "execute_result"
    }
   ],
   "source": [
    "type(print())"
   ]
  },
  {
   "cell_type": "markdown",
   "id": "b6c87fd7-0c62-4812-ae52-97c32056996a",
   "metadata": {
    "tags": []
   },
   "source": [
    "# print always gives non-type"
   ]
  },
  {
   "cell_type": "code",
   "execution_count": 455,
   "id": "fac56264-7a6a-48d0-955a-f3edce8437c2",
   "metadata": {},
   "outputs": [],
   "source": [
    "def test3():\n",
    "    return 52325"
   ]
  },
  {
   "cell_type": "code",
   "execution_count": 456,
   "id": "7ea8a9c0-f0cd-467b-bca0-3f9605be244e",
   "metadata": {},
   "outputs": [
    {
     "data": {
      "text/plain": [
       "int"
      ]
     },
     "execution_count": 456,
     "metadata": {},
     "output_type": "execute_result"
    }
   ],
   "source": [
    "type(test3())"
   ]
  },
  {
   "cell_type": "code",
   "execution_count": 457,
   "id": "768e07b5-e095-4286-ad62-2f20b00a8bf1",
   "metadata": {},
   "outputs": [
    {
     "data": {
      "text/plain": [
       "52325"
      ]
     },
     "execution_count": 457,
     "metadata": {},
     "output_type": "execute_result"
    }
   ],
   "source": [
    "test3()"
   ]
  },
  {
   "cell_type": "code",
   "execution_count": 458,
   "id": "ef6e5a23-77dc-4c9a-b10b-886b66ff15ff",
   "metadata": {},
   "outputs": [],
   "source": [
    "def test4():\n",
    "    return 4,3,\"sudh\",[1,2,3,4],(1,2,3,4,5),{1,1,1,2,2,3,3,3,4},{\"a\":12,\"b\":\"Kartikay\"}"
   ]
  },
  {
   "cell_type": "code",
   "execution_count": 459,
   "id": "8838d42e-978d-48c0-8f6a-527917282a71",
   "metadata": {},
   "outputs": [
    {
     "data": {
      "text/plain": [
       "(4,\n",
       " 3,\n",
       " 'sudh',\n",
       " [1, 2, 3, 4],\n",
       " (1, 2, 3, 4, 5),\n",
       " {1, 2, 3, 4},\n",
       " {'a': 12, 'b': 'Kartikay'})"
      ]
     },
     "execution_count": 459,
     "metadata": {},
     "output_type": "execute_result"
    }
   ],
   "source": [
    "test4()"
   ]
  },
  {
   "cell_type": "code",
   "execution_count": 460,
   "id": "f64bed70-a855-44ae-87da-03b9d6f111f0",
   "metadata": {},
   "outputs": [
    {
     "data": {
      "text/plain": [
       "tuple"
      ]
     },
     "execution_count": 460,
     "metadata": {},
     "output_type": "execute_result"
    }
   ],
   "source": [
    "type(test4())"
   ]
  },
  {
   "cell_type": "code",
   "execution_count": 461,
   "id": "04f7256a-1131-48c8-901f-1debf7c23de3",
   "metadata": {},
   "outputs": [
    {
     "data": {
      "text/plain": [
       "function"
      ]
     },
     "execution_count": 461,
     "metadata": {},
     "output_type": "execute_result"
    }
   ],
   "source": [
    "type(test4)"
   ]
  },
  {
   "cell_type": "code",
   "execution_count": 462,
   "id": "c3b8311b-f65f-4909-b586-4b89cc6161d0",
   "metadata": {},
   "outputs": [],
   "source": [
    "b = test4()"
   ]
  },
  {
   "cell_type": "code",
   "execution_count": 463,
   "id": "f358ed7d-8f99-43d4-8a8d-828c954c6676",
   "metadata": {},
   "outputs": [
    {
     "data": {
      "text/plain": [
       "(4,\n",
       " 3,\n",
       " 'sudh',\n",
       " [1, 2, 3, 4],\n",
       " (1, 2, 3, 4, 5),\n",
       " {1, 2, 3, 4},\n",
       " {'a': 12, 'b': 'Kartikay'})"
      ]
     },
     "execution_count": 463,
     "metadata": {},
     "output_type": "execute_result"
    }
   ],
   "source": [
    "b"
   ]
  },
  {
   "cell_type": "code",
   "execution_count": 464,
   "id": "17ffd40b-d4df-4d69-9ac7-5aead9a1010a",
   "metadata": {},
   "outputs": [
    {
     "data": {
      "text/plain": [
       "7"
      ]
     },
     "execution_count": 464,
     "metadata": {},
     "output_type": "execute_result"
    }
   ],
   "source": [
    "b[0] + b[1]"
   ]
  },
  {
   "cell_type": "code",
   "execution_count": 465,
   "id": "da05da4c-d5b1-4720-a6f9-7101fb69b9b4",
   "metadata": {},
   "outputs": [
    {
     "data": {
      "text/plain": [
       "[1, 2, 3, 4]"
      ]
     },
     "execution_count": 465,
     "metadata": {},
     "output_type": "execute_result"
    }
   ],
   "source": [
    "b[3]"
   ]
  },
  {
   "cell_type": "code",
   "execution_count": 466,
   "id": "116a21ea-8ed4-42bd-a461-2bc039c5246c",
   "metadata": {},
   "outputs": [
    {
     "data": {
      "text/plain": [
       "{'a': 12, 'b': 'Kartikay'}"
      ]
     },
     "execution_count": 466,
     "metadata": {},
     "output_type": "execute_result"
    }
   ],
   "source": [
    "b[6]"
   ]
  },
  {
   "cell_type": "code",
   "execution_count": 467,
   "id": "12dff143-8eef-4f06-8e77-43fc80e49a3a",
   "metadata": {},
   "outputs": [
    {
     "data": {
      "text/plain": [
       "(4,\n",
       " 3,\n",
       " 'sudh',\n",
       " [1, 2, 3, 4],\n",
       " (1, 2, 3, 4, 5),\n",
       " {1, 2, 3, 4},\n",
       " {'a': 12, 'b': 'Kartikay'})"
      ]
     },
     "execution_count": 467,
     "metadata": {},
     "output_type": "execute_result"
    }
   ],
   "source": [
    "test4()"
   ]
  },
  {
   "cell_type": "code",
   "execution_count": 468,
   "id": "5f9af132-25b8-4291-9a66-7cd0fa748638",
   "metadata": {},
   "outputs": [],
   "source": [
    "a = 1\n",
    "b = 5\n",
    "c = \"sudh\"\n",
    "d = [1,2,3,3,4,56,7]"
   ]
  },
  {
   "cell_type": "code",
   "execution_count": 469,
   "id": "7b7cc838-c5cc-4684-85dc-22510b045ef0",
   "metadata": {},
   "outputs": [],
   "source": [
    "a,b,c,d = 12,23,34,45"
   ]
  },
  {
   "cell_type": "code",
   "execution_count": 470,
   "id": "ff76f1e7-606d-4a27-a7bb-e61b1d8e945b",
   "metadata": {},
   "outputs": [
    {
     "data": {
      "text/plain": [
       "12"
      ]
     },
     "execution_count": 470,
     "metadata": {},
     "output_type": "execute_result"
    }
   ],
   "source": [
    "a"
   ]
  },
  {
   "cell_type": "code",
   "execution_count": 471,
   "id": "49b66a3a-901b-48ed-9a74-6c86f216b3aa",
   "metadata": {},
   "outputs": [
    {
     "data": {
      "text/plain": [
       "23"
      ]
     },
     "execution_count": 471,
     "metadata": {},
     "output_type": "execute_result"
    }
   ],
   "source": [
    "b"
   ]
  },
  {
   "cell_type": "code",
   "execution_count": 472,
   "id": "11f6fcc5-49cb-4d86-843a-f9d470ece7b3",
   "metadata": {},
   "outputs": [
    {
     "data": {
      "text/plain": [
       "34"
      ]
     },
     "execution_count": 472,
     "metadata": {},
     "output_type": "execute_result"
    }
   ],
   "source": [
    "c"
   ]
  },
  {
   "cell_type": "code",
   "execution_count": 473,
   "id": "5573b782-ffe0-48f7-b234-5c2ca1ee7b2a",
   "metadata": {},
   "outputs": [
    {
     "data": {
      "text/plain": [
       "45"
      ]
     },
     "execution_count": 473,
     "metadata": {},
     "output_type": "execute_result"
    }
   ],
   "source": [
    "d"
   ]
  },
  {
   "cell_type": "code",
   "execution_count": 474,
   "id": "1cf2ce6c-5585-44b6-8477-f2f1653eb778",
   "metadata": {},
   "outputs": [
    {
     "data": {
      "text/plain": [
       "(4,\n",
       " 3,\n",
       " 'sudh',\n",
       " [1, 2, 3, 4],\n",
       " (1, 2, 3, 4, 5),\n",
       " {1, 2, 3, 4},\n",
       " {'a': 12, 'b': 'Kartikay'})"
      ]
     },
     "execution_count": 474,
     "metadata": {},
     "output_type": "execute_result"
    }
   ],
   "source": [
    "test4()"
   ]
  },
  {
   "cell_type": "code",
   "execution_count": 475,
   "id": "310e91e1-2557-4b4c-82b3-3a7302dce51c",
   "metadata": {},
   "outputs": [],
   "source": [
    "a,b,c,d,e,f,g = test4()"
   ]
  },
  {
   "cell_type": "code",
   "execution_count": 476,
   "id": "e75d0979-5d3a-4443-8982-ee5b48b45e65",
   "metadata": {},
   "outputs": [
    {
     "data": {
      "text/plain": [
       "4"
      ]
     },
     "execution_count": 476,
     "metadata": {},
     "output_type": "execute_result"
    }
   ],
   "source": [
    "a"
   ]
  },
  {
   "cell_type": "code",
   "execution_count": 477,
   "id": "95cdd8fc-62d3-4403-a0e0-f4843521cec8",
   "metadata": {},
   "outputs": [
    {
     "data": {
      "text/plain": [
       "3"
      ]
     },
     "execution_count": 477,
     "metadata": {},
     "output_type": "execute_result"
    }
   ],
   "source": [
    "b"
   ]
  },
  {
   "cell_type": "code",
   "execution_count": 478,
   "id": "adf55b73-00f7-4489-ba2f-965eaf79bbdd",
   "metadata": {},
   "outputs": [
    {
     "data": {
      "text/plain": [
       "'sudh'"
      ]
     },
     "execution_count": 478,
     "metadata": {},
     "output_type": "execute_result"
    }
   ],
   "source": [
    "c"
   ]
  },
  {
   "cell_type": "code",
   "execution_count": 479,
   "id": "63bb242b-a6e3-41a8-bbb1-3077d159ceaf",
   "metadata": {},
   "outputs": [
    {
     "data": {
      "text/plain": [
       "[1, 2, 3, 4]"
      ]
     },
     "execution_count": 479,
     "metadata": {},
     "output_type": "execute_result"
    }
   ],
   "source": [
    "d"
   ]
  },
  {
   "cell_type": "code",
   "execution_count": 480,
   "id": "7839d96d-6ac0-4a15-a5f3-c0c43eac8fde",
   "metadata": {},
   "outputs": [
    {
     "data": {
      "text/plain": [
       "(1, 2, 3, 4, 5)"
      ]
     },
     "execution_count": 480,
     "metadata": {},
     "output_type": "execute_result"
    }
   ],
   "source": [
    "e"
   ]
  },
  {
   "cell_type": "code",
   "execution_count": 481,
   "id": "acc53bc1-9b66-4c26-865b-b2d9f0bd0e6e",
   "metadata": {},
   "outputs": [
    {
     "data": {
      "text/plain": [
       "{1, 2, 3, 4}"
      ]
     },
     "execution_count": 481,
     "metadata": {},
     "output_type": "execute_result"
    }
   ],
   "source": [
    "f"
   ]
  },
  {
   "cell_type": "code",
   "execution_count": 482,
   "id": "b90909fa-5209-42dc-8fbc-e7313c5fc818",
   "metadata": {},
   "outputs": [
    {
     "data": {
      "text/plain": [
       "{'a': 12, 'b': 'Kartikay'}"
      ]
     },
     "execution_count": 482,
     "metadata": {},
     "output_type": "execute_result"
    }
   ],
   "source": [
    "g"
   ]
  },
  {
   "cell_type": "code",
   "execution_count": 483,
   "id": "ac577b8d-31d4-4e9c-b3c5-236aef5e146a",
   "metadata": {},
   "outputs": [],
   "source": [
    "def test5():\n",
    "    a = 6*7/6\n",
    "    return a "
   ]
  },
  {
   "cell_type": "code",
   "execution_count": 484,
   "id": "8f64278a-a8a0-41a3-bac5-10a2ecee6cf8",
   "metadata": {},
   "outputs": [
    {
     "data": {
      "text/plain": [
       "7.0"
      ]
     },
     "execution_count": 484,
     "metadata": {},
     "output_type": "execute_result"
    }
   ],
   "source": [
    "test5()"
   ]
  },
  {
   "cell_type": "code",
   "execution_count": 485,
   "id": "ac947239-ff12-448e-8d52-cb0122449cb9",
   "metadata": {},
   "outputs": [],
   "source": [
    "def test6(a):\n",
    "    n = []\n",
    "    if type(a) == list:\n",
    "        for i in a:\n",
    "            if type(i) == int:\n",
    "                n.append(i)\n",
    "    return n"
   ]
  },
  {
   "cell_type": "code",
   "execution_count": 486,
   "id": "09aa4e35-9c52-4e12-94a6-62b0a94b865d",
   "metadata": {},
   "outputs": [],
   "source": [
    "a = [1,2,3,4,5,\"sudh\",6+7j]"
   ]
  },
  {
   "cell_type": "code",
   "execution_count": 487,
   "id": "658df6a7-11d9-4bca-8d44-357c27bb81ee",
   "metadata": {},
   "outputs": [
    {
     "data": {
      "text/plain": [
       "[1, 2, 3, 4, 5]"
      ]
     },
     "execution_count": 487,
     "metadata": {},
     "output_type": "execute_result"
    }
   ],
   "source": [
    "test6(a)"
   ]
  },
  {
   "cell_type": "code",
   "execution_count": 488,
   "id": "8df307e2-e296-4455-b95d-780f8910d398",
   "metadata": {},
   "outputs": [
    {
     "data": {
      "text/plain": [
       "[1, 2, 3, 4, 5]"
      ]
     },
     "execution_count": 488,
     "metadata": {},
     "output_type": "execute_result"
    }
   ],
   "source": [
    "test6([1,2,3,4,5,\"sudh\",\"ineuron\",5+4j,True])"
   ]
  },
  {
   "cell_type": "code",
   "execution_count": 489,
   "id": "aec1b786-6b87-4748-b26d-a69083c3519a",
   "metadata": {},
   "outputs": [],
   "source": [
    "def test8(c):\n",
    "    if type(c) == dict:\n",
    "        return c.keys()\n",
    "    else:\n",
    "        return \"you have not passed a dict.\""
   ]
  },
  {
   "cell_type": "code",
   "execution_count": 490,
   "id": "c70a2941-e854-4f30-b215-44abf327a5a1",
   "metadata": {},
   "outputs": [
    {
     "data": {
      "text/plain": [
       "dict_keys(['a', 'b', 'c'])"
      ]
     },
     "execution_count": 490,
     "metadata": {},
     "output_type": "execute_result"
    }
   ],
   "source": [
    "test8({\"a\":12,\"b\":32,\"c\":456})"
   ]
  },
  {
   "cell_type": "code",
   "execution_count": 491,
   "id": "ecfa944d-dddc-4af0-bcc6-ece75ece6439",
   "metadata": {},
   "outputs": [],
   "source": [
    "def test9(a,b):\n",
    "    if type(a) == list and type(b) == list:\n",
    "        a.extend(b)\n",
    "        return a\n",
    "    else:\n",
    "        return \"either of your data is not a list\""
   ]
  },
  {
   "cell_type": "code",
   "execution_count": 492,
   "id": "74106964-daef-456b-a70a-a14f8f2f36ac",
   "metadata": {},
   "outputs": [],
   "source": [
    "a = [1,2,3,4,5]\n",
    "b = [6,7,8,9,10]"
   ]
  },
  {
   "cell_type": "code",
   "execution_count": 493,
   "id": "1e5460f3-1d99-4c38-8c08-10c383de6f8b",
   "metadata": {},
   "outputs": [
    {
     "data": {
      "text/plain": [
       "[1, 2, 3, 4, 5, 6, 7, 8, 9, 10]"
      ]
     },
     "execution_count": 493,
     "metadata": {},
     "output_type": "execute_result"
    }
   ],
   "source": [
    "test9(a,b)"
   ]
  },
  {
   "cell_type": "code",
   "execution_count": 494,
   "id": "edd02f4b-498c-4724-b481-6d75c2eadf12",
   "metadata": {},
   "outputs": [
    {
     "data": {
      "text/plain": [
       "[1, 2, 3, 4, 5, 6, 7, 8, 9, 10]"
      ]
     },
     "execution_count": 494,
     "metadata": {},
     "output_type": "execute_result"
    }
   ],
   "source": [
    "a"
   ]
  },
  {
   "cell_type": "code",
   "execution_count": 495,
   "id": "012e06dc-e879-4b04-8d15-722ce332a4f2",
   "metadata": {},
   "outputs": [
    {
     "data": {
      "text/plain": [
       "[6, 7, 8, 9, 10]"
      ]
     },
     "execution_count": 495,
     "metadata": {},
     "output_type": "execute_result"
    }
   ],
   "source": [
    "b"
   ]
  },
  {
   "cell_type": "code",
   "execution_count": 496,
   "id": "58493301-a928-45d8-bc58-d23cc3d9af10",
   "metadata": {},
   "outputs": [],
   "source": [
    "n = test9([1,2,3],[4,5,6])"
   ]
  },
  {
   "cell_type": "code",
   "execution_count": 497,
   "id": "bfe2ac6c-f7f3-4b98-8a7a-d1e84dbfe0f9",
   "metadata": {},
   "outputs": [
    {
     "data": {
      "text/plain": [
       "[1, 2, 3, 4, 5, 6]"
      ]
     },
     "execution_count": 497,
     "metadata": {},
     "output_type": "execute_result"
    }
   ],
   "source": [
    "n"
   ]
  },
  {
   "cell_type": "code",
   "execution_count": 498,
   "id": "50c22e46-b0ad-46a0-812c-396f7e8a2847",
   "metadata": {},
   "outputs": [],
   "source": [
    "def test10(a):\n",
    "    \"\"\"this is a function which will help you to create a triangle with any number of rows\"\"\"\n",
    "    for i in range(a):\n",
    "        for j in range(0,i+1):\n",
    "            print(\"|KG|\",end = \"\")\n",
    "        print(\"\\r\")"
   ]
  },
  {
   "cell_type": "code",
   "execution_count": 499,
   "id": "0719d23b-fc5e-4731-a4ee-755321a25809",
   "metadata": {},
   "outputs": [
    {
     "name": "stdout",
     "output_type": "stream",
     "text": [
      "|KG|\n",
      "|KG||KG|\n",
      "|KG||KG||KG|\n",
      "|KG||KG||KG||KG|\n",
      "|KG||KG||KG||KG||KG|\n"
     ]
    }
   ],
   "source": [
    "test10(5)"
   ]
  },
  {
   "cell_type": "code",
   "execution_count": 500,
   "id": "c876fb50-c6f4-444d-8e69-a6719d1187f6",
   "metadata": {},
   "outputs": [],
   "source": [
    "def test11(a):\n",
    "    for i in range(a+1):\n",
    "        print(\"|*|\"*i)"
   ]
  },
  {
   "cell_type": "code",
   "execution_count": 501,
   "id": "8e55c004-5a99-449d-98af-95e03585e46d",
   "metadata": {},
   "outputs": [
    {
     "name": "stdout",
     "output_type": "stream",
     "text": [
      "\n",
      "|*|\n",
      "|*||*|\n",
      "|*||*||*|\n",
      "|*||*||*||*|\n",
      "|*||*||*||*||*|\n",
      "|*||*||*||*||*||*|\n",
      "|*||*||*||*||*||*||*|\n",
      "|*||*||*||*||*||*||*||*|\n",
      "|*||*||*||*||*||*||*||*||*|\n",
      "|*||*||*||*||*||*||*||*||*||*|\n",
      "|*||*||*||*||*||*||*||*||*||*||*|\n",
      "|*||*||*||*||*||*||*||*||*||*||*||*|\n",
      "|*||*||*||*||*||*||*||*||*||*||*||*||*|\n",
      "|*||*||*||*||*||*||*||*||*||*||*||*||*||*|\n",
      "|*||*||*||*||*||*||*||*||*||*||*||*||*||*||*|\n",
      "|*||*||*||*||*||*||*||*||*||*||*||*||*||*||*||*|\n",
      "|*||*||*||*||*||*||*||*||*||*||*||*||*||*||*||*||*|\n",
      "|*||*||*||*||*||*||*||*||*||*||*||*||*||*||*||*||*||*|\n",
      "|*||*||*||*||*||*||*||*||*||*||*||*||*||*||*||*||*||*||*|\n",
      "|*||*||*||*||*||*||*||*||*||*||*||*||*||*||*||*||*||*||*||*|\n",
      "|*||*||*||*||*||*||*||*||*||*||*||*||*||*||*||*||*||*||*||*||*|\n",
      "|*||*||*||*||*||*||*||*||*||*||*||*||*||*||*||*||*||*||*||*||*||*|\n",
      "|*||*||*||*||*||*||*||*||*||*||*||*||*||*||*||*||*||*||*||*||*||*||*|\n",
      "|*||*||*||*||*||*||*||*||*||*||*||*||*||*||*||*||*||*||*||*||*||*||*||*|\n",
      "|*||*||*||*||*||*||*||*||*||*||*||*||*||*||*||*||*||*||*||*||*||*||*||*||*|\n",
      "|*||*||*||*||*||*||*||*||*||*||*||*||*||*||*||*||*||*||*||*||*||*||*||*||*||*|\n",
      "|*||*||*||*||*||*||*||*||*||*||*||*||*||*||*||*||*||*||*||*||*||*||*||*||*||*||*|\n",
      "|*||*||*||*||*||*||*||*||*||*||*||*||*||*||*||*||*||*||*||*||*||*||*||*||*||*||*||*|\n",
      "|*||*||*||*||*||*||*||*||*||*||*||*||*||*||*||*||*||*||*||*||*||*||*||*||*||*||*||*||*|\n",
      "|*||*||*||*||*||*||*||*||*||*||*||*||*||*||*||*||*||*||*||*||*||*||*||*||*||*||*||*||*||*|\n"
     ]
    }
   ],
   "source": [
    "test11(30)"
   ]
  },
  {
   "cell_type": "markdown",
   "id": "4292e94d-474b-4805-9dfa-ffab9014ad6a",
   "metadata": {},
   "source": [
    "# triple quotes for creating a doc string as it is a standard practice"
   ]
  },
  {
   "cell_type": "code",
   "execution_count": 502,
   "id": "6d5e997a-54a6-43fe-9288-27ff7d1480cc",
   "metadata": {},
   "outputs": [
    {
     "name": "stdout",
     "output_type": "stream",
     "text": [
      "Help on function test10 in module __main__:\n",
      "\n",
      "test10(a)\n",
      "    this is a function which will help you to create a triangle with any number of rows\n",
      "\n"
     ]
    }
   ],
   "source": [
    "help(test10)"
   ]
  },
  {
   "cell_type": "code",
   "execution_count": 503,
   "id": "571dc48a-dfee-451c-bfb8-192c3fe68d23",
   "metadata": {},
   "outputs": [
    {
     "name": "stdout",
     "output_type": "stream",
     "text": [
      "Help on built-in function len in module builtins:\n",
      "\n",
      "len(obj, /)\n",
      "    Return the number of items in a container.\n",
      "\n"
     ]
    }
   ],
   "source": [
    "help(len)"
   ]
  },
  {
   "cell_type": "code",
   "execution_count": 504,
   "id": "4cf2cb11-9945-43b0-8cdc-d4e4644d276a",
   "metadata": {},
   "outputs": [],
   "source": [
    "# comment"
   ]
  },
  {
   "cell_type": "code",
   "execution_count": 505,
   "id": "cae7efd1-e286-4939-a921-122f73f7d8ef",
   "metadata": {},
   "outputs": [
    {
     "data": {
      "text/plain": [
       "'abc\\nabc\\nabc\\nabc\\nxyz\\nxyz\\nxyz'"
      ]
     },
     "execution_count": 505,
     "metadata": {},
     "output_type": "execute_result"
    }
   ],
   "source": [
    "\"\"\"abc\n",
    "abc\n",
    "abc\n",
    "abc\n",
    "xyz\n",
    "xyz\n",
    "xyz\"\"\""
   ]
  },
  {
   "cell_type": "markdown",
   "id": "980d2727-2cbb-4381-9bd8-ea2de6a6ef4f",
   "metadata": {},
   "source": [
    "# function 1st class homework questions."
   ]
  },
  {
   "cell_type": "code",
   "execution_count": 506,
   "id": "8fe23f7b-3db4-4617-a9ff-cd571bc821c6",
   "metadata": {},
   "outputs": [
    {
     "name": "stdout",
     "output_type": "stream",
     "text": [
      "8\n"
     ]
    }
   ],
   "source": [
    "count = 0\n",
    "s = \"kartikay\"\n",
    "for i in s:\n",
    "    count = count + 1\n",
    "print(count)"
   ]
  },
  {
   "cell_type": "code",
   "execution_count": 507,
   "id": "40a1ba1d-e81b-41c6-ada2-4d94254275bc",
   "metadata": {},
   "outputs": [],
   "source": [
    "def length(a):\n",
    "    \"\"\"this is a function to count number of characters in a string \n",
    "    but without using length function\"\"\"\n",
    "    count = 0\n",
    "    if type(a) == str:\n",
    "        for i in a:\n",
    "            count += 1\n",
    "    else:\n",
    "        return \"you have entered a wrong input\"\n",
    "    return count"
   ]
  },
  {
   "cell_type": "code",
   "execution_count": 508,
   "id": "c3bf4351-f701-4b33-a47c-4fa3b6c8f7e8",
   "metadata": {},
   "outputs": [
    {
     "data": {
      "text/plain": [
       "8"
      ]
     },
     "execution_count": 508,
     "metadata": {},
     "output_type": "execute_result"
    }
   ],
   "source": [
    "length(\"kartikay\")"
   ]
  },
  {
   "cell_type": "code",
   "execution_count": 509,
   "id": "aa39cef5-e9a7-4151-b05d-91db69b5f671",
   "metadata": {},
   "outputs": [
    {
     "data": {
      "text/plain": [
       "7"
      ]
     },
     "execution_count": 509,
     "metadata": {},
     "output_type": "execute_result"
    }
   ],
   "source": [
    "length(\"Ineuron\")"
   ]
  },
  {
   "cell_type": "code",
   "execution_count": 510,
   "id": "a03b557a-6334-4ae6-9a04-7cdf2000336d",
   "metadata": {},
   "outputs": [
    {
     "name": "stdout",
     "output_type": "stream",
     "text": [
      "Help on function length in module __main__:\n",
      "\n",
      "length(a)\n",
      "    this is a function to count number of characters in a string \n",
      "    but without using length function\n",
      "\n"
     ]
    }
   ],
   "source": [
    "help(length)"
   ]
  },
  {
   "cell_type": "code",
   "execution_count": 511,
   "id": "ccb6b2ee-909b-4fb2-8151-db805c9d0861",
   "metadata": {},
   "outputs": [
    {
     "name": "stdout",
     "output_type": "stream",
     "text": [
      "7 n\n",
      "6 o\n",
      "5 r\n",
      "4 u\n",
      "3 e\n",
      "2 n\n",
      "1 i\n"
     ]
    }
   ],
   "source": [
    "a = \"ineuron\"\n",
    "i = len(a)\n",
    "while i > 0 :\n",
    "    print(i,a[i-1])\n",
    "    i = i-1\n",
    "    "
   ]
  },
  {
   "cell_type": "code",
   "execution_count": 512,
   "id": "1eaf931b-9811-40fb-a97b-7ef01efbe3fd",
   "metadata": {},
   "outputs": [
    {
     "data": {
      "text/plain": [
       "7"
      ]
     },
     "execution_count": 512,
     "metadata": {},
     "output_type": "execute_result"
    }
   ],
   "source": [
    "len(a)"
   ]
  },
  {
   "cell_type": "code",
   "execution_count": 513,
   "id": "af26cfe9-f8e4-4769-a53e-db181f5affaf",
   "metadata": {},
   "outputs": [
    {
     "name": "stdout",
     "output_type": "stream",
     "text": [
      "palindrome\n"
     ]
    }
   ],
   "source": [
    "s  = \"tenet\"\n",
    "i = len(s) - 1\n",
    "while i > 0 :\n",
    "    if s[0:] == s[::-1]:\n",
    "        print(\"palindrome\")\n",
    "        break\n",
    "    else:\n",
    "        print(\"not a palindrome\")\n",
    "        break\n",
    "\n",
    "        i = i-1"
   ]
  },
  {
   "cell_type": "code",
   "execution_count": 514,
   "id": "412df9d4-e2b3-4372-b758-e7222bc1cb74",
   "metadata": {},
   "outputs": [
    {
     "name": "stdout",
     "output_type": "stream",
     "text": [
      "n not vowels\n",
      "o vowels\n",
      "r not vowels\n",
      "u vowels\n",
      "e vowels\n",
      "n not vowels\n",
      "i vowels\n"
     ]
    }
   ],
   "source": [
    "s = \"ineuron\"\n",
    "v = \"aeiou\"\n",
    "i = len(s) - 1\n",
    "while i >= 0:\n",
    "    if s[i] in v:\n",
    "        print(s[i],\"vowels\")\n",
    "    else:\n",
    "        print(s[i],\"not vowels\")\n",
    "    i = i - 1"
   ]
  },
  {
   "cell_type": "code",
   "execution_count": 515,
   "id": "ca6fba48-0879-4c58-96fa-5358b8e8b24f",
   "metadata": {},
   "outputs": [],
   "source": [
    "def index(s):\n",
    "    for i in range(len(s)):\n",
    "        print(i,s[i])"
   ]
  },
  {
   "cell_type": "code",
   "execution_count": 516,
   "id": "9bc7850a-70e0-49f2-954a-5c4a71e41c75",
   "metadata": {},
   "outputs": [
    {
     "name": "stdout",
     "output_type": "stream",
     "text": [
      "0 i\n",
      "1 n\n",
      "2 e\n",
      "3 u\n",
      "4 r\n",
      "5 o\n",
      "6 n\n"
     ]
    }
   ],
   "source": [
    "index(\"ineuron\")"
   ]
  },
  {
   "cell_type": "code",
   "execution_count": 517,
   "id": "082de56f-6d10-4d85-8bae-be861ea8cc45",
   "metadata": {},
   "outputs": [
    {
     "data": {
      "text/plain": [
       "[14, 10, 4, 45, 34, 1]"
      ]
     },
     "execution_count": 517,
     "metadata": {},
     "output_type": "execute_result"
    }
   ],
   "source": [
    "l = []\n",
    "d_1 = {\"ineuron\":{\"a\":14,\"b\":10,\"c\":4},\"course\":{\"d\":45,\"e\":34,\"f\":1}}\n",
    "for i in d_1.values():\n",
    "    for j in i.values():\n",
    "        l.append(j)\n",
    "l"
   ]
  },
  {
   "cell_type": "code",
   "execution_count": 518,
   "id": "d95b5628-c2ef-4719-817c-f7d5df886603",
   "metadata": {},
   "outputs": [],
   "source": [
    "def kit(d):\n",
    "    l = []\n",
    "    if d == dict:\n",
    "        for i in d.values():\n",
    "            for j in i.values():\n",
    "                l.append(j)\n",
    "        return l"
   ]
  },
  {
   "cell_type": "code",
   "execution_count": 519,
   "id": "4c2bb083-5c11-45dd-8852-22f70914ba14",
   "metadata": {},
   "outputs": [],
   "source": [
    "def test(a,b,c,d,e):\n",
    "    return a,b,c,d,e"
   ]
  },
  {
   "cell_type": "code",
   "execution_count": 520,
   "id": "a6ce89d3-0b2b-4684-892f-aa137c926a4f",
   "metadata": {},
   "outputs": [
    {
     "data": {
      "text/plain": [
       "(1, 2, 3, 4, 5)"
      ]
     },
     "execution_count": 520,
     "metadata": {},
     "output_type": "execute_result"
    }
   ],
   "source": [
    "test(1,2,3,4,5)"
   ]
  },
  {
   "cell_type": "markdown",
   "id": "e09e6180-bd7e-414c-8c91-ef8c6c19551c",
   "metadata": {},
   "source": [
    "# note"
   ]
  },
  {
   "cell_type": "code",
   "execution_count": 521,
   "id": "8c71e43e-bcb2-4fc0-b1df-12d5894c0bad",
   "metadata": {},
   "outputs": [],
   "source": [
    "def test1(*args):\n",
    "    return args"
   ]
  },
  {
   "cell_type": "code",
   "execution_count": 522,
   "id": "f4c4fd7a-406c-4891-92f8-9bee21d11d3e",
   "metadata": {},
   "outputs": [
    {
     "data": {
      "text/plain": [
       "(1,\n",
       " 2,\n",
       " 3,\n",
       " [4, 5, 6, 7],\n",
       " 'kartikay',\n",
       " 'garg',\n",
       " (1, 2, 3, 4, 5),\n",
       " {1, 2, 3, 4, 5, 6},\n",
       " (4+8j))"
      ]
     },
     "execution_count": 522,
     "metadata": {},
     "output_type": "execute_result"
    }
   ],
   "source": [
    "test1(1,2,3,[4,5,6,7],\"kartikay\",\"garg\",(1,2,3,4,5),{1,1,2,2,3,3,4,4,5,5,6},4 + 8j)"
   ]
  },
  {
   "cell_type": "code",
   "execution_count": 523,
   "id": "c4902895-e7fd-4d97-aedf-a9b0b1db9918",
   "metadata": {},
   "outputs": [],
   "source": [
    "def test2(*kartikay):\n",
    "    return kartikay"
   ]
  },
  {
   "cell_type": "code",
   "execution_count": 524,
   "id": "6f41d889-5386-4e51-aaa0-9f294c4be40c",
   "metadata": {},
   "outputs": [
    {
     "data": {
      "text/plain": [
       "(1,\n",
       " 2,\n",
       " 3,\n",
       " [4, 5, 6, 7],\n",
       " 'kartikay',\n",
       " 'garg',\n",
       " (1, 2, 3, 4, 5),\n",
       " {1, 2, 3, 4, 5, 6},\n",
       " (4+8j))"
      ]
     },
     "execution_count": 524,
     "metadata": {},
     "output_type": "execute_result"
    }
   ],
   "source": [
    "test2(1,2,3,[4,5,6,7],\"kartikay\",\"garg\",(1,2,3,4,5),{1,1,2,2,3,3,4,4,5,5,6},4 + 8j)"
   ]
  },
  {
   "cell_type": "code",
   "execution_count": 525,
   "id": "0f075079-1946-44a6-9c12-d8acdebf1a4a",
   "metadata": {},
   "outputs": [],
   "source": [
    "def test3(*sudh , a):\n",
    "    return sudh , a"
   ]
  },
  {
   "cell_type": "code",
   "execution_count": 526,
   "id": "534ab893-c76d-4687-8f36-24dd0588e068",
   "metadata": {},
   "outputs": [
    {
     "data": {
      "text/plain": [
       "((34, 56, 767), 5242)"
      ]
     },
     "execution_count": 526,
     "metadata": {},
     "output_type": "execute_result"
    }
   ],
   "source": [
    "test3(34,56,767, a = 5242)"
   ]
  },
  {
   "cell_type": "code",
   "execution_count": 527,
   "id": "d3c86e2f-43bb-4076-bad8-457e27d62d15",
   "metadata": {},
   "outputs": [],
   "source": [
    "def test4(*args,a,b,c,d):\n",
    "    return args , a,b,c,d"
   ]
  },
  {
   "cell_type": "code",
   "execution_count": 528,
   "id": "107a46af-00b4-4346-a2df-06ca66c0c9e6",
   "metadata": {},
   "outputs": [
    {
     "data": {
      "text/plain": [
       "((1, 2, 3, 4, 5), [1, 2, 3, 4, 5], (1, 2, 3, 4), {2, 3, 4, 5, 11}, 'kittu')"
      ]
     },
     "execution_count": 528,
     "metadata": {},
     "output_type": "execute_result"
    }
   ],
   "source": [
    "test4(1,2,3,4,5,a=[1,2,3,4,5],b = (1,2,3,4), c = {11,2,3,4,4,4,5},d = \"kittu\")"
   ]
  },
  {
   "cell_type": "code",
   "execution_count": 529,
   "id": "4560030c-6f55-4d3d-993b-216d52eed6e7",
   "metadata": {},
   "outputs": [],
   "source": [
    "def test5(a,*sudh,b,c):\n",
    "    return a,sudh,b,c"
   ]
  },
  {
   "cell_type": "code",
   "execution_count": 530,
   "id": "d7690fcb-5bf7-433a-a748-31d7aacbab27",
   "metadata": {},
   "outputs": [
    {
     "data": {
      "text/plain": [
       "('dcac', ([23, 4, 4, 5, 6], 3, 6336, 56, 356), 43, 242)"
      ]
     },
     "execution_count": 530,
     "metadata": {},
     "output_type": "execute_result"
    }
   ],
   "source": [
    "test5(\"dcac\",[23,4,4,5,6],3,6336,56,356,b=43,c=242)"
   ]
  },
  {
   "cell_type": "code",
   "execution_count": 531,
   "id": "764b0604-6c21-40e1-81c9-c70597aaec44",
   "metadata": {},
   "outputs": [],
   "source": [
    "def test6(*args):\n",
    "    l = []\n",
    "    for i in args:\n",
    "        if type(i) == list:\n",
    "            l.append(i)\n",
    "    return l"
   ]
  },
  {
   "cell_type": "code",
   "execution_count": 532,
   "id": "a40b9965-e344-4950-8abf-e62678d002ac",
   "metadata": {},
   "outputs": [
    {
     "data": {
      "text/plain": [
       "[[1, 2, 3, 4, 5, 6]]"
      ]
     },
     "execution_count": 532,
     "metadata": {},
     "output_type": "execute_result"
    }
   ],
   "source": [
    "test6([1,2,3,4,5,6],75,56,856,44,23,25)"
   ]
  },
  {
   "cell_type": "code",
   "execution_count": 533,
   "id": "e675d582-415d-482a-bdec-7c1dbcff33a8",
   "metadata": {},
   "outputs": [
    {
     "data": {
      "text/plain": [
       "[[1, 2, 3, 4, 5, 6], [7, 6, 5, 4, 3]]"
      ]
     },
     "execution_count": 533,
     "metadata": {},
     "output_type": "execute_result"
    }
   ],
   "source": [
    "test6([1,2,3,4,5,6],75,56,856,44,23,25,[7,6,5,4,3])"
   ]
  },
  {
   "cell_type": "code",
   "execution_count": 534,
   "id": "e604b723-0aaf-4d0f-847d-3b18145837cb",
   "metadata": {},
   "outputs": [],
   "source": [
    "d= {\"a\":[1,2,3,4,5],6:[5,4,3,2,1]}"
   ]
  },
  {
   "cell_type": "code",
   "execution_count": 535,
   "id": "f2c55754-72b5-4f19-8283-05458fa4abf9",
   "metadata": {},
   "outputs": [
    {
     "data": {
      "text/plain": [
       "[1, 2, 3, 4, 5]"
      ]
     },
     "execution_count": 535,
     "metadata": {},
     "output_type": "execute_result"
    }
   ],
   "source": [
    "d[\"a\"]"
   ]
  },
  {
   "cell_type": "code",
   "execution_count": 536,
   "id": "79f0ce3e-d335-4239-8b40-770bde7e351c",
   "metadata": {},
   "outputs": [],
   "source": [
    "def test7(**kwargs):\n",
    "    return kwargs"
   ]
  },
  {
   "cell_type": "code",
   "execution_count": 537,
   "id": "b8e27b24-7619-4ca6-83b4-d855b82b1cbe",
   "metadata": {},
   "outputs": [
    {
     "data": {
      "text/plain": [
       "{'a': 212, 'b': [31, 445, 6445, 25]}"
      ]
     },
     "execution_count": 537,
     "metadata": {},
     "output_type": "execute_result"
    }
   ],
   "source": [
    "test7(a = 212,b = [31,445,6445,25])"
   ]
  },
  {
   "cell_type": "code",
   "execution_count": 538,
   "id": "46ed2e7e-4e48-49ee-ada6-13346c9e94d5",
   "metadata": {},
   "outputs": [],
   "source": [
    "def test8(**sudh):\n",
    "    return sudh"
   ]
  },
  {
   "cell_type": "code",
   "execution_count": 539,
   "id": "78286d7d-19ec-4789-9d6b-1c5810d53125",
   "metadata": {},
   "outputs": [
    {
     "data": {
      "text/plain": [
       "{'b': 242, 'g': 34314, 'f': [134, 414, 43542, 45, 75]}"
      ]
     },
     "execution_count": 539,
     "metadata": {},
     "output_type": "execute_result"
    }
   ],
   "source": [
    "test8(b =242,g=34314,f=[134,414,43542,45,75])"
   ]
  },
  {
   "cell_type": "code",
   "execution_count": 540,
   "id": "3ec75795-6f97-46ed-b9a2-b91c0d2579f0",
   "metadata": {},
   "outputs": [],
   "source": [
    "def test9(**sudh):\n",
    "    return sudh"
   ]
  },
  {
   "cell_type": "code",
   "execution_count": 541,
   "id": "8bfa997a-985f-4521-96a4-bfe91bd56401",
   "metadata": {},
   "outputs": [
    {
     "data": {
      "text/plain": [
       "{'name': 'sudh',\n",
       " 'age': 31,\n",
       " 'phone_number': '2132314134',\n",
       " 'mail_id': 'saqsdsqq@cdcq.com',\n",
       " 'adr': 'fefffqefqfef'}"
      ]
     },
     "execution_count": 541,
     "metadata": {},
     "output_type": "execute_result"
    }
   ],
   "source": [
    "test9(name = \"sudh\",age = 31,phone_number = \"2132314134\",mail_id = \"saqsdsqq@cdcq.com\",adr = \"fefffqefqfef\")"
   ]
  },
  {
   "cell_type": "code",
   "execution_count": 542,
   "id": "c26c0886-5f80-4020-9685-67628064e823",
   "metadata": {},
   "outputs": [],
   "source": [
    "def test10(a,**sudh):\n",
    "    return sudh,a"
   ]
  },
  {
   "cell_type": "code",
   "execution_count": 543,
   "id": "1636031c-da92-4afc-b32b-0665aa3ddeab",
   "metadata": {},
   "outputs": [
    {
     "data": {
      "text/plain": [
       "({'e': 12, 'b': 31, 'c': 24}, 123)"
      ]
     },
     "execution_count": 543,
     "metadata": {},
     "output_type": "execute_result"
    }
   ],
   "source": [
    "test10(123,e= 12,b=31,c=24)"
   ]
  },
  {
   "cell_type": "code",
   "execution_count": 544,
   "id": "08eca5cd-bd23-4a8a-a12b-881928943c37",
   "metadata": {},
   "outputs": [],
   "source": [
    "def test12(a,*args,**kwargs):\n",
    "    return a,args,kwargs"
   ]
  },
  {
   "cell_type": "code",
   "execution_count": 545,
   "id": "8b8ca21b-576a-42c7-8b15-5314bc9da361",
   "metadata": {},
   "outputs": [
    {
     "data": {
      "text/plain": [
       "(23, (52, 425, 65, 35356, 636, 463), {'g': 422, 'l': 34141})"
      ]
     },
     "execution_count": 545,
     "metadata": {},
     "output_type": "execute_result"
    }
   ],
   "source": [
    "test12(23,52,425,65,35356,636,463,g=422,l=34141)"
   ]
  },
  {
   "cell_type": "markdown",
   "id": "655f868a-05bb-4e4a-b8c9-d6395810c96c",
   "metadata": {},
   "source": [
    "# lambda function : function without name"
   ]
  },
  {
   "cell_type": "code",
   "execution_count": 546,
   "id": "2d080b8f-923d-42bc-82b2-ae7685601a2a",
   "metadata": {},
   "outputs": [],
   "source": [
    "def test13(a,b):\n",
    "    return a*b"
   ]
  },
  {
   "cell_type": "code",
   "execution_count": 547,
   "id": "1ee0b8d4-bcc0-44f9-9ac8-d82840077e34",
   "metadata": {},
   "outputs": [
    {
     "data": {
      "text/plain": [
       "90"
      ]
     },
     "execution_count": 547,
     "metadata": {},
     "output_type": "execute_result"
    }
   ],
   "source": [
    "test13(10,9)"
   ]
  },
  {
   "cell_type": "code",
   "execution_count": 548,
   "id": "115f11a1-f00c-48c2-b83a-d79047ccac36",
   "metadata": {},
   "outputs": [],
   "source": [
    "a = lambda a, b : (a*b,a+b)"
   ]
  },
  {
   "cell_type": "code",
   "execution_count": 549,
   "id": "602d1309-28b2-4ee5-a529-c0944937004d",
   "metadata": {},
   "outputs": [
    {
     "data": {
      "text/plain": [
       "(6, 5)"
      ]
     },
     "execution_count": 549,
     "metadata": {},
     "output_type": "execute_result"
    }
   ],
   "source": [
    "a(2,3)"
   ]
  },
  {
   "cell_type": "code",
   "execution_count": 550,
   "id": "ae6ff5cd-132b-4ca2-892c-5d59ce4a49fe",
   "metadata": {},
   "outputs": [],
   "source": [
    "a = lambda *a:a"
   ]
  },
  {
   "cell_type": "code",
   "execution_count": 551,
   "id": "d22854b0-414b-4150-9af6-b7097781f07d",
   "metadata": {},
   "outputs": [
    {
     "data": {
      "text/plain": [
       "(1, 2, 3, 4, 5, 6)"
      ]
     },
     "execution_count": 551,
     "metadata": {},
     "output_type": "execute_result"
    }
   ],
   "source": [
    "a(1,2,3,4,5,6)"
   ]
  },
  {
   "cell_type": "code",
   "execution_count": 552,
   "id": "170766d9-5330-4b9d-93ed-4f331c4d7fba",
   "metadata": {},
   "outputs": [
    {
     "data": {
      "text/plain": [
       "function"
      ]
     },
     "execution_count": 552,
     "metadata": {},
     "output_type": "execute_result"
    }
   ],
   "source": [
    "type(a)"
   ]
  },
  {
   "cell_type": "code",
   "execution_count": 553,
   "id": "a07933bc-9a72-4503-979a-3bf1d74d251d",
   "metadata": {},
   "outputs": [],
   "source": [
    "# simple functions can be written in one line\n",
    "# for complex functions use traditional def keyword"
   ]
  },
  {
   "cell_type": "code",
   "execution_count": 554,
   "id": "4162fcc9-8196-42ca-80e3-b2a15114e601",
   "metadata": {},
   "outputs": [],
   "source": [
    "b = lambda a,b,c: (a*b*c,a+b+c)"
   ]
  },
  {
   "cell_type": "code",
   "execution_count": 555,
   "id": "cb325664-e5b3-4f4c-9118-deb14149f809",
   "metadata": {},
   "outputs": [
    {
     "data": {
      "text/plain": [
       "(6, 6)"
      ]
     },
     "execution_count": 555,
     "metadata": {},
     "output_type": "execute_result"
    }
   ],
   "source": [
    "b(1,2,3)"
   ]
  },
  {
   "cell_type": "code",
   "execution_count": 556,
   "id": "983bdcb4-92ad-49ec-9939-f40a90309c26",
   "metadata": {},
   "outputs": [],
   "source": [
    "x = lambda x : [i for i in x]"
   ]
  },
  {
   "cell_type": "code",
   "execution_count": 557,
   "id": "f260a52a-1383-432b-8249-b5145c0bf168",
   "metadata": {},
   "outputs": [
    {
     "data": {
      "text/plain": [
       "[1, 2, 3, 4, 5]"
      ]
     },
     "execution_count": 557,
     "metadata": {},
     "output_type": "execute_result"
    }
   ],
   "source": [
    "x([1,2,3,4,5])"
   ]
  },
  {
   "cell_type": "code",
   "execution_count": 558,
   "id": "dc611a74-6331-40d4-b621-e0280ae51ac2",
   "metadata": {},
   "outputs": [],
   "source": [
    "l1 = [1,2,3,4,5,6,7,8]"
   ]
  },
  {
   "cell_type": "code",
   "execution_count": 559,
   "id": "bd78230d-8c7a-4a70-b8c3-83b5c4ae95a6",
   "metadata": {},
   "outputs": [
    {
     "data": {
      "text/plain": [
       "[1, 2, 3, 4, 5, 6, 7, 8]"
      ]
     },
     "execution_count": 559,
     "metadata": {},
     "output_type": "execute_result"
    }
   ],
   "source": [
    "[i for i in l1]"
   ]
  },
  {
   "cell_type": "code",
   "execution_count": 560,
   "id": "c15ebca3-a4b3-4157-a700-8ffde8072631",
   "metadata": {},
   "outputs": [],
   "source": [
    "a = lambda **kwargs : kwargs"
   ]
  },
  {
   "cell_type": "code",
   "execution_count": 561,
   "id": "f02ce554-dd36-4d9c-b3c7-50251448e71a",
   "metadata": {},
   "outputs": [
    {
     "data": {
      "text/plain": [
       "{'a': 32, 'b': 42}"
      ]
     },
     "execution_count": 561,
     "metadata": {},
     "output_type": "execute_result"
    }
   ],
   "source": [
    "a(a = 32,b = 42)"
   ]
  },
  {
   "cell_type": "code",
   "execution_count": 562,
   "id": "c7025597-5036-4a73-9ac0-c124fc258966",
   "metadata": {},
   "outputs": [],
   "source": [
    "a = 10\n",
    "def test16(c,d):\n",
    "    return c*d"
   ]
  },
  {
   "cell_type": "code",
   "execution_count": 563,
   "id": "72d68f25-c79b-4da5-bba6-690767112732",
   "metadata": {},
   "outputs": [
    {
     "data": {
      "text/plain": [
       "500"
      ]
     },
     "execution_count": 563,
     "metadata": {},
     "output_type": "execute_result"
    }
   ],
   "source": [
    "test16(a,50)"
   ]
  },
  {
   "cell_type": "code",
   "execution_count": 564,
   "id": "82d6e3ca-5c03-4188-a881-e8373c4aea29",
   "metadata": {},
   "outputs": [
    {
     "data": {
      "text/plain": [
       "5000"
      ]
     },
     "execution_count": 564,
     "metadata": {},
     "output_type": "execute_result"
    }
   ],
   "source": [
    "test16(100,50)"
   ]
  },
  {
   "cell_type": "code",
   "execution_count": 565,
   "id": "fa74716b-3438-4a10-a105-5c1749364cbe",
   "metadata": {},
   "outputs": [],
   "source": [
    "a = 10\n",
    "def test16(c,d):\n",
    "    a = 5\n",
    "    return c*d"
   ]
  },
  {
   "cell_type": "code",
   "execution_count": 566,
   "id": "615a09d8-2bc1-4397-8352-b5dd3db3f2f3",
   "metadata": {},
   "outputs": [
    {
     "data": {
      "text/plain": [
       "500"
      ]
     },
     "execution_count": 566,
     "metadata": {},
     "output_type": "execute_result"
    }
   ],
   "source": [
    "test16(a,50)"
   ]
  },
  {
   "cell_type": "code",
   "execution_count": 567,
   "id": "b8bec1f5-3968-414d-962a-5492230f4f02",
   "metadata": {},
   "outputs": [],
   "source": [
    "a = 10 # global declaration\n",
    "def test16(c,d):\n",
    "    c = 5\n",
    "    return c*d"
   ]
  },
  {
   "cell_type": "code",
   "execution_count": 568,
   "id": "e795c1c7-72f9-4f32-8ccd-4445848f9de8",
   "metadata": {},
   "outputs": [
    {
     "data": {
      "text/plain": [
       "250"
      ]
     },
     "execution_count": 568,
     "metadata": {},
     "output_type": "execute_result"
    }
   ],
   "source": [
    "test16(10,50)"
   ]
  },
  {
   "cell_type": "code",
   "execution_count": 569,
   "id": "b9bfabd3-33a3-49c0-8d32-027509420978",
   "metadata": {},
   "outputs": [],
   "source": [
    "c = 10 # global declaration / variable\n",
    "def test16(c,d):\n",
    "    c = 5 # local declation / variable\n",
    "    return c*d"
   ]
  },
  {
   "cell_type": "code",
   "execution_count": 570,
   "id": "338d37df-e1c9-4f05-bdb7-ecfcc08084b2",
   "metadata": {},
   "outputs": [
    {
     "data": {
      "text/plain": [
       "250"
      ]
     },
     "execution_count": 570,
     "metadata": {},
     "output_type": "execute_result"
    }
   ],
   "source": [
    "test16(10,50)"
   ]
  },
  {
   "cell_type": "code",
   "execution_count": 571,
   "id": "b228a367-7f25-4fca-852e-2c54694d2703",
   "metadata": {},
   "outputs": [
    {
     "data": {
      "text/plain": [
       "10"
      ]
     },
     "execution_count": 571,
     "metadata": {},
     "output_type": "execute_result"
    }
   ],
   "source": [
    "c"
   ]
  },
  {
   "cell_type": "markdown",
   "id": "5b569796-a628-46d0-afcc-1399f0f24ab5",
   "metadata": {},
   "source": [
    "# list comprehension"
   ]
  },
  {
   "cell_type": "code",
   "execution_count": 572,
   "id": "6ff674bc-ad8a-4cbe-83c5-f7112f25dd14",
   "metadata": {},
   "outputs": [],
   "source": [
    " l = [1,2,3,4,5,6,7,8,9,10]"
   ]
  },
  {
   "cell_type": "code",
   "execution_count": 573,
   "id": "d24c916b-34f6-4fa8-ab6a-02bf82e56bfb",
   "metadata": {},
   "outputs": [
    {
     "data": {
      "text/plain": [
       "[3, 4, 5, 6, 7, 8, 9, 10, 11, 12]"
      ]
     },
     "execution_count": 573,
     "metadata": {},
     "output_type": "execute_result"
    }
   ],
   "source": [
    "[i+2for i in l] # lc"
   ]
  },
  {
   "cell_type": "code",
   "execution_count": 574,
   "id": "7aea6392-7852-4011-a948-f6082388a941",
   "metadata": {},
   "outputs": [],
   "source": [
    "a = lambda a:[i+2 for i in a] #using lambda function"
   ]
  },
  {
   "cell_type": "code",
   "execution_count": 575,
   "id": "27199909-782d-43ad-a9f1-939fb0397a33",
   "metadata": {},
   "outputs": [
    {
     "data": {
      "text/plain": [
       "[3, 4, 5, 6, 7, 8, 9, 10, 11, 12]"
      ]
     },
     "execution_count": 575,
     "metadata": {},
     "output_type": "execute_result"
    }
   ],
   "source": [
    "a(l)"
   ]
  },
  {
   "cell_type": "code",
   "execution_count": 576,
   "id": "caeabc98-fa39-4af8-b83f-53000a1daea7",
   "metadata": {},
   "outputs": [
    {
     "data": {
      "text/plain": [
       "[(1, 2),\n",
       " (4, 4),\n",
       " (9, 6),\n",
       " (16, 8),\n",
       " (25, 10),\n",
       " (36, 12),\n",
       " (49, 14),\n",
       " (64, 16),\n",
       " (81, 18),\n",
       " (100, 20)]"
      ]
     },
     "execution_count": 576,
     "metadata": {},
     "output_type": "execute_result"
    }
   ],
   "source": [
    "[(i**2,i+i)for i in l] # lc"
   ]
  },
  {
   "cell_type": "code",
   "execution_count": 577,
   "id": "ae6b259b-dbef-4c33-a32e-c76d6d9f2f1f",
   "metadata": {},
   "outputs": [
    {
     "data": {
      "text/plain": [
       "[3, 4, 5]"
      ]
     },
     "execution_count": 577,
     "metadata": {},
     "output_type": "execute_result"
    }
   ],
   "source": [
    "[i+2for i in l if i < 4] #lc"
   ]
  },
  {
   "cell_type": "code",
   "execution_count": 578,
   "id": "2d49af00-daf5-4f29-8b6d-7ca636048aee",
   "metadata": {},
   "outputs": [],
   "source": [
    "d = {1:1,2:4,3:9,4:16}"
   ]
  },
  {
   "cell_type": "code",
   "execution_count": 579,
   "id": "578f0705-854b-466b-8db9-799cce56c5bc",
   "metadata": {},
   "outputs": [
    {
     "data": {
      "text/plain": [
       "{0: 0, 1: 1, 2: 4, 3: 9, 4: 16, 5: 25, 6: 36, 7: 49, 8: 64, 9: 81}"
      ]
     },
     "execution_count": 579,
     "metadata": {},
     "output_type": "execute_result"
    }
   ],
   "source": [
    "{i:i**2 for i in range(10)}"
   ]
  },
  {
   "cell_type": "code",
   "execution_count": 580,
   "id": "5a16e07f-0bea-4543-96fa-4a4f5ba04855",
   "metadata": {},
   "outputs": [],
   "source": [
    "d1 = {}\n",
    "for i in range(10):\n",
    "    d1[i] = i**2"
   ]
  },
  {
   "cell_type": "code",
   "execution_count": 581,
   "id": "3c1c9870-ace2-48fe-806b-fb536903df99",
   "metadata": {},
   "outputs": [
    {
     "data": {
      "text/plain": [
       "{0: 0, 1: 1, 2: 4, 3: 9, 4: 16, 5: 25, 6: 36, 7: 49, 8: 64, 9: 81}"
      ]
     },
     "execution_count": 581,
     "metadata": {},
     "output_type": "execute_result"
    }
   ],
   "source": [
    "d1"
   ]
  },
  {
   "cell_type": "code",
   "execution_count": 582,
   "id": "7905ee01-982e-481b-beef-35b73519f026",
   "metadata": {},
   "outputs": [
    {
     "data": {
      "text/plain": [
       "(0, 1, 2, 3, 4, 5, 6, 7, 8, 9)"
      ]
     },
     "execution_count": 582,
     "metadata": {},
     "output_type": "execute_result"
    }
   ],
   "source": [
    "tuple(i for i in range(10))"
   ]
  },
  {
   "cell_type": "markdown",
   "id": "dd1d3c60-5267-43fc-89cc-f46e70d1041e",
   "metadata": {},
   "source": [
    "# generator , iterator, iterable (important for interview)"
   ]
  },
  {
   "cell_type": "code",
   "execution_count": 583,
   "id": "5f257e9f-267a-4a62-9c4d-eabb9c26d877",
   "metadata": {},
   "outputs": [],
   "source": [
    "#a = 56 # integer is not an iterable object and an iterator object\n",
    "#for i in a:\n",
    " #   print(i)"
   ]
  },
  {
   "cell_type": "code",
   "execution_count": 584,
   "id": "30add8b3-2f1b-4de2-a2d9-75632ba2a697",
   "metadata": {},
   "outputs": [
    {
     "name": "stdout",
     "output_type": "stream",
     "text": [
      "s\n",
      "u\n",
      "d\n",
      "h\n"
     ]
    }
   ],
   "source": [
    "s = \"sudh\" # string is an iterable object but not an iterator object\n",
    "for i in s: \n",
    "    print(i)"
   ]
  },
  {
   "cell_type": "code",
   "execution_count": 585,
   "id": "64f007fa-f892-45ce-a3e9-b1ddb2292ccd",
   "metadata": {},
   "outputs": [],
   "source": [
    "#next(s)"
   ]
  },
  {
   "cell_type": "code",
   "execution_count": 586,
   "id": "db0cfc5c-3000-41d5-aaac-45aee3d576a8",
   "metadata": {},
   "outputs": [],
   "source": [
    "#next(a)"
   ]
  },
  {
   "cell_type": "code",
   "execution_count": 587,
   "id": "a0307e3f-20ac-4966-bf75-47c3c4e2bf3a",
   "metadata": {},
   "outputs": [],
   "source": [
    "b = iter(s)"
   ]
  },
  {
   "cell_type": "code",
   "execution_count": 588,
   "id": "156472e2-f899-4367-bd30-6a48e1461e20",
   "metadata": {},
   "outputs": [
    {
     "data": {
      "text/plain": [
       "<str_iterator at 0x7ff0ba6545e0>"
      ]
     },
     "execution_count": 588,
     "metadata": {},
     "output_type": "execute_result"
    }
   ],
   "source": [
    "b"
   ]
  },
  {
   "cell_type": "code",
   "execution_count": 589,
   "id": "19e0a149-38aa-4a4c-8801-3f80fb4cad13",
   "metadata": {},
   "outputs": [
    {
     "data": {
      "text/plain": [
       "'s'"
      ]
     },
     "execution_count": 589,
     "metadata": {},
     "output_type": "execute_result"
    }
   ],
   "source": [
    "next(b)"
   ]
  },
  {
   "cell_type": "code",
   "execution_count": 590,
   "id": "f1704f36-97a2-406e-b104-d6adb4dd4559",
   "metadata": {},
   "outputs": [
    {
     "data": {
      "text/plain": [
       "'u'"
      ]
     },
     "execution_count": 590,
     "metadata": {},
     "output_type": "execute_result"
    }
   ],
   "source": [
    "next(b)"
   ]
  },
  {
   "cell_type": "code",
   "execution_count": 591,
   "id": "87e1f9ca-56cb-480f-af85-0e64833a58d8",
   "metadata": {},
   "outputs": [
    {
     "data": {
      "text/plain": [
       "'d'"
      ]
     },
     "execution_count": 591,
     "metadata": {},
     "output_type": "execute_result"
    }
   ],
   "source": [
    "next(b)"
   ]
  },
  {
   "cell_type": "code",
   "execution_count": 592,
   "id": "ed9cddc2-9a95-4446-b946-660e86e2089e",
   "metadata": {},
   "outputs": [
    {
     "data": {
      "text/plain": [
       "'h'"
      ]
     },
     "execution_count": 592,
     "metadata": {},
     "output_type": "execute_result"
    }
   ],
   "source": [
    "next(b)"
   ]
  },
  {
   "cell_type": "code",
   "execution_count": 593,
   "id": "7291ac9a-74d3-415e-8343-60b411b5300f",
   "metadata": {},
   "outputs": [
    {
     "name": "stdout",
     "output_type": "stream",
     "text": [
      "c\n",
      "d\n",
      "a\n",
      "c\n",
      "c\n"
     ]
    }
   ],
   "source": [
    "s = \"cdacc\"\n",
    "for i in s:\n",
    "    print(i)"
   ]
  },
  {
   "cell_type": "code",
   "execution_count": 594,
   "id": "8c348de1-f934-4263-bd35-6289f11af178",
   "metadata": {},
   "outputs": [],
   "source": [
    "s = iter(s)"
   ]
  },
  {
   "cell_type": "code",
   "execution_count": 595,
   "id": "4ec63768-75f4-4266-89fe-8240cab7f0f5",
   "metadata": {},
   "outputs": [
    {
     "data": {
      "text/plain": [
       "'c'"
      ]
     },
     "execution_count": 595,
     "metadata": {},
     "output_type": "execute_result"
    }
   ],
   "source": [
    "next(s)"
   ]
  },
  {
   "cell_type": "code",
   "execution_count": 596,
   "id": "29cfab12-138b-409c-bdfe-3edc426814c4",
   "metadata": {},
   "outputs": [
    {
     "data": {
      "text/plain": [
       "'d'"
      ]
     },
     "execution_count": 596,
     "metadata": {},
     "output_type": "execute_result"
    }
   ],
   "source": [
    "next(s)"
   ]
  },
  {
   "cell_type": "code",
   "execution_count": 597,
   "id": "917c674e-77d0-4b0b-97dd-8944493be405",
   "metadata": {},
   "outputs": [
    {
     "data": {
      "text/plain": [
       "'a'"
      ]
     },
     "execution_count": 597,
     "metadata": {},
     "output_type": "execute_result"
    }
   ],
   "source": [
    "next(s)"
   ]
  },
  {
   "cell_type": "code",
   "execution_count": 598,
   "id": "e9a8f3df-018c-4db8-bf46-2c71c0700923",
   "metadata": {},
   "outputs": [
    {
     "data": {
      "text/plain": [
       "'c'"
      ]
     },
     "execution_count": 598,
     "metadata": {},
     "output_type": "execute_result"
    }
   ],
   "source": [
    "next(s)"
   ]
  },
  {
   "cell_type": "code",
   "execution_count": 599,
   "id": "bd9037b1-b4cb-4098-a791-fea4d2d55856",
   "metadata": {},
   "outputs": [
    {
     "data": {
      "text/plain": [
       "'c'"
      ]
     },
     "execution_count": 599,
     "metadata": {},
     "output_type": "execute_result"
    }
   ],
   "source": [
    "next(s)"
   ]
  },
  {
   "cell_type": "code",
   "execution_count": 600,
   "id": "aa4a9809-e6cd-4581-bdb2-5d294f5d9970",
   "metadata": {},
   "outputs": [],
   "source": [
    "#next(s)"
   ]
  },
  {
   "cell_type": "code",
   "execution_count": 601,
   "id": "a3d97571-2c48-46d2-80cb-10074a65d65c",
   "metadata": {},
   "outputs": [],
   "source": [
    "l = [1,2,3,4]"
   ]
  },
  {
   "cell_type": "code",
   "execution_count": 602,
   "id": "5807ff89-2174-4372-8756-b0a08444bc9c",
   "metadata": {},
   "outputs": [],
   "source": [
    "d = iter(l)"
   ]
  },
  {
   "cell_type": "code",
   "execution_count": 603,
   "id": "b7860def-3033-46cd-a9c8-4a3b622066c9",
   "metadata": {},
   "outputs": [
    {
     "data": {
      "text/plain": [
       "1"
      ]
     },
     "execution_count": 603,
     "metadata": {},
     "output_type": "execute_result"
    }
   ],
   "source": [
    "next(d)"
   ]
  },
  {
   "cell_type": "code",
   "execution_count": 604,
   "id": "624f385d-72cd-484d-be3c-5eb9bfe900f7",
   "metadata": {},
   "outputs": [
    {
     "data": {
      "text/plain": [
       "2"
      ]
     },
     "execution_count": 604,
     "metadata": {},
     "output_type": "execute_result"
    }
   ],
   "source": [
    "next(d)"
   ]
  },
  {
   "cell_type": "code",
   "execution_count": 605,
   "id": "9a154d49-e4fc-4a60-97a6-055e07649f9b",
   "metadata": {},
   "outputs": [
    {
     "data": {
      "text/plain": [
       "<list_iterator at 0x7ff0ba67d210>"
      ]
     },
     "execution_count": 605,
     "metadata": {},
     "output_type": "execute_result"
    }
   ],
   "source": [
    "d"
   ]
  },
  {
   "cell_type": "code",
   "execution_count": 606,
   "id": "8950b195-447e-451f-b427-e59e1c57fcff",
   "metadata": {},
   "outputs": [
    {
     "data": {
      "text/plain": [
       "3"
      ]
     },
     "execution_count": 606,
     "metadata": {},
     "output_type": "execute_result"
    }
   ],
   "source": [
    "next(d)"
   ]
  },
  {
   "cell_type": "code",
   "execution_count": 607,
   "id": "48b75f7b-8c23-4398-9128-a3609eef567e",
   "metadata": {},
   "outputs": [
    {
     "data": {
      "text/plain": [
       "4"
      ]
     },
     "execution_count": 607,
     "metadata": {},
     "output_type": "execute_result"
    }
   ],
   "source": [
    "next(d)"
   ]
  },
  {
   "cell_type": "code",
   "execution_count": null,
   "id": "7211ef28-952f-4404-b9c8-f215ecb4d806",
   "metadata": {},
   "outputs": [],
   "source": []
  }
 ],
 "metadata": {
  "kernelspec": {
   "display_name": "Python 3 (ipykernel)",
   "language": "python",
   "name": "python3"
  },
  "language_info": {
   "codemirror_mode": {
    "name": "ipython",
    "version": 3
   },
   "file_extension": ".py",
   "mimetype": "text/x-python",
   "name": "python",
   "nbconvert_exporter": "python",
   "pygments_lexer": "ipython3",
   "version": "3.10.6"
  }
 },
 "nbformat": 4,
 "nbformat_minor": 5
}
